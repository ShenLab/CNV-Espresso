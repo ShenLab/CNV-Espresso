{
 "cells": [
  {
   "cell_type": "code",
   "execution_count": null,
   "metadata": {},
   "outputs": [],
   "source": [
    "def loadImgs(cnv_list, img_width, img_height):\n",
    "    cnv_np = np.zeros((len(cnv_list), img_width, img_height, 3))\n",
    "    for index, each_cnv in enumerate(cnv_list):\n",
    "        if index % 100 == 1:\n",
    "            time_stamp = datetime.datetime.now()\n",
    "            time_str   = time_stamp.strftime('%Y.%m.%d-%H:%M:%S')\n",
    "            print(\"[%s] Processing %d %s...\"%(time_str, index, each_cnv))\n",
    "        try:\n",
    "            cnv_img = resizeCropImg(each_cnv, img_width, img_height)\n",
    "            cnv_np[index] = tf.keras.preprocessing.image.img_to_array(cnv_img)\n",
    "        except:\n",
    "            cnv_np[index] = None\n",
    "    time_stamp = datetime.datetime.now()\n",
    "    time_str   = time_stamp.strftime('%Y.%m.%d-%H:%M:%S')\n",
    "    print(\"[%s] Done %d.\"%(time_str, index))\n",
    "    return cnv_np"
   ]
  }
 ],
 "metadata": {
  "kernelspec": {
   "display_name": "Python 3",
   "language": "python",
   "name": "python3"
  },
  "language_info": {
   "codemirror_mode": {
    "name": "ipython",
    "version": 3
   },
   "file_extension": ".py",
   "mimetype": "text/x-python",
   "name": "python",
   "nbconvert_exporter": "python",
   "pygments_lexer": "ipython3",
   "version": "3.8.3"
  },
  "toc": {
   "base_numbering": 1,
   "nav_menu": {},
   "number_sections": true,
   "sideBar": true,
   "skip_h1_title": false,
   "title_cell": "Table of Contents",
   "title_sidebar": "Contents",
   "toc_cell": false,
   "toc_position": {},
   "toc_section_display": true,
   "toc_window_display": false
  },
  "varInspector": {
   "cols": {
    "lenName": 16,
    "lenType": 16,
    "lenVar": 40
   },
   "kernels_config": {
    "python": {
     "delete_cmd_postfix": "",
     "delete_cmd_prefix": "del ",
     "library": "var_list.py",
     "varRefreshCmd": "print(var_dic_list())"
    },
    "r": {
     "delete_cmd_postfix": ") ",
     "delete_cmd_prefix": "rm(",
     "library": "var_list.r",
     "varRefreshCmd": "cat(var_dic_list()) "
    }
   },
   "types_to_exclude": [
    "module",
    "function",
    "builtin_function_or_method",
    "instance",
    "_Feature"
   ],
   "window_display": false
  }
 },
 "nbformat": 4,
 "nbformat_minor": 4
}
