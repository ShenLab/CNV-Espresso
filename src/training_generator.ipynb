{
 "cells": [
  {
   "cell_type": "markdown",
   "metadata": {},
   "source": [
    "# CNN training"
   ]
  },
  {
   "cell_type": "code",
   "execution_count": 74,
   "metadata": {},
   "outputs": [
    {
     "name": "stdout",
     "output_type": "stream",
     "text": [
      "Tensorflow version 2.2.0\n"
     ]
    }
   ],
   "source": [
    "import os\n",
    "import re\n",
    "import pdb\n",
    "import copy\n",
    "import random\n",
    "import datetime\n",
    "import tensorflow as tf\n",
    "print(\"Tensorflow version \" + tf.__version__)\n",
    "import pandas as pd\n",
    "\n",
    "import PIL\n",
    "from PIL import Image\n",
    "import numpy as np\n",
    "from matplotlib import pyplot as plt\n",
    "import seaborn as sns\n",
    "\n",
    "from sklearn.model_selection import train_test_split\n",
    "from sklearn.metrics import roc_curve\n",
    "from sklearn.metrics import auc\n",
    "from sklearn.metrics import classification_report\n",
    "from sklearn import metrics\n",
    "from sklearn.model_selection import KFold, StratifiedKFold\n",
    "from sklearn.utils import shuffle\n",
    "import sklearn\n",
    "\n",
    "from __future__ import print_function\n",
    "#import keras\n",
    "from tensorflow import keras\n",
    "import keras.preprocessing\n",
    "from keras.models import Sequential\n",
    "from keras.utils import to_categorical\n",
    "from keras.layers import Dense, Conv2D, MaxPooling2D, Dropout, Flatten\n",
    "from keras.models import load_model\n",
    "from keras.callbacks import EarlyStopping\n",
    "from keras.callbacks import ModelCheckpoint\n",
    "from keras import backend\n"
   ]
  },
  {
   "cell_type": "code",
   "execution_count": 14,
   "metadata": {},
   "outputs": [
    {
     "data": {
      "text/plain": [
       "[PhysicalDevice(name='/physical_device:GPU:0', device_type='GPU')]"
      ]
     },
     "execution_count": 14,
     "metadata": {},
     "output_type": "execute_result"
    }
   ],
   "source": [
    "os.environ['CUDA_VISIBLE_DEVICES'] = \"2\"\n",
    "physical_devices = tf.config.experimental.list_physical_devices('GPU') \n",
    "physical_devices"
   ]
  },
  {
   "cell_type": "markdown",
   "metadata": {},
   "source": [
    "# Functions"
   ]
  },
  {
   "cell_type": "code",
   "execution_count": 15,
   "metadata": {},
   "outputs": [],
   "source": [
    "def showDateTime():\n",
    "    time_stamp = datetime.datetime.now()\n",
    "    print(time_stamp.strftime('%Y.%m.%d-%H:%M:%S'))"
   ]
  },
  {
   "cell_type": "code",
   "execution_count": 16,
   "metadata": {},
   "outputs": [],
   "source": [
    "def fileToList(file_name):\n",
    "    result_list = [] \n",
    "    fp = open(file_name)\n",
    "    for row in fp:\n",
    "        row = row.strip()\n",
    "        row = row.replace(\"\\\"\",\"\")\n",
    "        row = re.split('\\t',row)\n",
    "        #row = re.split(r'[;,\\s]\\s*', row)\n",
    "        result_list.append(row)\n",
    "    fp.close()  \n",
    "    return result_list "
   ]
  },
  {
   "cell_type": "code",
   "execution_count": 17,
   "metadata": {},
   "outputs": [],
   "source": [
    "def output_to_file(results,file_name):\n",
    "#    path = os.getcwd() \n",
    "    path = os.path.dirname(file_name)\n",
    "\n",
    "    if not os.path.exists(path):\n",
    "        os.mkdir(path)\n",
    "\n",
    "#    file_name = path + '/' + file_name\n",
    "    fp = open(file_name,'w')\n",
    "    if type(results) == list:\n",
    "        for result_line in results:\n",
    "            if type(result_line) != list:\n",
    "                fp.write(str(result_line))\n",
    "            else:\n",
    "                for each_one in result_line:\n",
    "                    fp.write(str(each_one))\n",
    "                    fp.write('\\t')\n",
    "            fp.write('\\n')\n",
    "\n",
    "    elif type(results) == dict:\n",
    "        for key in results.keys():\n",
    "            for result_line in results[key]:\n",
    "                for each_one in result_line:\n",
    "                    fp.write(str(each_one))\n",
    "                    fp.write('\\t')\n",
    "                fp.write('\\n')\n",
    "    elif type(results) == np.ndarray:\n",
    "        np.savetxt(file_name, results, fmt='%s', delimiter='\\t')\n",
    "    else:\n",
    "        print ('unsupport results type!')\n",
    "    print ('The variable has already output to %s'%file_name)\n",
    "    fp.close()"
   ]
  },
  {
   "cell_type": "code",
   "execution_count": 18,
   "metadata": {},
   "outputs": [],
   "source": [
    "def loadImgs(cnv_list, img_width, img_height):\n",
    "    cnv_np = np.zeros((len(cnv_list), img_width, img_height, 3))\n",
    "    for index, each_cnv in enumerate(cnv_list):\n",
    "        if index % 1000 == 1:\n",
    "            time_stamp = datetime.datetime.now()\n",
    "            time_str   = time_stamp.strftime('%Y.%m.%d-%H:%M:%S')\n",
    "            print(\"[%s] Processing %d ...\"%(time_str, index))\n",
    "        cnv_img = resizeCropImg(each_cnv, img_width, img_height)\n",
    "        cnv_np[index] = tf.keras.preprocessing.image.img_to_array(cnv_img)\n",
    "    time_stamp = datetime.datetime.now()\n",
    "    time_str   = time_stamp.strftime('%Y.%m.%d-%H:%M:%S')\n",
    "    print(\"[%s] Done %d.\"%(time_str, index))\n",
    "    return cnv_np"
   ]
  },
  {
   "cell_type": "code",
   "execution_count": 19,
   "metadata": {},
   "outputs": [],
   "source": [
    "def recall_m(y_true, y_pred):\n",
    "    true_positives = keras.backend.sum(keras.backend.round(keras.backend.clip(y_true * y_pred, 0, 1)))\n",
    "    possible_positives = keras.backend.sum(keras.backend.round(keras.backend.clip(y_true, 0, 1)))\n",
    "    recall = true_positives / (possible_positives + keras.backend.epsilon())\n",
    "    return recall\n",
    "\n",
    "def precision_m(y_true, y_pred):\n",
    "    true_positives = keras.backend.sum(keras.backend.round(keras.backend.clip(y_true * y_pred, 0, 1)))\n",
    "    predicted_positives = keras.backend.sum(keras.backend.round(keras.backend.clip(y_pred, 0, 1)))\n",
    "    precision = true_positives / (predicted_positives + keras.backend.epsilon())\n",
    "    return precision\n",
    "\n",
    "def f1_m(y_true, y_pred):\n",
    "    precision = precision_m(y_true, y_pred)\n",
    "    recall = recall_m(y_true, y_pred)\n",
    "    return 2*((precision*recall)/(precision+recall+keras.backend.epsilon()))\n",
    "\n",
    "#ref: https://datascience.stackexchange.com/questions/45165/how-to-get-accuracy-f1-precision-and-recall-for-a-keras-model"
   ]
  },
  {
   "cell_type": "code",
   "execution_count": 20,
   "metadata": {},
   "outputs": [],
   "source": [
    "def cnn_model(model_name, nClasses):\n",
    "    if model_name == \"CNN_model\":\n",
    "        model = Sequential()\n",
    "        # The first two layers with 32 filters of window size 3x3\n",
    "        model.add(Conv2D(32, (3, 3), padding='same', activation='relu', input_shape=(224, 224, 3)))\n",
    "        model.add(Conv2D(32, (3, 3), activation='relu'))\n",
    "        model.add(MaxPooling2D(pool_size=(2, 2)))\n",
    "        model.add(Dropout(0.25))\n",
    "\n",
    "        model.add(Conv2D(64, (3, 3), padding='same', activation='relu'))\n",
    "        model.add(Conv2D(64, (3, 3), activation='relu'))\n",
    "        model.add(MaxPooling2D(pool_size=(2, 2)))\n",
    "        model.add(Dropout(0.25))\n",
    "\n",
    "        model.add(Conv2D(64, (3, 3), padding='same', activation='relu'))\n",
    "        model.add(Conv2D(64, (3, 3), activation='relu'))\n",
    "        model.add(MaxPooling2D(pool_size=(2, 2)))\n",
    "        model.add(Dropout(0.25))\n",
    "\n",
    "        model.add(Flatten())\n",
    "        model.add(Dense(512, activation='relu'))\n",
    "        model.add(Dropout(0.5))\n",
    "        model.add(Dense(nClasses, activation='softmax'))\n",
    "        \n",
    "        #opt = keras.optimizers.Adam(learning_rate=0.01)\n",
    "        #The learning rate. Defaults to 0.001\n",
    "        model.compile(optimizer=tf.keras.optimizers.RMSprop(learning_rate=0.0001), loss='categorical_crossentropy',  metrics=['accuracy', f1_m, precision_m, recall_m])\n",
    "        return model\n",
    "    \n",
    "    elif model_name == \"MobileNet_v1\":\n",
    "        model = tf.keras.applications.MobileNet(\n",
    "                    input_shape=None,\n",
    "                    alpha=1.0,\n",
    "                    depth_multiplier=1,\n",
    "                    dropout=0.001,\n",
    "                    include_top=True,\n",
    "                    weights=\"imagenet\",\n",
    "                    input_tensor=None,\n",
    "                    pooling=None,\n",
    "                    classes=1000,\n",
    "                    classifier_activation=\"softmax\"\n",
    "                )\n",
    "        ## self added FC layer        \n",
    "        new_model = Sequential()\n",
    "        new_model.add(model)\n",
    "        new_model.add(Flatten())\n",
    "        new_model.add(Dense(512,activation='relu'))\n",
    "        new_model.add(Dropout(0.5))\n",
    "        new_model.add(Dense(nClasses, activation='softmax'))\n",
    "\n",
    "        new_model.compile(loss='categorical_crossentropy', metrics=['accuracy', f1_m, precision_m, recall_m])\n",
    "        return new_model\n",
    "    \n",
    "    elif model_name == 'ResNet50':\n",
    "        model = tf.keras.applications.ResNet50(\n",
    "                include_top=True,\n",
    "                weights=\"imagenet\",\n",
    "                input_tensor=None,\n",
    "                input_shape=None,\n",
    "                pooling=None,\n",
    "                classes=1000\n",
    "            )\n",
    "        ## self added FC layer        \n",
    "        new_model = Sequential()\n",
    "        new_model.add(model)\n",
    "        new_model.add(Flatten())\n",
    "        new_model.add(Dense(512,activation='relu'))\n",
    "        new_model.add(Dropout(0.5))\n",
    "        new_model.add(Dense(nClasses, activation='softmax'))\n",
    "\n",
    "        new_model.compile(loss='categorical_crossentropy', metrics=['accuracy', f1_m, precision_m, recall_m])\n",
    "        return new_model\n",
    "    \n",
    "    else:\n",
    "        print(\"[Error] No this model%s:\"%model_name)\n",
    "        pdb.set_trace()"
   ]
  },
  {
   "cell_type": "code",
   "execution_count": 21,
   "metadata": {},
   "outputs": [],
   "source": [
    "def pred_roc_data(model, img, label_one_hot):\n",
    "    pred_keras = model.predict(img).ravel() # ravel(): Flatten the array\n",
    "    fpr_keras, tpr_keras, thresholds_keras = roc_curve(label_one_hot.ravel(), pred_keras, drop_intermediate=False) \n",
    "    auc_keras = auc(fpr_keras, tpr_keras)\n",
    "    return fpr_keras, tpr_keras, thresholds_keras, auc_keras"
   ]
  },
  {
   "cell_type": "code",
   "execution_count": 22,
   "metadata": {},
   "outputs": [],
   "source": [
    "def output_model_metrics(model_name, loss, accuracy, f1_score, precision, recall, output_file):\n",
    "    model_metric_list = []\n",
    "    model_metric_list.append(model_name)\n",
    "    model_metric_list.append([\"loss:\", loss]) \n",
    "    model_metric_list.append([\"accuracy:\", accuracy])\n",
    "    model_metric_list.append([\"precision:\", precision])\n",
    "    model_metric_list.append([\"recall:\", recall])\n",
    "    model_metric_list.append([\"f1_score:\", f1_score])\n",
    "    output_to_file(model_metric_list, output_file)"
   ]
  },
  {
   "cell_type": "code",
   "execution_count": 23,
   "metadata": {},
   "outputs": [],
   "source": [
    "# image functions\n",
    "def loadImg(img_file):\n",
    "    img = Image.open(img_file)\n",
    "    img = img.convert(\"RGB\")\n",
    "    return img\n",
    "\n",
    "def img2Numpy(img):\n",
    "    return np.array(img)\n",
    "\n",
    "def loadImg2Numpy(img_file):\n",
    "    img = Image.open(img_file)\n",
    "    img = img.convert(\"RGB\")\n",
    "    return np.array(img)\n",
    "\n",
    "def resizeCropImg(image, target_width, target_height):\n",
    "    width, height = image.size\n",
    "    left   = width*0.12\n",
    "    top    = height*0.12\n",
    "    right  = width*0.88\n",
    "    bottom = height*0.88\n",
    "    image = image.crop((left, top, right, bottom))\n",
    "    image = image.resize((target_width, target_height)) # resize will effect the color change function. don't know why.\n",
    "#     image = image.convert(\"RGB\")\n",
    "    return image\n",
    "\n",
    "def changeImgColor(img, old_color, new_color):\n",
    "    img_data = img.getdata()\n",
    "    new_image_list = []\n",
    "    for item in img_data:\n",
    "        if item == old_color:\n",
    "            item = new_color\n",
    "        new_image_list.append(item)\n",
    "    img_np = np.array(new_image_list)\n",
    "    img_np = img_np.reshape(img.size[0],img.size[1],3)\n",
    "    return img_np\n",
    "\n",
    "def changeImgColor_bak(img_np, old_color, new_color):\n",
    "    img = Image.open(img_file)\n",
    "    img = img.convert(\"RGB\")\n",
    "    img_data = img.getdata()\n",
    "    new_image_list = []\n",
    "    for item in img_data:\n",
    "        if item == old_color:\n",
    "            item = new_color\n",
    "        new_image_list.append(item)\n",
    "    new_img_np = np.array(new_image_list).reshape(img.size[0], img.size[1], 3)\n",
    "    return new_img_np\n",
    "\n",
    "def showImg(img_data):\n",
    "    if type(img_data) is list or type(img_data) is str:\n",
    "        image = tf.keras.preprocessing.image.load_img(img_data)\n",
    "        plt.imshow(image)\n",
    "    if type(img_data) is np.ndarray:\n",
    "        image = tf.keras.preprocessing.image.array_to_img(img_data)\n",
    "        plt.imshow(image)\n",
    "    if type(img_data) is PIL.Image.Image:\n",
    "        plt.imshow(img_data)"
   ]
  },
  {
   "cell_type": "markdown",
   "metadata": {},
   "source": [
    "# Processing"
   ]
  },
  {
   "cell_type": "code",
   "execution_count": 24,
   "metadata": {},
   "outputs": [],
   "source": [
    "img_width, img_height = 224, 224\n",
    "num_classes = 3"
   ]
  },
  {
   "cell_type": "markdown",
   "metadata": {},
   "source": [
    "- For three classes"
   ]
  },
  {
   "cell_type": "code",
   "execution_count": 8,
   "metadata": {},
   "outputs": [],
   "source": [
    "# ## For splited rare CNVs\n",
    "cnv_path_file = '/home/rt2776/cnv_espresso/images_rare_3classes/0-split_cnv_file.list'\n",
    "#cnv_path_list = fileToList(cnv_path_file)"
   ]
  },
  {
   "cell_type": "code",
   "execution_count": 68,
   "metadata": {},
   "outputs": [],
   "source": [
    "cnv_path_df = pd.read_csv(cnv_path_file, header = None, sep='\\t')\n",
    "cnv_path_df.columns = ['path','label']\n",
    "cnv_path_np = np.array(cnv_path_df['path'])\n",
    "cnv_label_np = cnv_path_df['label']"
   ]
  },
  {
   "cell_type": "code",
   "execution_count": 69,
   "metadata": {},
   "outputs": [],
   "source": [
    "cnv_label_one_hot = to_categorical(cnv_label_np)"
   ]
  },
  {
   "cell_type": "code",
   "execution_count": 107,
   "metadata": {},
   "outputs": [
    {
     "data": {
      "text/plain": [
       "(array(['/home/rt2776/cnv_espresso/images_rare_3classes/false_del_splits/100_SP0004564_12_31103576_31117216_False_DEL_8tgs_8wins_splits2_1.png',\n",
       "        '/home/rt2776/cnv_espresso/images_rare_3classes/false_del_splits/100_SP0004564_12_31103576_31117216_False_DEL_8tgs_8wins_splits2_2.png',\n",
       "        '/home/rt2776/cnv_espresso/images_rare_3classes/false_del_splits/1011_SP0030822_12_31103576_31117216_False_DEL_8tgs_8wins_splits2_1.png',\n",
       "        ...,\n",
       "        '/home/rt2776/cnv_espresso/images_rare_3classes/true_dup_splits/9_SP0000285_15_32030594_32163335_True_DUP_9tgs_9wins_splits3_1.png',\n",
       "        '/home/rt2776/cnv_espresso/images_rare_3classes/true_dup_splits/9_SP0000285_15_32030594_32163335_True_DUP_9tgs_9wins_splits3_2.png',\n",
       "        '/home/rt2776/cnv_espresso/images_rare_3classes/true_dup_splits/9_SP0000285_15_32030594_32163335_True_DUP_9tgs_9wins_splits3_3.png'],\n",
       "       dtype=object),\n",
       " array([[0., 1., 0.],\n",
       "        [0., 1., 0.],\n",
       "        [0., 1., 0.],\n",
       "        ...,\n",
       "        [0., 0., 1.],\n",
       "        [0., 0., 1.],\n",
       "        [0., 0., 1.]], dtype=float32))"
      ]
     },
     "execution_count": 107,
     "metadata": {},
     "output_type": "execute_result"
    }
   ],
   "source": [
    "cnv_path_np, cnv_label_one_hot"
   ]
  },
  {
   "cell_type": "code",
   "execution_count": 13,
   "metadata": {},
   "outputs": [],
   "source": [
    "color_green = (0,255,0) #green\n",
    "color_red   = (255,0,0) #red\n",
    "color_blue  = (0,0,255) #blue"
   ]
  },
  {
   "cell_type": "code",
   "execution_count": 14,
   "metadata": {},
   "outputs": [
    {
     "name": "stdout",
     "output_type": "stream",
     "text": [
      "2\n"
     ]
    },
    {
     "data": {
      "image/png": "[encoded data removed]",
      "text/plain": [
       "<Figure size 432x288 with 1 Axes>"
      ]
     },
     "metadata": {
      "needs_background": "light"
     },
     "output_type": "display_data"
    }
   ],
   "source": [
    "i=30941+1\n",
    "img = loadImg(cnv_path_list[i][0])\n",
    "print(cnv_path_list[i][1])\n",
    "showImg(img)"
   ]
  },
  {
   "cell_type": "code",
   "execution_count": 15,
   "metadata": {},
   "outputs": [
    {
     "data": {
      "image/png": "[encoded data removed]",
      "text/plain": [
       "<Figure size 432x288 with 1 Axes>"
      ]
     },
     "metadata": {
      "needs_background": "light"
     },
     "output_type": "display_data"
    }
   ],
   "source": [
    "img = resizeCropImg(img, img_width, img_height)\n",
    "showImg(img)"
   ]
  },
  {
   "cell_type": "code",
   "execution_count": 114,
   "metadata": {},
   "outputs": [],
   "source": [
    "def process_line(line):\n",
    "    line = line.strip('\\n')\n",
    "    line = line.split('\\t')\n",
    "    return line\n",
    "        \n",
    "def norm_img_label(img_np, label):\n",
    "    # Change to float datatype\n",
    "    img_np = img_np.astype('float32')\n",
    "    # Scale the data to lie between 0 to 1\n",
    "    img_np /= 255\n",
    "    # Change the labels from integer to categorical data\n",
    "#     label_one_hot = to_categorical(label, num_classes)\n",
    "    label_one_hot = label\n",
    "    return img_np, label_one_hot\n",
    "\n",
    "def generate_arrays_from_file(path, label, batch_size):\n",
    "    batch_count = 0\n",
    "    img_file_list, img_np_list, label_one_hot_list = [], [], []\n",
    "    while True:\n",
    "#         with open(path) as f:        \n",
    "        for line in zip(path, label):\n",
    "            batch_count += 1\n",
    "            # load img and label path from file\n",
    "#             img_file, label = process_line(line)\n",
    "            img_file, label = line\n",
    "            # load img\n",
    "            img = loadImg(img_file)\n",
    "            img = resizeCropImg(img, img_width, img_height)\n",
    "            img_np = img2Numpy(img)\n",
    "            # normlization\n",
    "            img_np, label_one_hot = norm_img_label(img_np, label) \n",
    "\n",
    "            # append\n",
    "            img_file_list.append(img_file)\n",
    "            img_np_list.append(img_np)\n",
    "            label_one_hot_list.append(label_one_hot)\n",
    "\n",
    "            if batch_count >= batch_size:\n",
    "                imgs_np = np.array(img_np_list, dtype='float32')\n",
    "                labels_np = np.array(label_one_hot_list, dtype='float32')\n",
    "                yield imgs_np, labels_np\n",
    "                batch_count = 0\n",
    "                img_file_list, img_np_list, label_one_hot_list = [], [], []                                 \n",
    "#                 yield ({'img_np': img_np}, {'label': label_one_hot})\n",
    "#         f.close()"
   ]
  },
  {
   "cell_type": "code",
   "execution_count": 110,
   "metadata": {},
   "outputs": [
    {
     "name": "stdout",
     "output_type": "stream",
     "text": [
      "Model name: MobileNet_v1\n",
      "Model: \"sequential_1\"\n",
      "_________________________________________________________________\n",
      "Layer (type)                 Output Shape              Param #   \n",
      "=================================================================\n",
      "mobilenet_1.00_224 (Model)   (None, 1000)              4253864   \n",
      "_________________________________________________________________\n",
      "flatten_1 (Flatten)          (None, 1000)              0         \n",
      "_________________________________________________________________\n",
      "dense_2 (Dense)              (None, 512)               512512    \n",
      "_________________________________________________________________\n",
      "dropout_1 (Dropout)          (None, 512)               0         \n",
      "_________________________________________________________________\n",
      "dense_3 (Dense)              (None, 3)                 1539      \n",
      "=================================================================\n",
      "Total params: 4,767,915\n",
      "Trainable params: 4,746,027\n",
      "Non-trainable params: 21,888\n",
      "_________________________________________________________________\n"
     ]
    }
   ],
   "source": [
    "model_name = 'MobileNet_v1'\n",
    "# model_name = 'CNN_model'\n",
    "# model_name = 'ResNet50'\n",
    "print(\"Model name: %s\"%model_name)\n",
    "model = cnn_model(model_name, num_classes)\n",
    "model.summary()"
   ]
  },
  {
   "cell_type": "code",
   "execution_count": 75,
   "metadata": {},
   "outputs": [],
   "source": [
    "cnv_path_shuffled, cnv_label_one_hot_shuffled = shuffle(cnv_path_np, cnv_label_one_hot)"
   ]
  },
  {
   "cell_type": "code",
   "execution_count": 78,
   "metadata": {},
   "outputs": [],
   "source": [
    "## split image arrays for splits CNVs\n",
    "\n",
    "train_path, test_path, train_label, test_label = train_test_split(cnv_path_shuffled,\n",
    "                                                                cnv_label_one_hot_shuffled,\n",
    "                                                                test_size=0.2,\n",
    "                                                                shuffle=True,\n",
    "                                                                random_state=3)\n",
    "\n",
    "train_path, val_path, train_label, val_label = train_test_split(train_path,\n",
    "                                                              train_label,\n",
    "                                                              test_size=0.25,\n",
    "                                                              shuffle=True,\n",
    "                                                              random_state=3) # 0.25*0.8=0.2"
   ]
  },
  {
   "cell_type": "code",
   "execution_count": 85,
   "metadata": {},
   "outputs": [
    {
     "name": "stdout",
     "output_type": "stream",
     "text": [
      "(95860,) (95860, 3)\n",
      "(57516,) (57516, 3)\n",
      "(19172,) (19172, 3)\n",
      "(19172,) (19172, 3)\n"
     ]
    }
   ],
   "source": [
    "print(cnv_path_shuffled.shape, cnv_label_one_hot_shuffled.shape)\n",
    "print(train_path.shape, train_label.shape)\n",
    "print(val_path.shape, val_label.shape)\n",
    "print(test_path.shape, test_label.shape)"
   ]
  },
  {
   "cell_type": "code",
   "execution_count": 123,
   "metadata": {},
   "outputs": [
    {
     "name": "stdout",
     "output_type": "stream",
     "text": [
      "Epoch 1/10\n",
      "1150/1917 [================>.............] - ETA: 18:59 - loss: 0.2522 - accuracy: 0.8859 - f1_m: 0.8856 - precision_m: 0.8939 - recall_m: 0.8776"
     ]
    },
    {
     "ename": "InvalidArgumentError",
     "evalue": "2 root error(s) found.\n  (0) Invalid argument:  TypeError: 'numpy.float32' object is not iterable\nTraceback (most recent call last):\n\n  File \"/data/rt2776/miniconda3/lib/python3.8/site-packages/tensorflow/python/ops/script_ops.py\", line 243, in __call__\n    ret = func(*args)\n\n  File \"/data/rt2776/miniconda3/lib/python3.8/site-packages/tensorflow/python/autograph/impl/api.py\", line 309, in wrapper\n    return func(*args, **kwargs)\n\n  File \"/data/rt2776/miniconda3/lib/python3.8/site-packages/tensorflow/python/data/ops/dataset_ops.py\", line 785, in generator_py_func\n    values = next(generator_state.get_iterator(iterator_id))\n\n  File \"/data/rt2776/miniconda3/lib/python3.8/site-packages/tensorflow/python/keras/engine/data_adapter.py\", line 801, in wrapped_generator\n    for data in generator_fn():\n\n  File \"<ipython-input-114-fcea20cfe149>\", line 21, in generate_arrays_from_file\n    for line in zip(path, label):\n\nTypeError: 'numpy.float32' object is not iterable\n\n\n\t [[{{node PyFunc}}]]\n\t [[IteratorGetNext]]\n  (1) Invalid argument:  TypeError: 'numpy.float32' object is not iterable\nTraceback (most recent call last):\n\n  File \"/data/rt2776/miniconda3/lib/python3.8/site-packages/tensorflow/python/ops/script_ops.py\", line 243, in __call__\n    ret = func(*args)\n\n  File \"/data/rt2776/miniconda3/lib/python3.8/site-packages/tensorflow/python/autograph/impl/api.py\", line 309, in wrapper\n    return func(*args, **kwargs)\n\n  File \"/data/rt2776/miniconda3/lib/python3.8/site-packages/tensorflow/python/data/ops/dataset_ops.py\", line 785, in generator_py_func\n    values = next(generator_state.get_iterator(iterator_id))\n\n  File \"/data/rt2776/miniconda3/lib/python3.8/site-packages/tensorflow/python/keras/engine/data_adapter.py\", line 801, in wrapped_generator\n    for data in generator_fn():\n\n  File \"<ipython-input-114-fcea20cfe149>\", line 21, in generate_arrays_from_file\n    for line in zip(path, label):\n\nTypeError: 'numpy.float32' object is not iterable\n\n\n\t [[{{node PyFunc}}]]\n\t [[IteratorGetNext]]\n\t [[Shape/_6]]\n0 successful operations.\n0 derived errors ignored. [Op:__inference_train_function_28067]\n\nFunction call stack:\ntrain_function -> train_function\n",
     "output_type": "error",
     "traceback": [
      "\u001b[0;31m---------------------------------------------------------------------------\u001b[0m",
      "\u001b[0;31mInvalidArgumentError\u001b[0m                      Traceback (most recent call last)",
      "\u001b[0;32m<ipython-input-123-32b54b1fda49>\u001b[0m in \u001b[0;36m<module>\u001b[0;34m\u001b[0m\n\u001b[1;32m      1\u001b[0m \u001b[0;31m# Fit data to model\u001b[0m\u001b[0;34m\u001b[0m\u001b[0;34m\u001b[0m\u001b[0;34m\u001b[0m\u001b[0m\n\u001b[1;32m      2\u001b[0m \u001b[0mbatch_size\u001b[0m \u001b[0;34m=\u001b[0m \u001b[0;36m50\u001b[0m\u001b[0;34m\u001b[0m\u001b[0;34m\u001b[0m\u001b[0m\n\u001b[0;32m----> 3\u001b[0;31m model.fit_generator(generator = generate_arrays_from_file(train_path, train_label, batch_size),\n\u001b[0m\u001b[1;32m      4\u001b[0m                     \u001b[0mvalidation_data\u001b[0m \u001b[0;34m=\u001b[0m \u001b[0mgenerate_arrays_from_file\u001b[0m\u001b[0;34m(\u001b[0m\u001b[0mval_path\u001b[0m\u001b[0;34m,\u001b[0m \u001b[0mval_label\u001b[0m\u001b[0;34m,\u001b[0m \u001b[0mbatch_size\u001b[0m\u001b[0;34m)\u001b[0m\u001b[0;34m,\u001b[0m\u001b[0;34m\u001b[0m\u001b[0;34m\u001b[0m\u001b[0m\n\u001b[1;32m      5\u001b[0m                     \u001b[0msteps_per_epoch\u001b[0m\u001b[0;34m=\u001b[0m\u001b[0;36m95860\u001b[0m\u001b[0;34m/\u001b[0m\u001b[0mbatch_size\u001b[0m\u001b[0;34m,\u001b[0m\u001b[0;34m\u001b[0m\u001b[0;34m\u001b[0m\u001b[0m\n",
      "\u001b[0;32m/data/rt2776/miniconda3/lib/python3.8/site-packages/tensorflow/python/util/deprecation.py\u001b[0m in \u001b[0;36mnew_func\u001b[0;34m(*args, **kwargs)\u001b[0m\n\u001b[1;32m    322\u001b[0m               \u001b[0;34m'in a future version'\u001b[0m \u001b[0;32mif\u001b[0m \u001b[0mdate\u001b[0m \u001b[0;32mis\u001b[0m \u001b[0;32mNone\u001b[0m \u001b[0;32melse\u001b[0m \u001b[0;34m(\u001b[0m\u001b[0;34m'after %s'\u001b[0m \u001b[0;34m%\u001b[0m \u001b[0mdate\u001b[0m\u001b[0;34m)\u001b[0m\u001b[0;34m,\u001b[0m\u001b[0;34m\u001b[0m\u001b[0;34m\u001b[0m\u001b[0m\n\u001b[1;32m    323\u001b[0m               instructions)\n\u001b[0;32m--> 324\u001b[0;31m       \u001b[0;32mreturn\u001b[0m \u001b[0mfunc\u001b[0m\u001b[0;34m(\u001b[0m\u001b[0;34m*\u001b[0m\u001b[0margs\u001b[0m\u001b[0;34m,\u001b[0m \u001b[0;34m**\u001b[0m\u001b[0mkwargs\u001b[0m\u001b[0;34m)\u001b[0m\u001b[0;34m\u001b[0m\u001b[0;34m\u001b[0m\u001b[0m\n\u001b[0m\u001b[1;32m    325\u001b[0m     return tf_decorator.make_decorator(\n\u001b[1;32m    326\u001b[0m         \u001b[0mfunc\u001b[0m\u001b[0;34m,\u001b[0m \u001b[0mnew_func\u001b[0m\u001b[0;34m,\u001b[0m \u001b[0;34m'deprecated'\u001b[0m\u001b[0;34m,\u001b[0m\u001b[0;34m\u001b[0m\u001b[0;34m\u001b[0m\u001b[0m\n",
      "\u001b[0;32m/data/rt2776/miniconda3/lib/python3.8/site-packages/tensorflow/python/keras/engine/training.py\u001b[0m in \u001b[0;36mfit_generator\u001b[0;34m(self, generator, steps_per_epoch, epochs, verbose, callbacks, validation_data, validation_steps, validation_freq, class_weight, max_queue_size, workers, use_multiprocessing, shuffle, initial_epoch)\u001b[0m\n\u001b[1;32m   1463\u001b[0m     \"\"\"\n\u001b[1;32m   1464\u001b[0m     \u001b[0m_keras_api_gauge\u001b[0m\u001b[0;34m.\u001b[0m\u001b[0mget_cell\u001b[0m\u001b[0;34m(\u001b[0m\u001b[0;34m'fit_generator'\u001b[0m\u001b[0;34m)\u001b[0m\u001b[0;34m.\u001b[0m\u001b[0mset\u001b[0m\u001b[0;34m(\u001b[0m\u001b[0;32mTrue\u001b[0m\u001b[0;34m)\u001b[0m\u001b[0;34m\u001b[0m\u001b[0;34m\u001b[0m\u001b[0m\n\u001b[0;32m-> 1465\u001b[0;31m     return self.fit(\n\u001b[0m\u001b[1;32m   1466\u001b[0m         \u001b[0mgenerator\u001b[0m\u001b[0;34m,\u001b[0m\u001b[0;34m\u001b[0m\u001b[0;34m\u001b[0m\u001b[0m\n\u001b[1;32m   1467\u001b[0m         \u001b[0msteps_per_epoch\u001b[0m\u001b[0;34m=\u001b[0m\u001b[0msteps_per_epoch\u001b[0m\u001b[0;34m,\u001b[0m\u001b[0;34m\u001b[0m\u001b[0;34m\u001b[0m\u001b[0m\n",
      "\u001b[0;32m/data/rt2776/miniconda3/lib/python3.8/site-packages/tensorflow/python/keras/engine/training.py\u001b[0m in \u001b[0;36m_method_wrapper\u001b[0;34m(self, *args, **kwargs)\u001b[0m\n\u001b[1;32m     64\u001b[0m   \u001b[0;32mdef\u001b[0m \u001b[0m_method_wrapper\u001b[0m\u001b[0;34m(\u001b[0m\u001b[0mself\u001b[0m\u001b[0;34m,\u001b[0m \u001b[0;34m*\u001b[0m\u001b[0margs\u001b[0m\u001b[0;34m,\u001b[0m \u001b[0;34m**\u001b[0m\u001b[0mkwargs\u001b[0m\u001b[0;34m)\u001b[0m\u001b[0;34m:\u001b[0m\u001b[0;34m\u001b[0m\u001b[0;34m\u001b[0m\u001b[0m\n\u001b[1;32m     65\u001b[0m     \u001b[0;32mif\u001b[0m \u001b[0;32mnot\u001b[0m \u001b[0mself\u001b[0m\u001b[0;34m.\u001b[0m\u001b[0m_in_multi_worker_mode\u001b[0m\u001b[0;34m(\u001b[0m\u001b[0;34m)\u001b[0m\u001b[0;34m:\u001b[0m  \u001b[0;31m# pylint: disable=protected-access\u001b[0m\u001b[0;34m\u001b[0m\u001b[0;34m\u001b[0m\u001b[0m\n\u001b[0;32m---> 66\u001b[0;31m       \u001b[0;32mreturn\u001b[0m \u001b[0mmethod\u001b[0m\u001b[0;34m(\u001b[0m\u001b[0mself\u001b[0m\u001b[0;34m,\u001b[0m \u001b[0;34m*\u001b[0m\u001b[0margs\u001b[0m\u001b[0;34m,\u001b[0m \u001b[0;34m**\u001b[0m\u001b[0mkwargs\u001b[0m\u001b[0;34m)\u001b[0m\u001b[0;34m\u001b[0m\u001b[0;34m\u001b[0m\u001b[0m\n\u001b[0m\u001b[1;32m     67\u001b[0m \u001b[0;34m\u001b[0m\u001b[0m\n\u001b[1;32m     68\u001b[0m     \u001b[0;31m# Running inside `run_distribute_coordinator` already.\u001b[0m\u001b[0;34m\u001b[0m\u001b[0;34m\u001b[0m\u001b[0;34m\u001b[0m\u001b[0m\n",
      "\u001b[0;32m/data/rt2776/miniconda3/lib/python3.8/site-packages/tensorflow/python/keras/engine/training.py\u001b[0m in \u001b[0;36mfit\u001b[0;34m(self, x, y, batch_size, epochs, verbose, callbacks, validation_split, validation_data, shuffle, class_weight, sample_weight, initial_epoch, steps_per_epoch, validation_steps, validation_batch_size, validation_freq, max_queue_size, workers, use_multiprocessing)\u001b[0m\n\u001b[1;32m    846\u001b[0m                 batch_size=batch_size):\n\u001b[1;32m    847\u001b[0m               \u001b[0mcallbacks\u001b[0m\u001b[0;34m.\u001b[0m\u001b[0mon_train_batch_begin\u001b[0m\u001b[0;34m(\u001b[0m\u001b[0mstep\u001b[0m\u001b[0;34m)\u001b[0m\u001b[0;34m\u001b[0m\u001b[0;34m\u001b[0m\u001b[0m\n\u001b[0;32m--> 848\u001b[0;31m               \u001b[0mtmp_logs\u001b[0m \u001b[0;34m=\u001b[0m \u001b[0mtrain_function\u001b[0m\u001b[0;34m(\u001b[0m\u001b[0miterator\u001b[0m\u001b[0;34m)\u001b[0m\u001b[0;34m\u001b[0m\u001b[0;34m\u001b[0m\u001b[0m\n\u001b[0m\u001b[1;32m    849\u001b[0m               \u001b[0;31m# Catch OutOfRangeError for Datasets of unknown size.\u001b[0m\u001b[0;34m\u001b[0m\u001b[0;34m\u001b[0m\u001b[0;34m\u001b[0m\u001b[0m\n\u001b[1;32m    850\u001b[0m               \u001b[0;31m# This blocks until the batch has finished executing.\u001b[0m\u001b[0;34m\u001b[0m\u001b[0;34m\u001b[0m\u001b[0;34m\u001b[0m\u001b[0m\n",
      "\u001b[0;32m/data/rt2776/miniconda3/lib/python3.8/site-packages/tensorflow/python/eager/def_function.py\u001b[0m in \u001b[0;36m__call__\u001b[0;34m(self, *args, **kwds)\u001b[0m\n\u001b[1;32m    578\u001b[0m         \u001b[0mxla_context\u001b[0m\u001b[0;34m.\u001b[0m\u001b[0mExit\u001b[0m\u001b[0;34m(\u001b[0m\u001b[0;34m)\u001b[0m\u001b[0;34m\u001b[0m\u001b[0;34m\u001b[0m\u001b[0m\n\u001b[1;32m    579\u001b[0m     \u001b[0;32melse\u001b[0m\u001b[0;34m:\u001b[0m\u001b[0;34m\u001b[0m\u001b[0;34m\u001b[0m\u001b[0m\n\u001b[0;32m--> 580\u001b[0;31m       \u001b[0mresult\u001b[0m \u001b[0;34m=\u001b[0m \u001b[0mself\u001b[0m\u001b[0;34m.\u001b[0m\u001b[0m_call\u001b[0m\u001b[0;34m(\u001b[0m\u001b[0;34m*\u001b[0m\u001b[0margs\u001b[0m\u001b[0;34m,\u001b[0m \u001b[0;34m**\u001b[0m\u001b[0mkwds\u001b[0m\u001b[0;34m)\u001b[0m\u001b[0;34m\u001b[0m\u001b[0;34m\u001b[0m\u001b[0m\n\u001b[0m\u001b[1;32m    581\u001b[0m \u001b[0;34m\u001b[0m\u001b[0m\n\u001b[1;32m    582\u001b[0m     \u001b[0;32mif\u001b[0m \u001b[0mtracing_count\u001b[0m \u001b[0;34m==\u001b[0m \u001b[0mself\u001b[0m\u001b[0;34m.\u001b[0m\u001b[0m_get_tracing_count\u001b[0m\u001b[0;34m(\u001b[0m\u001b[0;34m)\u001b[0m\u001b[0;34m:\u001b[0m\u001b[0;34m\u001b[0m\u001b[0;34m\u001b[0m\u001b[0m\n",
      "\u001b[0;32m/data/rt2776/miniconda3/lib/python3.8/site-packages/tensorflow/python/eager/def_function.py\u001b[0m in \u001b[0;36m_call\u001b[0;34m(self, *args, **kwds)\u001b[0m\n\u001b[1;32m    609\u001b[0m       \u001b[0;31m# In this case we have created variables on the first call, so we run the\u001b[0m\u001b[0;34m\u001b[0m\u001b[0;34m\u001b[0m\u001b[0;34m\u001b[0m\u001b[0m\n\u001b[1;32m    610\u001b[0m       \u001b[0;31m# defunned version which is guaranteed to never create variables.\u001b[0m\u001b[0;34m\u001b[0m\u001b[0;34m\u001b[0m\u001b[0;34m\u001b[0m\u001b[0m\n\u001b[0;32m--> 611\u001b[0;31m       \u001b[0;32mreturn\u001b[0m \u001b[0mself\u001b[0m\u001b[0;34m.\u001b[0m\u001b[0m_stateless_fn\u001b[0m\u001b[0;34m(\u001b[0m\u001b[0;34m*\u001b[0m\u001b[0margs\u001b[0m\u001b[0;34m,\u001b[0m \u001b[0;34m**\u001b[0m\u001b[0mkwds\u001b[0m\u001b[0;34m)\u001b[0m  \u001b[0;31m# pylint: disable=not-callable\u001b[0m\u001b[0;34m\u001b[0m\u001b[0;34m\u001b[0m\u001b[0m\n\u001b[0m\u001b[1;32m    612\u001b[0m     \u001b[0;32melif\u001b[0m \u001b[0mself\u001b[0m\u001b[0;34m.\u001b[0m\u001b[0m_stateful_fn\u001b[0m \u001b[0;32mis\u001b[0m \u001b[0;32mnot\u001b[0m \u001b[0;32mNone\u001b[0m\u001b[0;34m:\u001b[0m\u001b[0;34m\u001b[0m\u001b[0;34m\u001b[0m\u001b[0m\n\u001b[1;32m    613\u001b[0m       \u001b[0;31m# Release the lock early so that multiple threads can perform the call\u001b[0m\u001b[0;34m\u001b[0m\u001b[0;34m\u001b[0m\u001b[0;34m\u001b[0m\u001b[0m\n",
      "\u001b[0;32m/data/rt2776/miniconda3/lib/python3.8/site-packages/tensorflow/python/eager/function.py\u001b[0m in \u001b[0;36m__call__\u001b[0;34m(self, *args, **kwargs)\u001b[0m\n\u001b[1;32m   2418\u001b[0m     \u001b[0;32mwith\u001b[0m \u001b[0mself\u001b[0m\u001b[0;34m.\u001b[0m\u001b[0m_lock\u001b[0m\u001b[0;34m:\u001b[0m\u001b[0;34m\u001b[0m\u001b[0;34m\u001b[0m\u001b[0m\n\u001b[1;32m   2419\u001b[0m       \u001b[0mgraph_function\u001b[0m\u001b[0;34m,\u001b[0m \u001b[0margs\u001b[0m\u001b[0;34m,\u001b[0m \u001b[0mkwargs\u001b[0m \u001b[0;34m=\u001b[0m \u001b[0mself\u001b[0m\u001b[0;34m.\u001b[0m\u001b[0m_maybe_define_function\u001b[0m\u001b[0;34m(\u001b[0m\u001b[0margs\u001b[0m\u001b[0;34m,\u001b[0m \u001b[0mkwargs\u001b[0m\u001b[0;34m)\u001b[0m\u001b[0;34m\u001b[0m\u001b[0;34m\u001b[0m\u001b[0m\n\u001b[0;32m-> 2420\u001b[0;31m     \u001b[0;32mreturn\u001b[0m \u001b[0mgraph_function\u001b[0m\u001b[0;34m.\u001b[0m\u001b[0m_filtered_call\u001b[0m\u001b[0;34m(\u001b[0m\u001b[0margs\u001b[0m\u001b[0;34m,\u001b[0m \u001b[0mkwargs\u001b[0m\u001b[0;34m)\u001b[0m  \u001b[0;31m# pylint: disable=protected-access\u001b[0m\u001b[0;34m\u001b[0m\u001b[0;34m\u001b[0m\u001b[0m\n\u001b[0m\u001b[1;32m   2421\u001b[0m \u001b[0;34m\u001b[0m\u001b[0m\n\u001b[1;32m   2422\u001b[0m   \u001b[0;34m@\u001b[0m\u001b[0mproperty\u001b[0m\u001b[0;34m\u001b[0m\u001b[0;34m\u001b[0m\u001b[0m\n",
      "\u001b[0;32m/data/rt2776/miniconda3/lib/python3.8/site-packages/tensorflow/python/eager/function.py\u001b[0m in \u001b[0;36m_filtered_call\u001b[0;34m(self, args, kwargs)\u001b[0m\n\u001b[1;32m   1659\u001b[0m       \u001b[0;31m`\u001b[0m\u001b[0margs\u001b[0m\u001b[0;31m`\u001b[0m \u001b[0;32mand\u001b[0m\u001b[0;31m \u001b[0m\u001b[0;31m`\u001b[0m\u001b[0mkwargs\u001b[0m\u001b[0;31m`\u001b[0m\u001b[0;34m.\u001b[0m\u001b[0;34m\u001b[0m\u001b[0;34m\u001b[0m\u001b[0m\n\u001b[1;32m   1660\u001b[0m     \"\"\"\n\u001b[0;32m-> 1661\u001b[0;31m     return self._call_flat(\n\u001b[0m\u001b[1;32m   1662\u001b[0m         (t for t in nest.flatten((args, kwargs), expand_composites=True)\n\u001b[1;32m   1663\u001b[0m          if isinstance(t, (ops.Tensor,\n",
      "\u001b[0;32m/data/rt2776/miniconda3/lib/python3.8/site-packages/tensorflow/python/eager/function.py\u001b[0m in \u001b[0;36m_call_flat\u001b[0;34m(self, args, captured_inputs, cancellation_manager)\u001b[0m\n\u001b[1;32m   1743\u001b[0m         and executing_eagerly):\n\u001b[1;32m   1744\u001b[0m       \u001b[0;31m# No tape is watching; skip to running the function.\u001b[0m\u001b[0;34m\u001b[0m\u001b[0;34m\u001b[0m\u001b[0;34m\u001b[0m\u001b[0m\n\u001b[0;32m-> 1745\u001b[0;31m       return self._build_call_outputs(self._inference_function.call(\n\u001b[0m\u001b[1;32m   1746\u001b[0m           ctx, args, cancellation_manager=cancellation_manager))\n\u001b[1;32m   1747\u001b[0m     forward_backward = self._select_forward_and_backward_functions(\n",
      "\u001b[0;32m/data/rt2776/miniconda3/lib/python3.8/site-packages/tensorflow/python/eager/function.py\u001b[0m in \u001b[0;36mcall\u001b[0;34m(self, ctx, args, cancellation_manager)\u001b[0m\n\u001b[1;32m    591\u001b[0m       \u001b[0;32mwith\u001b[0m \u001b[0m_InterpolateFunctionError\u001b[0m\u001b[0;34m(\u001b[0m\u001b[0mself\u001b[0m\u001b[0;34m)\u001b[0m\u001b[0;34m:\u001b[0m\u001b[0;34m\u001b[0m\u001b[0;34m\u001b[0m\u001b[0m\n\u001b[1;32m    592\u001b[0m         \u001b[0;32mif\u001b[0m \u001b[0mcancellation_manager\u001b[0m \u001b[0;32mis\u001b[0m \u001b[0;32mNone\u001b[0m\u001b[0;34m:\u001b[0m\u001b[0;34m\u001b[0m\u001b[0;34m\u001b[0m\u001b[0m\n\u001b[0;32m--> 593\u001b[0;31m           outputs = execute.execute(\n\u001b[0m\u001b[1;32m    594\u001b[0m               \u001b[0mstr\u001b[0m\u001b[0;34m(\u001b[0m\u001b[0mself\u001b[0m\u001b[0;34m.\u001b[0m\u001b[0msignature\u001b[0m\u001b[0;34m.\u001b[0m\u001b[0mname\u001b[0m\u001b[0;34m)\u001b[0m\u001b[0;34m,\u001b[0m\u001b[0;34m\u001b[0m\u001b[0;34m\u001b[0m\u001b[0m\n\u001b[1;32m    595\u001b[0m               \u001b[0mnum_outputs\u001b[0m\u001b[0;34m=\u001b[0m\u001b[0mself\u001b[0m\u001b[0;34m.\u001b[0m\u001b[0m_num_outputs\u001b[0m\u001b[0;34m,\u001b[0m\u001b[0;34m\u001b[0m\u001b[0;34m\u001b[0m\u001b[0m\n",
      "\u001b[0;32m/data/rt2776/miniconda3/lib/python3.8/site-packages/tensorflow/python/eager/execute.py\u001b[0m in \u001b[0;36mquick_execute\u001b[0;34m(op_name, num_outputs, inputs, attrs, ctx, name)\u001b[0m\n\u001b[1;32m     57\u001b[0m   \u001b[0;32mtry\u001b[0m\u001b[0;34m:\u001b[0m\u001b[0;34m\u001b[0m\u001b[0;34m\u001b[0m\u001b[0m\n\u001b[1;32m     58\u001b[0m     \u001b[0mctx\u001b[0m\u001b[0;34m.\u001b[0m\u001b[0mensure_initialized\u001b[0m\u001b[0;34m(\u001b[0m\u001b[0;34m)\u001b[0m\u001b[0;34m\u001b[0m\u001b[0;34m\u001b[0m\u001b[0m\n\u001b[0;32m---> 59\u001b[0;31m     tensors = pywrap_tfe.TFE_Py_Execute(ctx._handle, device_name, op_name,\n\u001b[0m\u001b[1;32m     60\u001b[0m                                         inputs, attrs, num_outputs)\n\u001b[1;32m     61\u001b[0m   \u001b[0;32mexcept\u001b[0m \u001b[0mcore\u001b[0m\u001b[0;34m.\u001b[0m\u001b[0m_NotOkStatusException\u001b[0m \u001b[0;32mas\u001b[0m \u001b[0me\u001b[0m\u001b[0;34m:\u001b[0m\u001b[0;34m\u001b[0m\u001b[0;34m\u001b[0m\u001b[0m\n",
      "\u001b[0;31mInvalidArgumentError\u001b[0m: 2 root error(s) found.\n  (0) Invalid argument:  TypeError: 'numpy.float32' object is not iterable\nTraceback (most recent call last):\n\n  File \"/data/rt2776/miniconda3/lib/python3.8/site-packages/tensorflow/python/ops/script_ops.py\", line 243, in __call__\n    ret = func(*args)\n\n  File \"/data/rt2776/miniconda3/lib/python3.8/site-packages/tensorflow/python/autograph/impl/api.py\", line 309, in wrapper\n    return func(*args, **kwargs)\n\n  File \"/data/rt2776/miniconda3/lib/python3.8/site-packages/tensorflow/python/data/ops/dataset_ops.py\", line 785, in generator_py_func\n    values = next(generator_state.get_iterator(iterator_id))\n\n  File \"/data/rt2776/miniconda3/lib/python3.8/site-packages/tensorflow/python/keras/engine/data_adapter.py\", line 801, in wrapped_generator\n    for data in generator_fn():\n\n  File \"<ipython-input-114-fcea20cfe149>\", line 21, in generate_arrays_from_file\n    for line in zip(path, label):\n\nTypeError: 'numpy.float32' object is not iterable\n\n\n\t [[{{node PyFunc}}]]\n\t [[IteratorGetNext]]\n  (1) Invalid argument:  TypeError: 'numpy.float32' object is not iterable\nTraceback (most recent call last):\n\n  File \"/data/rt2776/miniconda3/lib/python3.8/site-packages/tensorflow/python/ops/script_ops.py\", line 243, in __call__\n    ret = func(*args)\n\n  File \"/data/rt2776/miniconda3/lib/python3.8/site-packages/tensorflow/python/autograph/impl/api.py\", line 309, in wrapper\n    return func(*args, **kwargs)\n\n  File \"/data/rt2776/miniconda3/lib/python3.8/site-packages/tensorflow/python/data/ops/dataset_ops.py\", line 785, in generator_py_func\n    values = next(generator_state.get_iterator(iterator_id))\n\n  File \"/data/rt2776/miniconda3/lib/python3.8/site-packages/tensorflow/python/keras/engine/data_adapter.py\", line 801, in wrapped_generator\n    for data in generator_fn():\n\n  File \"<ipython-input-114-fcea20cfe149>\", line 21, in generate_arrays_from_file\n    for line in zip(path, label):\n\nTypeError: 'numpy.float32' object is not iterable\n\n\n\t [[{{node PyFunc}}]]\n\t [[IteratorGetNext]]\n\t [[Shape/_6]]\n0 successful operations.\n0 derived errors ignored. [Op:__inference_train_function_28067]\n\nFunction call stack:\ntrain_function -> train_function\n"
     ]
    }
   ],
   "source": [
    "# Fit data to model\n",
    "batch_size = 50\n",
    "model.fit_generator(generator = generate_arrays_from_file(train_path, train_label, batch_size),\n",
    "                    validation_data = generate_arrays_from_file(val_path, val_label, batch_size),\n",
    "                    steps_per_epoch=95860/batch_size,\n",
    "                    epochs = 10,\n",
    "                    shuffle=True,\n",
    "                    workers= 1,\n",
    "                    use_multiprocessing=False\n",
    "                   )"
   ]
  },
  {
   "cell_type": "markdown",
   "metadata": {},
   "source": [
    "## Normalization"
   ]
  },
  {
   "cell_type": "code",
   "execution_count": null,
   "metadata": {},
   "outputs": [],
   "source": [
    "# Find the shape of input images and create the variable input_shape\n",
    "nRows,nCols,nDims = combined_img_np.shape[1:]\n",
    "input_shape = (nRows, nCols, nDims)\n",
    "print(\"The shape of input tensor:\",input_shape)"
   ]
  },
  {
   "cell_type": "code",
   "execution_count": null,
   "metadata": {},
   "outputs": [],
   "source": [
    "# Change to float datatype\n",
    "combined_img = combined_img_np.astype('float32')\n",
    "\n",
    "# Scale the data to lie between 0 to 1\n",
    "combined_img /= 255\n",
    "\n",
    "# Change the labels from integer to categorical data\n",
    "combined_label_one_hot = to_categorical(combined_label)"
   ]
  },
  {
   "cell_type": "code",
   "execution_count": null,
   "metadata": {},
   "outputs": [],
   "source": [
    "# Find the unique numbers from the train labels\n",
    "classes = np.unique(combined_label)\n",
    "nClasses = len(classes)\n",
    "print('Total number of outputs : ', nClasses)\n",
    "print('Output classes : ', classes)\n",
    "print(\"4 classes label: 0-True del; 1-False del; 2-False dup; 3-True dup\")\n",
    "print(\"3 classes label: 0-True del; 1-False del; 1-False dup; 2-True dup\")"
   ]
  },
  {
   "cell_type": "code",
   "execution_count": null,
   "metadata": {},
   "outputs": [],
   "source": [
    "#np.where(train_label==0)"
   ]
  },
  {
   "cell_type": "code",
   "execution_count": null,
   "metadata": {},
   "outputs": [],
   "source": [
    "item = 100 \n",
    "item = random.randint(0,len(combined_label))\n",
    "print(combined_label[item])\n",
    "showImg(combined_img[item])"
   ]
  },
  {
   "cell_type": "markdown",
   "metadata": {},
   "source": [
    "## Split dataset into training(80%) and testing(20%) dataset"
   ]
  },
  {
   "cell_type": "code",
   "execution_count": null,
   "metadata": {},
   "outputs": [],
   "source": [
    "## split image arrays\n",
    "if project_name == 'rare_entire_cnv' or project_name == 'rare_entire_del' or project_name == 'rare_entire_dup':\n",
    "    train_img, test_img, train_label, test_label, train_cnv_info_df, test_cnv_info_df = train_test_split(combined_img_np,\n",
    "                                                                                                        combined_label_one_hot,\n",
    "                                                                                                        combined_cnv_info_df,\n",
    "                                                                                                        test_size=0.2,\n",
    "                                                                                                        shuffle=True,\n",
    "                                                                                                        random_state=3)\n",
    "\n",
    "    train_img, val_img, train_label, val_label, train_cnv_info_df, val_cnv_info_df = train_test_split(train_img,\n",
    "                                                                                                      train_label,\n",
    "                                                                                                      train_cnv_info_df,\n",
    "                                                                                                      test_size=0.25,\n",
    "                                                                                                      shuffle=True,\n",
    "                                                                                                      random_state=3) # 0.25*0.8=0.2"
   ]
  },
  {
   "cell_type": "code",
   "execution_count": null,
   "metadata": {},
   "outputs": [],
   "source": [
    "combined_img_np.shape, train_img.shape, val_img.shape, test_img.shape"
   ]
  },
  {
   "cell_type": "code",
   "execution_count": null,
   "metadata": {},
   "outputs": [],
   "source": [
    "combined_label_one_hot.shape, train_label.shape, val_label.shape, test_label.shape"
   ]
  },
  {
   "cell_type": "code",
   "execution_count": null,
   "metadata": {},
   "outputs": [],
   "source": [
    "## split image arrays for splits CNVs\n",
    "if project_name == 'rare_split_del' or project_name == 'rare_split_dup':\n",
    "    train_img, test_img, train_label, test_label = train_test_split(combined_img_np,\n",
    "                                                                    combined_label,\n",
    "                                                                    test_size=0.2,\n",
    "                                                                    shuffle=True,\n",
    "                                                                    random_state=3)\n",
    "\n",
    "    train_img, val_img, train_label, val_label = train_test_split(train_img,\n",
    "                                                                  train_label,\n",
    "                                                                  test_size=0.25,\n",
    "                                                                  shuffle=True,\n",
    "                                                                  random_state=3) # 0.25*0.8=0.2"
   ]
  },
  {
   "cell_type": "code",
   "execution_count": null,
   "metadata": {},
   "outputs": [],
   "source": [
    "i=random.randrange(len(train_img))\n",
    "## if the the images are different, then it means it has been shuffled.\n",
    "print(\"Label: 0-True del; 1-False del; 2-False dup; 3-True dup\")\n",
    "print(\"3 classes label: 0-True del; 1-False del; 1-False dup; 2-True dup\")\n",
    "showImg(combined_img_np[i]),combined_label_one_hot[i],combined_cnv_info_df.iloc[i,:],combined_cnv_info_df.iloc[i,20]"
   ]
  },
  {
   "cell_type": "code",
   "execution_count": null,
   "metadata": {},
   "outputs": [],
   "source": [
    "i=random.randrange(len(train_img))\n",
    "## if the the images are different, then it means it has been shuffled.\n",
    "print(\"Label: 0-True del; 1-False del; 2-False dup; 3-True dup\")\n",
    "print(\"3 classes label: 0-True del; 1-False del; 1-False dup; 2-True dup\")\n",
    "showImg(train_img[i]),train_label[i],train_cnv_info_df.iloc[i,:],train_cnv_info_df.iloc[i,20]"
   ]
  },
  {
   "cell_type": "code",
   "execution_count": null,
   "metadata": {},
   "outputs": [],
   "source": [
    "test_img.shape, test_label.shape"
   ]
  },
  {
   "cell_type": "markdown",
   "metadata": {},
   "source": [
    "### Train the deep nerual model by Hold-out validation\n",
    "- Ref: https://towardsdatascience.com/covolutional-neural-network-cb0883dd6529"
   ]
  },
  {
   "cell_type": "code",
   "execution_count": null,
   "metadata": {},
   "outputs": [],
   "source": [
    "model_dir = '/home/rt2776/cnv_espresso/images_rare_3classes/data_backup/model_h5/'"
   ]
  },
  {
   "cell_type": "code",
   "execution_count": null,
   "metadata": {},
   "outputs": [],
   "source": [
    "model_name='CNN_model'\n",
    "print(\"Model name: %s\"%model_name)\n",
    "model = cnn_model(model_name, nClasses)\n",
    "model.summary()"
   ]
  },
  {
   "cell_type": "code",
   "execution_count": null,
   "metadata": {},
   "outputs": [],
   "source": [
    "print(\"Training by a common CNN model ...\")\n",
    "batch_size = 30\n",
    "epochs = 50\n",
    "model_file = model_dir + project_name + \"_\" + model_name + \"_\" + str(nClasses) + \"classes.h5\"\n",
    "\n",
    "es = EarlyStopping(monitor='val_loss', mode='min', verbose=1, patience=20)\n",
    "mc = ModelCheckpoint(model_file,\n",
    "                     monitor='val_accuracy',\n",
    "                     mode='max', \n",
    "                     verbose=1, \n",
    "                     save_best_only=True)\n",
    "\n",
    "history = model.fit(train_img, train_label,\n",
    "                    batch_size=batch_size, \n",
    "                    epochs=epochs, verbose=1, \n",
    "                    validation_data=(val_img, val_label), \n",
    "                    callbacks=[es, mc]) ## easy to exhaust the memory by using \"validation_split = 0.2\"\n",
    "\n",
    "loss, accuracy, f1_score, precision, recall = model.evaluate(test_img, test_label)\n",
    "print(\"Model_name:\",model_name)\n",
    "print(\"loss:\",loss, \"\\naccuracy:\",accuracy, \"\\nf1_score:\",f1_score, \"\\nprecision:\",precision, \"\\nrecall:\",recall)"
   ]
  },
  {
   "cell_type": "code",
   "execution_count": null,
   "metadata": {},
   "outputs": [],
   "source": [
    "# output model metrics\n",
    "output_file = model_dir + \"model_metrics_\" + model_name + \".txt\"\n",
    "output_model_metrics(model_name, loss, accuracy, f1_score, precision, recall, output_file)"
   ]
  },
  {
   "cell_type": "markdown",
   "metadata": {},
   "source": [
    "- MobileNet v1"
   ]
  },
  {
   "cell_type": "code",
   "execution_count": null,
   "metadata": {},
   "outputs": [],
   "source": [
    "model_name='MobileNet_v1'\n",
    "print(\"Model name: %s\"%model_name)\n",
    "model = cnn_model(model_name, nClasses)\n",
    "model.summary()\n",
    "showDateTime()"
   ]
  },
  {
   "cell_type": "code",
   "execution_count": null,
   "metadata": {},
   "outputs": [],
   "source": [
    "print(\"Training by MobileNet_v1 model ...\")\n",
    "batch_size = 60\n",
    "epochs = 50\n",
    "model_file = model_dir + project_name + \"_\" + model_name + \"_\" + str(nClasses) + \"classes.h5\"\n",
    "\n",
    "es = EarlyStopping(monitor='val_loss', mode='min', verbose=1, patience=20)\n",
    "mc = ModelCheckpoint(model_file,\n",
    "                     monitor='val_accuracy',\n",
    "                     mode='max', \n",
    "                     verbose=1, \n",
    "                     save_best_only=True)\n",
    "\n",
    "history = model.fit(train_img, train_label,\n",
    "                    batch_size=batch_size, \n",
    "                    epochs=epochs, verbose=1, \n",
    "                    validation_data=(val_img, val_label), \n",
    "                    callbacks=[es, mc])\n",
    "## easy to exhaust the memory by using \"validation_split = 0.2\"\n",
    "loss, accuracy, f1_score, precision, recall = model.evaluate(test_img, test_label)"
   ]
  },
  {
   "cell_type": "code",
   "execution_count": null,
   "metadata": {},
   "outputs": [],
   "source": [
    "print(\"Model_name:\",model_name)\n",
    "print(\"loss:\",loss, \"\\naccuracy:\",accuracy, \"\\nf1_score:\",f1_score, \"\\nprecision:\",precision, \"\\nrecall:\",recall)"
   ]
  },
  {
   "cell_type": "code",
   "execution_count": null,
   "metadata": {},
   "outputs": [],
   "source": [
    "# output model metrics\n",
    "output_file = model_dir + \"model_metrics_\" + model_name + \".txt\"\n",
    "output_model_metrics(model_name, loss, accuracy, f1_score, precision, recall, output_file)\n",
    "showDateTime()"
   ]
  },
  {
   "cell_type": "markdown",
   "metadata": {},
   "source": [
    "- ResNet 50"
   ]
  },
  {
   "cell_type": "code",
   "execution_count": null,
   "metadata": {},
   "outputs": [],
   "source": [
    "model_name='ResNet50'\n",
    "print(\"Model name: %s\"%model_name)\n",
    "model = cnn_model(model_name, nClasses)\n",
    "model.summary()"
   ]
  },
  {
   "cell_type": "code",
   "execution_count": null,
   "metadata": {},
   "outputs": [],
   "source": [
    "print(\"Training by ResNet50 model ...\")\n",
    "batch_size = 20\n",
    "epochs = 50\n",
    "model_file = model_dir + project_name + \"_\" + model_name + \"_\" + str(nClasses) + \"classes.h5\"\n",
    "                     \n",
    "es = EarlyStopping(monitor='val_loss', mode='min', verbose=1, patience=20)\n",
    "mc = ModelCheckpoint(model_file,\n",
    "                     monitor='val_accuracy',\n",
    "                     mode='max', \n",
    "                     verbose=1, \n",
    "                     save_best_only=True)\n",
    "history = model.fit(train_img, train_label,\n",
    "                    batch_size=batch_size, \n",
    "                    epochs=epochs, verbose=1, \n",
    "                    validation_data=(val_img, val_label), \n",
    "                    callbacks=[es, mc])\n",
    "## easy to exhaust the memory by using \"validation_split = 0.2\"\n",
    "loss, accuracy, f1_score, precision, recall = model.evaluate(test_img, test_label)\n",
    "print(\"Model_name:\",model_name)\n",
    "print(\"loss:\",loss, \"\\naccuracy:\",accuracy, \"\\nf1_score:\",f1_score, \"\\nprecision:\",precision, \"\\nrecall:\",recall)"
   ]
  },
  {
   "cell_type": "code",
   "execution_count": null,
   "metadata": {},
   "outputs": [],
   "source": [
    "# output model metrics\n",
    "output_file = model_dir + \"model_metrics_\" + model_name + \".txt\"\n",
    "output_model_metrics(model_name, loss, accuracy, f1_score, precision, recall, output_file)"
   ]
  },
  {
   "cell_type": "code",
   "execution_count": null,
   "metadata": {},
   "outputs": [],
   "source": [
    "plt.figure(figsize=[8,6])\n",
    "plt.plot(history.history['loss'],'r',linewidth=3.0)\n",
    "plt.plot(history.history['val_loss'],'b',linewidth=3.0)\n",
    "plt.legend(['Training loss', 'Validation Loss'],fontsize=18)\n",
    "plt.xlabel('Epochs ',fontsize=16)\n",
    "plt.ylabel('Loss',fontsize=16)\n",
    "plt.title('Loss Curves',fontsize=16)"
   ]
  },
  {
   "cell_type": "code",
   "execution_count": null,
   "metadata": {},
   "outputs": [],
   "source": [
    "plt.figure(figsize=[8,6])\n",
    "plt.plot(history.history['accuracy'],'r',linewidth=3.0)\n",
    "plt.plot(history.history['val_accuracy'],'b',linewidth=3.0)\n",
    "plt.legend(['Training Accuracy', 'Validation Accuracy'],fontsize=18)\n",
    "plt.xlabel('Epochs ',fontsize=16)\n",
    "plt.ylabel('Accuracy',fontsize=16)\n",
    "plt.ylim(0.7, 1)\n",
    "plt.title(project_name+' accuracy curves',fontsize=16)"
   ]
  },
  {
   "cell_type": "markdown",
   "metadata": {},
   "source": [
    "### ROC curve"
   ]
  },
  {
   "cell_type": "code",
   "execution_count": null,
   "metadata": {},
   "outputs": [],
   "source": [
    "print(project_name, model_name)\n",
    "model_dir + project_name + \"_\" + model_name + \"_\" + str(nClasses) + \"classes.h5\""
   ]
  },
  {
   "cell_type": "code",
   "execution_count": null,
   "metadata": {},
   "outputs": [],
   "source": [
    "## Load pre-calculated model\n",
    "custom_objects = {\"f1_m\":f1_m, \"precision_m\":precision_m, \"recall_m\":recall_m}\n",
    "\n",
    "model_name = 'CNN_model'\n",
    "model_path = model_dir + project_name + \"_\" + model_name + \"_\" + str(nClasses) + \"classes.h5\"\n",
    "print(\"Loading %s ... from %s\"%(model_name, model_path))\n",
    "common_cnn_model = keras.models.load_model(model_path, custom_objects=custom_objects)\n",
    "\n",
    "model_name = 'MobileNet_v1'\n",
    "model_path = model_dir + project_name + \"_\" + model_name + \"_\" + str(nClasses) + \"classes.h5\"\n",
    "print(\"Loading %s ... from %s\"%(model_name, model_path))\n",
    "MobileNet_model = keras.models.load_model(model_path, custom_objects=custom_objects)\n",
    "\n",
    "model_name = 'ResNet50'\n",
    "model_path = model_dir + project_name + \"_\" + model_name + \"_\" + str(nClasses) + \"classes.h5\"\n",
    "print(\"Loading %s ... from %s\"%(model_name, model_path))\n",
    "ResNet50_model = keras.models.load_model(model_path, custom_objects=custom_objects)"
   ]
  },
  {
   "cell_type": "code",
   "execution_count": null,
   "metadata": {},
   "outputs": [],
   "source": [
    "fpr_MobileNet, tpr_MobileNet, thresholds_MobileNet, auc_MobileNet = pred_roc_data(MobileNet_model, test_img, test_label)\n",
    "fpr_ResNet50,  tpr_ResNet50,  thresholds_ResNet50,  auc_ResNet50  = pred_roc_data(ResNet50_model,  test_img, test_label)\n",
    "fpr_common_cnn,tpr_common_cnn,thresholds_common_cnn,auc_common_cnn= pred_roc_data(common_cnn_model,test_img, test_label)"
   ]
  },
  {
   "cell_type": "code",
   "execution_count": null,
   "metadata": {},
   "outputs": [],
   "source": [
    "plt.figure(1,dpi=150)\n",
    "plt.tick_params(labelsize=\"x-large\")\n",
    "plt.plot([0, 1], [0, 1], 'k--')\n",
    "plt.plot(fpr_MobileNet, tpr_MobileNet, label='MobileNet_v1(area = {:.3f})'.format(auc_MobileNet))\n",
    "plt.plot(fpr_ResNet50,  tpr_ResNet50,  label='ResNet50 (area = {:.3f})'.format(auc_ResNet50))\n",
    "plt.plot(fpr_common_cnn,tpr_common_cnn,label='Common CNN (area = {:.3f})'.format(auc_common_cnn))\n",
    "plt.xlabel('False positive rate',fontsize=\"xx-large\")\n",
    "plt.ylabel('True positive rate',fontsize=\"xx-large\")\n",
    "plt.title('ROC curve',fontsize=\"xx-large\")\n",
    "plt.legend(loc='best',fontsize=\"large\")\n",
    "plt.show()\n",
    "# Zoom in view of the upper left corner.\n",
    "plt.figure(2,dpi=150)\n",
    "plt.tick_params(labelsize=\"x-large\")\n",
    "plt.xlim(0, 0.3)\n",
    "plt.ylim(0.7, 1)\n",
    "plt.plot([0, 1], [0, 1], 'k--')\n",
    "plt.plot(fpr_MobileNet, tpr_MobileNet, label='MobileNet_v1(area = {:.3f})'.format(auc_MobileNet))\n",
    "plt.plot(fpr_ResNet50,  tpr_ResNet50,  label='ResNet50 (area = {:.3f})'.format(auc_ResNet50))\n",
    "plt.plot(fpr_common_cnn,tpr_common_cnn,label='Common CNN (area = {:.3f})'.format(auc_common_cnn))\n",
    "plt.xlabel('False positive rate',fontsize=\"xx-large\")\n",
    "plt.ylabel('True positive rate',fontsize=\"xx-large\")\n",
    "plt.title('ROC curve (zoomed in at top left)',fontsize=\"xx-large\")\n",
    "plt.legend(loc='best',fontsize=\"large\")\n",
    "plt.show()"
   ]
  },
  {
   "cell_type": "markdown",
   "metadata": {},
   "source": [
    "- Calculate model metrics (F1-score). TODO: calcualte f1-score in different categories"
   ]
  },
  {
   "cell_type": "code",
   "execution_count": null,
   "metadata": {},
   "outputs": [],
   "source": [
    "print(\"Model_name: common_cnn_model\")\n",
    "loss, accuracy, f1_score, precision, recall = common_cnn_model.evaluate(test_img, test_label)\n",
    "print(\"loss:\",loss, \"\\naccuracy:\",accuracy, \"\\nf1_score:\",f1_score, \"\\nprecision:\",precision, \"\\nrecall:\",recall)"
   ]
  },
  {
   "cell_type": "code",
   "execution_count": null,
   "metadata": {},
   "outputs": [],
   "source": [
    "print(\"Model_name: MobileNet\")\n",
    "loss, accuracy, f1_score, precision, recall = MobileNet_model.evaluate(test_img, test_label)\n",
    "print(\"loss:\",loss, \"\\naccuracy:\",accuracy, \"\\nf1_score:\",f1_score, \"\\nprecision:\",precision, \"\\nrecall:\",recall)"
   ]
  },
  {
   "cell_type": "code",
   "execution_count": null,
   "metadata": {},
   "outputs": [],
   "source": [
    "print(\"Model_name: ResNet50\")\n",
    "loss, accuracy, f1_score, precision, recall = ResNet50_model.evaluate(test_img, test_label)\n",
    "print(\"loss:\",loss, \"\\naccuracy:\",accuracy, \"\\nf1_score:\",f1_score, \"\\nprecision:\",precision, \"\\nrecall:\",recall)"
   ]
  },
  {
   "cell_type": "code",
   "execution_count": null,
   "metadata": {},
   "outputs": [],
   "source": [
    "i=random.randrange(len(test_img))\n",
    "#i=random.choice(test_output_df[test_output_df['Pred_status']=='Wrong'].index)\n",
    "showImg(test_img[i]), \n",
    "print(test_label[i],  test_cnv_info_df.iloc[i,:])"
   ]
  },
  {
   "cell_type": "code",
   "execution_count": null,
   "metadata": {},
   "outputs": [],
   "source": [
    "print(project_name)\n",
    "time_stamp = datetime.datetime.now()\n",
    "time_str   = time_stamp.strftime('%Y.%m.%d-%H:%M:%S')\n",
    "print(time_str)"
   ]
  },
  {
   "cell_type": "markdown",
   "metadata": {},
   "source": [
    "- Confusion matrix"
   ]
  },
  {
   "cell_type": "code",
   "execution_count": null,
   "metadata": {},
   "outputs": [],
   "source": [
    "#from sklearn.metrics import classification_report\n",
    "def show_confusion_matrix(validations, predictions, lables):\n",
    "    matrix = metrics.confusion_matrix(validations, predictions)\n",
    "    plt.figure(figsize=(6, 4),dpi=150)\n",
    "    sns.heatmap(matrix,\n",
    "                cmap=\"coolwarm\",\n",
    "                linecolor='white',\n",
    "                linewidths=1,\n",
    "                xticklabels=lables,\n",
    "                yticklabels=lables,\n",
    "                annot=True,\n",
    "                fmt=\"d\")\n",
    "    plt.title(\"Confusion Matrix\")\n",
    "    plt.ylabel(\"True Label\")\n",
    "    plt.xlabel(\"Predicted Label\")\n",
    "    plt.show()"
   ]
  },
  {
   "cell_type": "code",
   "execution_count": null,
   "metadata": {},
   "outputs": [],
   "source": [
    "## Load pre-calculated model\n",
    "custom_objects = {\"f1_m\":f1_m, \"precision_m\":precision_m, \"recall_m\":recall_m}\n",
    "nClasses = 4\n",
    "\n",
    "model_name = 'CNN_model'\n",
    "model_path = model_dir + project_name + \"_\" + model_name + \"_\" + str(nClasses) + \"classes.h5\"\n",
    "print(\"Loading %s ... from %s\"%(model_name, model_path))\n",
    "common_cnn_model = keras.models.load_model(model_path, custom_objects=custom_objects)\n",
    "\n",
    "model_name = 'MobileNet_v1'\n",
    "model_path = model_dir + project_name + \"_\" + model_name + \"_\" + str(nClasses) + \"classes.h5\"\n",
    "print(\"Loading %s ... from %s\"%(model_name, model_path))\n",
    "MobileNet_model = keras.models.load_model(model_path, custom_objects=custom_objects)\n",
    "\n",
    "model_name = 'ResNet50'\n",
    "model_path = model_dir + project_name + \"_\" + model_name + \"_\" + str(nClasses) + \"classes.h5\"\n",
    "print(\"Loading %s ... from %s\"%(model_name, model_path))\n",
    "ResNet50_model = keras.models.load_model(model_path, custom_objects=custom_objects)"
   ]
  },
  {
   "cell_type": "code",
   "execution_count": null,
   "metadata": {},
   "outputs": [],
   "source": [
    "test_pred = MobileNet_model.predict(test_img)"
   ]
  },
  {
   "cell_type": "code",
   "execution_count": null,
   "metadata": {},
   "outputs": [],
   "source": [
    "test_label"
   ]
  },
  {
   "cell_type": "code",
   "execution_count": null,
   "metadata": {},
   "outputs": [],
   "source": [
    "print(\"\\n--- Confusion matrix for test data ---\\n\")\n",
    "print(\"4 classes label: 0-True del; 1-False del; 2-False dup; 3-True dup\")\n",
    "print(\"3 classes label: 0-True del; 1-False del; 1-False dup; 2-True dup\")\n",
    "if nClasses == 3:\n",
    "    labels = ['DEL', 'DIP', 'DUP']\n",
    "if nClasses == 4:\n",
    "    labels = ['DEL', 'Not_DEL', 'Not_DUP', 'DUP']\n",
    "    \n",
    "test_pred = MobileNet_model.predict(test_img)\n",
    "# Take the class with the highest probability from the test predictions\n",
    "max_pred_test = np.argmax(test_pred, axis=1)\n",
    "max_label_test = np.argmax(test_label, axis=1)\n",
    "show_confusion_matrix(max_label_test, max_pred_test, labels)\n",
    "\n",
    "print(\"\\n--- Classification report for test data ---\\n\")\n",
    "print(classification_report(max_label_test, max_pred_test))"
   ]
  },
  {
   "cell_type": "code",
   "execution_count": null,
   "metadata": {},
   "outputs": [],
   "source": [
    "# output model metrics\n",
    "model_metric_list = []\n",
    "model_metric_list.append(model_name)\n",
    "model_metric_list.append([\"loss:\", loss]) \n",
    "model_metric_list.append([\"accuracy:\", accuracy])\n",
    "model_metric_list.append([\"precision:\", precision])\n",
    "model_metric_list.append([\"recall:\", recall])\n",
    "model_metric_list.append([\"f1_score:\", f1_score])\n",
    "output_to_file(model_metric_list, model_dir + \"model_metrics_\" + model_name + \".txt\")"
   ]
  },
  {
   "cell_type": "markdown",
   "metadata": {},
   "source": [
    "## K-fold cross validation"
   ]
  },
  {
   "cell_type": "code",
   "execution_count": null,
   "metadata": {},
   "outputs": [],
   "source": [
    "model_dir = '/home/rt2776/cnv_espresso/images_rare_3classes/data_backup/model_h5/'\n",
    "model_name='MobileNet_v1'\n",
    "\n",
    "seed = 6666\n",
    "num_folds = 5\n",
    "# Define the K-fold Cross Validator\n",
    "#kfold = KFold(n_splits=num_folds, shuffle=True)\n",
    "kfold = StratifiedKFold(n_splits=num_folds, shuffle=True, random_state=seed)"
   ]
  },
  {
   "cell_type": "code",
   "execution_count": null,
   "metadata": {},
   "outputs": [],
   "source": [
    "VALIDATION_ACCURACY, VALIDATION_LOSS = [], []\n",
    "tpr_list, tpr_interp_list, fpr_list, auc_list = [], [], [], []\n",
    "mean_fpr = np.linspace(0, 1, 100)\n",
    "\n",
    "nClasses = 3\n",
    "\n",
    "# K-fold Cross Validation model evaluation\n",
    "\n",
    "train_val_img, test_img, train_val_label, test_label = train_test_split(combined_img,\n",
    "                                                                      combined_label,\n",
    "                                                                      test_size=0.2,\n",
    "                                                                      shuffle=True,\n",
    "                                                                      random_state=seed)\n",
    "test_label_one_hot = to_categorical(test_label)\n",
    "\n",
    "fold_num = 1\n",
    "for train_index, val_index in kfold.split(train_val_img, train_val_label):\n",
    "    print('------------------------------------------------------------------------')\n",
    "    showDateTime()\n",
    "    print('Training for fold %d ...'%fold_num)\n",
    "    print(\"num_index\",len(train_index), len(val_index))\n",
    "   \n",
    "    train_img  = train_val_img[train_index]\n",
    "    train_label_one_hot = to_categorical(train_val_label[train_index])\n",
    "    \n",
    "    val_img  = train_val_img[val_index]\n",
    "    val_label_one_hot = to_categorical(train_val_label[val_index])\n",
    "    \n",
    "#     train_img, val_img, train_label_one_hot, val_label_one_hot = train_test_split(train_val_img,\n",
    "#                                                                   train_val_label_one_hot,\n",
    "#                                                                   test_size=0.25,\n",
    "#                                                                   shuffle=True,\n",
    "#                                                                   random_state=seed)\n",
    "    \n",
    "    print(\"Combined:\", combined_img.shape, combined_label_one_hot.shape)\n",
    "    print(\"Train:\", train_img.shape, train_label_one_hot.shape)\n",
    "    print(\"Validation:\", val_img.shape, val_label_one_hot.shape)\n",
    "    print(\"Test:\", test_img.shape, test_label_one_hot.shape)\n",
    "    \n",
    "    # CREATE and COMPILE NEW MODEL\n",
    "    model_name='MobileNet_v1'\n",
    "    print(\"Model name: %s\"%model_name)\n",
    "    model = cnn_model(model_name, nClasses)\n",
    "    \n",
    "    model_file = model_dir + project_name + \"_\" + model_name + \"_fold\" +str(fold_num)+\".h5\"\n",
    "    \n",
    "    # CREATE CALLBACKS\n",
    "    batch_size = 100\n",
    "    epochs = 50\n",
    "    es = EarlyStopping(monitor='val_loss', mode='min', verbose=1, patience=20)\n",
    "    checkpoint = ModelCheckpoint(model_file,\n",
    "                         monitor='val_accuracy',\n",
    "                         mode='max', \n",
    "                         verbose=1, \n",
    "                         save_best_only=True)\n",
    "    callbacks_list = [checkpoint]\n",
    "    \n",
    "    # FIT THE MODEL\n",
    "    print(\"Fit the model ...\")\n",
    "    history = model.fit(train_img, train_label_one_hot,\n",
    "                        batch_size=batch_size, \n",
    "                        epochs=epochs, verbose=1, \n",
    "                        validation_data=(val_img, val_label_one_hot), \n",
    "                        callbacks=[es, checkpoint])\n",
    "    ## easy to exhaust the memory by using \"validation_split = 0.2\"\n",
    "\n",
    "    # LOAD BEST MODEL to evaluate the performance of the model\n",
    "    print(\"Load weights...\")\n",
    "    model.load_weights(model_file)\n",
    "\n",
    "    print(\"Evaluate ...\")\n",
    "    results = model.evaluate(test_img, test_label_one_hot)\n",
    "    results = dict(zip(model.metrics_names,results))\n",
    "    print(results)\n",
    "    \n",
    "    VALIDATION_ACCURACY.append(results['accuracy'])\n",
    "    VALIDATION_LOSS.append(results['loss'])\n",
    "    \n",
    "    fpr_roc, tpr_roc, thresholds_roc, auc_roc = pred_roc_data(model, test_img, test_label_one_hot)    \n",
    "#     plt.plot(fpr_roc, tpr_roc, lw=2, alpha=0.3, label='ROC fold %d (AUC = %0.3f)' % (fold_num, auc_roc))\n",
    "\n",
    "    #tpr_list.append(interp(mean_fpr, fpr, tpr))\n",
    "    interp_tpr = np.interp(mean_fpr, fpr_roc, tpr_roc)\n",
    "    interp_tpr[0] = 0.0\n",
    "    \n",
    "#     print(\"test data:\",test_img.shape, test_label_one_hot.shape)\n",
    "#     print(\"tpr, fpr, auc size:\",tpr_roc.shape,fpr_roc.shape, auc_roc.shape)\n",
    "    tpr_list.append(tpr_roc)\n",
    "    tpr_interp_list.append(interp_tpr)\n",
    "    fpr_list.append(fpr_roc)\n",
    "    auc_list.append(auc_roc)\n",
    "#     print(\"list size:\",len(tpr_list),len(fpr_list), len(auc_list))\n",
    "    \n",
    "    tf.keras.backend.clear_session()\n",
    "    fold_num += 1\n",
    "\n"
   ]
  },
  {
   "cell_type": "code",
   "execution_count": null,
   "metadata": {},
   "outputs": [],
   "source": [
    "plt.figure(1,dpi=150)\n",
    "plt.tick_params(labelsize=\"x-large\")\n",
    "plt.plot([0, 1], [0, 1], 'k--')\n",
    "\n",
    "for fold_num in range(num_folds):\n",
    "    plt.plot(fpr_list[fold_num], tpr_list[fold_num], lw=2, alpha=0.3, label='ROC fold %d (AUC = %0.3f)' % (fold_num, auc_list[fold_num]))\n",
    "    \n",
    "mean_tpr = np.mean(tpr_interp_list, axis=0)\n",
    "mean_tpr[-1] = 1.0\n",
    "mean_auc = auc(mean_fpr, mean_tpr)\n",
    "std_auc = np.std(auc_list)\n",
    "plt.plot(mean_fpr, mean_tpr, color='b',\n",
    "        label=r'Mean ROC (AUC = %0.2f $\\pm$ %0.2f)' % (mean_auc, std_auc),\n",
    "        lw=2, alpha=.8)\n",
    "\n",
    "## plot std\n",
    "# std_tpr = np.std(tpr_list, axis=0)\n",
    "# tprs_upper = np.minimum(mean_tpr + std_tpr, 1)\n",
    "# tprs_lower = np.maximum(mean_tpr - std_tpr, 0)\n",
    "# plt.fill_between(mean_fpr, tprs_lower, tprs_upper, color='grey', alpha=.2,\n",
    "#                 label=r'$\\pm$ 1 std. dev.')\n",
    "\n",
    "\n",
    "plt.xlabel('False positive rate',fontsize=\"xx-large\")\n",
    "plt.ylabel('True positive rate',fontsize=\"xx-large\")\n",
    "plt.title('ROC curve',fontsize=\"xx-large\")\n",
    "plt.legend(loc='best',fontsize=\"large\")\n",
    "plt.show()\n",
    "\n",
    "    \n",
    "showDateTime()"
   ]
  },
  {
   "cell_type": "code",
   "execution_count": null,
   "metadata": {},
   "outputs": [],
   "source": [
    "image_file = model_dir + project_name + \"_\" + model_name + \"_roc_curve.png\"\n",
    "plt.savefig(image_file)\n",
    "#plt.close() "
   ]
  },
  {
   "cell_type": "code",
   "execution_count": null,
   "metadata": {},
   "outputs": [],
   "source": [
    "plt.figure(2,dpi=150)\n",
    "plt.tick_params(labelsize=\"x-large\")\n",
    "plt.xlim(0, 0.3)\n",
    "plt.ylim(0.7, 1)\n",
    "plt.plot([0, 1], [0, 1], 'k--')\n",
    "\n",
    "for fold_num in range(num_folds):\n",
    "    plt.plot(fpr_list[fold_num], tpr_list[fold_num], lw=2, alpha=0.3, label='ROC fold %d (AUC = %0.3f)' % (fold_num, auc_list[fold_num]))\n",
    "    \n",
    "mean_tpr = np.mean(tpr_interp_list, axis=0)\n",
    "mean_tpr[-1] = 1.0\n",
    "mean_auc = auc(mean_fpr, mean_tpr)\n",
    "std_auc = np.std(auc_list)\n",
    "plt.plot(mean_fpr, mean_tpr, color='b',\n",
    "        label=r'Mean ROC (AUC = %0.2f $\\pm$ %0.2f)' % (mean_auc, std_auc),\n",
    "        lw=2, alpha=.8)\n",
    "\n",
    "plt.xlabel('False positive rate',fontsize=\"xx-large\")\n",
    "plt.ylabel('True positive rate',fontsize=\"xx-large\")\n",
    "plt.title('ROC curve (zoomed in at top left)',fontsize=\"xx-large\")\n",
    "plt.legend(loc='best',fontsize=\"large\")\n",
    "plt.show()\n",
    "image_zoom_file = model_dir + project_name + \"_\" + model_name + \"_roc_curve_zoom.png\"\n",
    "plt.savefig(image_zoom_file)\n",
    "plt.close"
   ]
  },
  {
   "cell_type": "markdown",
   "metadata": {},
   "source": [
    "## Precision"
   ]
  },
  {
   "cell_type": "code",
   "execution_count": null,
   "metadata": {},
   "outputs": [],
   "source": [
    "test_pred = model1.predict(test_img)"
   ]
  },
  {
   "cell_type": "code",
   "execution_count": null,
   "metadata": {},
   "outputs": [],
   "source": [
    "test_output_df = copy.deepcopy(test_cnv_info_df)\n",
    "test_output_df.shape"
   ]
  },
  {
   "cell_type": "code",
   "execution_count": null,
   "metadata": {},
   "outputs": [],
   "source": [
    "test_output_df.insert(test_output_df.shape[1], 'Prob_True', \"\")\n",
    "test_output_df.insert(test_output_df.shape[1], 'Prob_False', \"\")\n",
    "test_output_df.insert(test_output_df.shape[1], 'Prediction', \"\")\n",
    "test_output_df.insert(test_output_df.shape[1], 'Pred_status', \"\")"
   ]
  },
  {
   "cell_type": "code",
   "execution_count": null,
   "metadata": {},
   "outputs": [],
   "source": [
    "test_output_df.shape,test_pred.shape, test_cnv_info_df.shape"
   ]
  },
  {
   "cell_type": "code",
   "execution_count": null,
   "metadata": {},
   "outputs": [],
   "source": [
    "num, correct_count = 0, 0\n",
    "for i in range(len(test_pred)):\n",
    "    num += 1\n",
    "    test_output_df.iloc[i,test_output_df.columns.get_loc('Prob_False')] = test_pred[i][0]\n",
    "    test_output_df.iloc[i,test_output_df.columns.get_loc('Prob_True')] = test_pred[i][1]\n",
    "\n",
    "    if(np.argmax(test_pred[i]) == 0):\n",
    "        test_output_df.iloc[i,test_output_df.columns.get_loc('Prediction')] = \"Negative\"\n",
    "    else:\n",
    "        test_output_df.iloc[i,test_output_df.columns.get_loc('Prediction')] = \"Positive\"\n",
    "        \n",
    "    if(np.argmax(test_pred[i]) == test_label[i]):\n",
    "        test_output_df.iloc[i,test_output_df.columns.get_loc('Pred_status')] = \"Correct\"\n",
    "        correct_count += 1\n",
    "    else:\n",
    "        test_output_df.iloc[i,test_output_df.columns.get_loc('Pred_status')] = \"Wrong\"\n",
    "#     print(num, test_pred[i], test_label[i], pred_status)\n",
    "score = correct_count/len(test_pred)\n",
    "print('Accuracy for testing data: %.2f%s' % (score*100,'%'))"
   ]
  },
  {
   "cell_type": "code",
   "execution_count": null,
   "metadata": {},
   "outputs": [],
   "source": [
    "## output to file\n",
    "output_path = '/home/rt2776/cnv_espresso/output/'\n",
    "test_output_df.to_csv(output_path+project_name+'_test_predict_info.csv',index=False)\n"
   ]
  },
  {
   "cell_type": "code",
   "execution_count": null,
   "metadata": {},
   "outputs": [],
   "source": [
    "test_output_df[test_output_df['Pred_status']=='Wrong']"
   ]
  },
  {
   "cell_type": "code",
   "execution_count": null,
   "metadata": {},
   "outputs": [],
   "source": [
    "test_output_df.index=range(len(test_output_df))"
   ]
  },
  {
   "cell_type": "code",
   "execution_count": null,
   "metadata": {},
   "outputs": [],
   "source": [
    "#i=random.randrange(len(test_img))\n",
    "i=random.choice(test_output_df[test_output_df['Pred_status']=='Wrong'].index)\n",
    "showImg(test_img[i]), \n",
    "print(test_label[i], test_pred[i],  test_output_df.iloc[i,:])"
   ]
  },
  {
   "cell_type": "markdown",
   "metadata": {},
   "source": [
    "### TODO:\n",
    "- Check the performance on different size categories on test data firstly and by k-fold cross validation secondly. "
   ]
  },
  {
   "cell_type": "markdown",
   "metadata": {},
   "source": [
    "## Reference:\n",
    "- Load image: https://keras.io/api/preprocessing/image/#load_img-function\n",
    "- Model example: https://towardsdatascience.com/covolutional-neural-network-cb0883dd6529\n",
    "- Transfer learning and toy demo: https://zhuanlan.zhihu.com/p/51889181\n",
    "- K-fold validation: https://medium.com/the-owl/k-fold-cross-validation-in-keras-3ec4a3a00538\n",
    "- ROC curve: https://medium.com/hackernoon/simple-guide-on-how-to-generate-roc-plot-for-keras-classifier-2ecc6c73115a\n",
    "- F1 score: https://datascience.stackexchange.com/questions/45165/how-to-get-accuracy-f1-precision-and-recall-for-a-keras-model\n",
    "- Generator: https://www.linkedin.com/pulse/keras-training-large-datasets-dont-fit-memory-rajat-garg/\n",
    "- Generator yield: https://www.machinecurve.com/index.php/2020/04/06/using-simple-generators-to-flow-data-from-file-with-keras/#using-model-fit-using-validation-data-specified-as-a-generator"
   ]
  },
  {
   "cell_type": "code",
   "execution_count": null,
   "metadata": {},
   "outputs": [],
   "source": []
  }
 ],
 "metadata": {
  "kernelspec": {
   "display_name": "Python 3",
   "language": "python",
   "name": "python3"
  },
  "language_info": {
   "codemirror_mode": {
    "name": "ipython",
    "version": 3
   },
   "file_extension": ".py",
   "mimetype": "text/x-python",
   "name": "python",
   "nbconvert_exporter": "python",
   "pygments_lexer": "ipython3",
   "version": "3.8.3"
  }
 },
 "nbformat": 4,
 "nbformat_minor": 4
}
