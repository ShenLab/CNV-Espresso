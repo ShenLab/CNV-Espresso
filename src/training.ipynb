{
 "cells": [
  {
   "cell_type": "markdown",
   "metadata": {},
   "source": [
    "# CNN training"
   ]
  },
  {
   "cell_type": "code",
   "execution_count": 1,
   "metadata": {},
   "outputs": [
    {
     "name": "stdout",
     "output_type": "stream",
     "text": [
      "Tensorflow version 2.2.0\n"
     ]
    }
   ],
   "source": [
    "import os\n",
    "import re\n",
    "import random\n",
    "import datetime\n",
    "import tensorflow as tf\n",
    "print(\"Tensorflow version \" + tf.__version__)\n",
    "\n",
    "import PIL\n",
    "import numpy as np\n",
    "from matplotlib import pyplot as plt\n",
    "from sklearn.model_selection import train_test_split\n",
    "\n",
    "from __future__ import print_function\n",
    "import keras\n",
    "import keras.preprocessing\n",
    "from keras.models import Sequential\n",
    "from keras.utils import to_categorical\n",
    "from keras.layers import Dense, Conv2D, MaxPooling2D, Dropout, Flatten\n",
    "from keras.models import load_model\n",
    "from keras.callbacks import EarlyStopping\n",
    "from keras.callbacks import ModelCheckpoint"
   ]
  },
  {
   "cell_type": "code",
   "execution_count": 2,
   "metadata": {},
   "outputs": [
    {
     "data": {
      "text/plain": [
       "[PhysicalDevice(name='/physical_device:GPU:0', device_type='GPU')]"
      ]
     },
     "execution_count": 2,
     "metadata": {},
     "output_type": "execute_result"
    }
   ],
   "source": [
    "os.environ['CUDA_VISIBLE_DEVICES'] = '0'\n",
    "physical_devices = tf.config.experimental.list_physical_devices('GPU') \n",
    "#tf.config.experimental.set_memory_growth(physical_devices[0], True)\n",
    "physical_devices"
   ]
  },
  {
   "cell_type": "markdown",
   "metadata": {},
   "source": [
    "# Functions"
   ]
  },
  {
   "cell_type": "code",
   "execution_count": 3,
   "metadata": {},
   "outputs": [],
   "source": [
    "def fileToList(file_name):\n",
    "    result_list = [] \n",
    "    fp = open(file_name)\n",
    "    for row in fp:\n",
    "        row = row.strip()\n",
    "        row = row.replace(\"\\\"\",\"\")\n",
    "        row = re.split('\\t',row)\n",
    "        #row = re.split(r'[;,\\s]\\s*', row)\n",
    "        result_list.append(row)\n",
    "    fp.close()  \n",
    "    return result_list "
   ]
  },
  {
   "cell_type": "code",
   "execution_count": 4,
   "metadata": {},
   "outputs": [],
   "source": [
    "def createModel():\n",
    "    model = Sequential()\n",
    "    # The first two layers with 32 filters of window size 3x3\n",
    "    model.add(Conv2D(32, (3, 3), padding='same', activation='relu', input_shape=input_shape))\n",
    "    model.add(Conv2D(32, (3, 3), activation='relu'))\n",
    "    model.add(MaxPooling2D(pool_size=(2, 2)))\n",
    "    model.add(Dropout(0.25))\n",
    "\n",
    "    model.add(Conv2D(64, (3, 3), padding='same', activation='relu'))\n",
    "    model.add(Conv2D(64, (3, 3), activation='relu'))\n",
    "    model.add(MaxPooling2D(pool_size=(2, 2)))\n",
    "    model.add(Dropout(0.25))\n",
    "\n",
    "    model.add(Conv2D(64, (3, 3), padding='same', activation='relu'))\n",
    "    model.add(Conv2D(64, (3, 3), activation='relu'))\n",
    "    model.add(MaxPooling2D(pool_size=(2, 2)))\n",
    "    model.add(Dropout(0.25))\n",
    "\n",
    "    model.add(Flatten())\n",
    "    model.add(Dense(512, activation='relu'))\n",
    "    model.add(Dropout(0.5))\n",
    "    model.add(Dense(nClasses, activation='softmax'))\n",
    "    \n",
    "    return model"
   ]
  },
  {
   "cell_type": "code",
   "execution_count": 5,
   "metadata": {},
   "outputs": [],
   "source": [
    "def showImg(img_data):\n",
    "    if type(img_data) is list:\n",
    "        image = tf.keras.preprocessing.image.load_img(img_data)\n",
    "        plt.imshow(image)\n",
    "    if type(img_data) is np.ndarray:\n",
    "        image = tf.keras.preprocessing.image.array_to_img(img_data)\n",
    "        plt.imshow(image)\n",
    "        \n",
    "        "
   ]
  },
  {
   "cell_type": "code",
   "execution_count": 6,
   "metadata": {},
   "outputs": [],
   "source": [
    "def resizeCropImg(img_file, target_width, target_height):\n",
    "    image = tf.keras.preprocessing.image.load_img(img_file)\n",
    "    width, height = image.size\n",
    "    left   = width*0.13\n",
    "    top    = height*0.13\n",
    "    right  = width*0.87\n",
    "    bottom = height*0.87\n",
    "    image = image.crop((left, top, right, bottom))\n",
    "    image = image.resize((target_width, target_height))\n",
    "    return image"
   ]
  },
  {
   "cell_type": "code",
   "execution_count": 7,
   "metadata": {},
   "outputs": [],
   "source": [
    "def loadImgs(cnv_list, img_width, img_height):\n",
    "    cnv_np = np.zeros((len(cnv_list), img_width, img_height, 3))\n",
    "    for index, each_cnv in enumerate(cnv_list):\n",
    "        if index % 1000 == 1:\n",
    "            time_stamp = datetime.datetime.now()\n",
    "            time_str   = time_stamp.strftime('%Y.%m.%d-%H:%M:%S')\n",
    "            print(\"[%s] Processing %d ...\"%(time_str, index))\n",
    "        cnv_img = resizeCropImg(each_cnv, img_width, img_height)\n",
    "        cnv_np[index] = tf.keras.preprocessing.image.img_to_array(cnv_img)\n",
    "    time_stamp = datetime.datetime.now()\n",
    "    time_str   = time_stamp.strftime('%Y.%m.%d-%H:%M:%S')\n",
    "    print(\"[%s] Done %d.\"%(time_str, index))\n",
    "    return cnv_np"
   ]
  },
  {
   "cell_type": "markdown",
   "metadata": {},
   "source": [
    "# Processing"
   ]
  },
  {
   "cell_type": "code",
   "execution_count": 8,
   "metadata": {},
   "outputs": [],
   "source": [
    "img_width, img_height = 224, 224"
   ]
  },
  {
   "cell_type": "code",
   "execution_count": null,
   "metadata": {},
   "outputs": [],
   "source": [
    "## For all deletions, including common and rare\n",
    "true_del_file = '/home/rt2776/cnv_espresso/images/true_del_entire_path.list'\n",
    "false_del_file = '/home/rt2776/cnv_espresso/images/false_del_entire_path.list'"
   ]
  },
  {
   "cell_type": "code",
   "execution_count": 9,
   "metadata": {},
   "outputs": [],
   "source": [
    "## For rare deletions\n",
    "true_del_file = '/home/rt2776/cnv_espresso/images_rare/true_rare_del.list'\n",
    "false_del_file = '/home/rt2776/cnv_espresso/images_rare/false_rare_del.list'"
   ]
  },
  {
   "cell_type": "code",
   "execution_count": 30,
   "metadata": {},
   "outputs": [],
   "source": [
    "## For rare duplications\n",
    "true_dup_file = '/home/rt2776/cnv_espresso/images_rare/true_rare_dup.list'\n",
    "false_dup_file = '/home/rt2776/cnv_espresso/images_rare/false_rare_dup.list'"
   ]
  },
  {
   "cell_type": "code",
   "execution_count": 53,
   "metadata": {},
   "outputs": [],
   "source": [
    "## For splited rare deletions\n",
    "true_file = '/home/rt2776/cnv_espresso/images_rare/true_rare_del_splits.list'\n",
    "false_file = '/home/rt2776/cnv_espresso/images_rare/false_rare_del_splits.list'"
   ]
  },
  {
   "cell_type": "code",
   "execution_count": 9,
   "metadata": {},
   "outputs": [],
   "source": [
    "## For splited rare duplications\n",
    "true_file = '/home/rt2776/cnv_espresso/images_rare/true_rare_dup_splits.list'\n",
    "false_file = '/home/rt2776/cnv_espresso/images_rare/false_rare_dup_splits.list'"
   ]
  },
  {
   "cell_type": "markdown",
   "metadata": {},
   "source": [
    "### Loading cnv image file paths to list"
   ]
  },
  {
   "cell_type": "code",
   "execution_count": 79,
   "metadata": {},
   "outputs": [
    {
     "data": {
      "text/plain": [
       "(64914, 7982)"
      ]
     },
     "execution_count": 79,
     "metadata": {},
     "output_type": "execute_result"
    }
   ],
   "source": [
    "true_list = [each_file[0] for each_file in fileToList(true_file)]\n",
    "false_list = [each_file[0] for each_file in fileToList(false_file)]\n",
    "len(true_list), len(false_list)"
   ]
  },
  {
   "cell_type": "markdown",
   "metadata": {},
   "source": [
    "### Loading images from list to numpy array"
   ]
  },
  {
   "cell_type": "code",
   "execution_count": 80,
   "metadata": {},
   "outputs": [
    {
     "name": "stdout",
     "output_type": "stream",
     "text": [
      "[2021.01.15-21:41:26] Processing 1 ...\n",
      "[2021.01.15-21:42:55] Processing 1001 ...\n",
      "[2021.01.15-21:44:34] Processing 2001 ...\n",
      "[2021.01.15-21:46:11] Processing 3001 ...\n",
      "[2021.01.15-21:47:47] Processing 4001 ...\n",
      "[2021.01.15-21:49:19] Processing 5001 ...\n",
      "[2021.01.15-21:50:50] Processing 6001 ...\n",
      "[2021.01.15-21:52:24] Processing 7001 ...\n",
      "[2021.01.15-21:53:57] Done 7981.\n"
     ]
    },
    {
     "data": {
      "text/plain": [
       "(7982, 224, 224, 3)"
      ]
     },
     "execution_count": 80,
     "metadata": {},
     "output_type": "execute_result"
    }
   ],
   "source": [
    "false_img_np = loadImgs(false_list, img_width, img_height)\n",
    "false_img_np.shape"
   ]
  },
  {
   "cell_type": "code",
   "execution_count": 81,
   "metadata": {},
   "outputs": [
    {
     "name": "stdout",
     "output_type": "stream",
     "text": [
      "[2021.01.15-21:53:58] Processing 1 ...\n",
      "[2021.01.15-21:55:29] Processing 1001 ...\n",
      "[2021.01.15-21:56:51] Processing 2001 ...\n",
      "[2021.01.15-21:58:13] Processing 3001 ...\n",
      "[2021.01.15-21:59:34] Processing 4001 ...\n",
      "[2021.01.15-22:00:58] Processing 5001 ...\n",
      "[2021.01.15-22:02:20] Processing 6001 ...\n",
      "[2021.01.15-22:03:35] Processing 7001 ...\n",
      "[2021.01.15-22:04:53] Processing 8001 ...\n",
      "[2021.01.15-22:06:15] Processing 9001 ...\n",
      "[2021.01.15-22:07:38] Processing 10001 ...\n",
      "[2021.01.15-22:09:00] Processing 11001 ...\n",
      "[2021.01.15-22:10:22] Processing 12001 ...\n",
      "[2021.01.15-22:11:44] Processing 13001 ...\n",
      "[2021.01.15-22:13:13] Processing 14001 ...\n",
      "[2021.01.15-22:14:37] Processing 15001 ...\n",
      "[2021.01.15-22:16:02] Processing 16001 ...\n",
      "[2021.01.15-22:17:29] Processing 17001 ...\n",
      "[2021.01.15-22:18:57] Processing 18001 ...\n",
      "[2021.01.15-22:20:25] Processing 19001 ...\n",
      "[2021.01.15-22:21:48] Processing 20001 ...\n",
      "[2021.01.15-22:23:15] Processing 21001 ...\n",
      "[2021.01.15-22:24:38] Processing 22001 ...\n",
      "[2021.01.15-22:26:03] Processing 23001 ...\n",
      "[2021.01.15-22:27:26] Processing 24001 ...\n",
      "[2021.01.15-22:28:53] Processing 25001 ...\n",
      "[2021.01.15-22:30:20] Processing 26001 ...\n",
      "[2021.01.15-22:31:47] Processing 27001 ...\n",
      "[2021.01.15-22:33:21] Processing 28001 ...\n",
      "[2021.01.15-22:34:50] Processing 29001 ...\n",
      "[2021.01.15-22:36:27] Processing 30001 ...\n",
      "[2021.01.15-22:38:02] Processing 31001 ...\n",
      "[2021.01.15-22:39:42] Processing 32001 ...\n",
      "[2021.01.15-22:41:25] Processing 33001 ...\n",
      "[2021.01.15-22:43:01] Processing 34001 ...\n",
      "[2021.01.15-22:44:35] Processing 35001 ...\n",
      "[2021.01.15-22:46:09] Processing 36001 ...\n",
      "[2021.01.15-22:47:45] Processing 37001 ...\n",
      "[2021.01.15-22:49:18] Processing 38001 ...\n",
      "[2021.01.15-22:50:48] Processing 39001 ...\n",
      "[2021.01.15-22:52:26] Processing 40001 ...\n",
      "[2021.01.15-22:54:01] Processing 41001 ...\n",
      "[2021.01.15-22:55:24] Processing 42001 ...\n",
      "[2021.01.15-22:56:55] Processing 43001 ...\n",
      "[2021.01.15-22:58:30] Processing 44001 ...\n",
      "[2021.01.15-23:00:06] Processing 45001 ...\n",
      "[2021.01.15-23:01:41] Processing 46001 ...\n",
      "[2021.01.15-23:03:14] Processing 47001 ...\n",
      "[2021.01.15-23:04:42] Processing 48001 ...\n",
      "[2021.01.15-23:06:23] Processing 49001 ...\n",
      "[2021.01.15-23:08:02] Processing 50001 ...\n",
      "[2021.01.15-23:09:38] Processing 51001 ...\n",
      "[2021.01.15-23:11:12] Processing 52001 ...\n",
      "[2021.01.15-23:12:49] Processing 53001 ...\n",
      "[2021.01.15-23:14:22] Processing 54001 ...\n",
      "[2021.01.15-23:15:56] Processing 55001 ...\n",
      "[2021.01.15-23:17:32] Processing 56001 ...\n",
      "[2021.01.15-23:19:06] Processing 57001 ...\n",
      "[2021.01.15-23:20:35] Processing 58001 ...\n",
      "[2021.01.15-23:22:06] Processing 59001 ...\n",
      "[2021.01.15-23:23:38] Processing 60001 ...\n",
      "[2021.01.15-23:25:15] Processing 61001 ...\n",
      "[2021.01.15-23:26:53] Processing 62001 ...\n",
      "[2021.01.15-23:28:28] Processing 63001 ...\n",
      "[2021.01.15-23:30:02] Processing 64001 ...\n",
      "[2021.01.15-23:31:30] Done 64913.\n"
     ]
    },
    {
     "data": {
      "text/plain": [
       "(64914, 224, 224, 3)"
      ]
     },
     "execution_count": 81,
     "metadata": {},
     "output_type": "execute_result"
    }
   ],
   "source": [
    "true_img_np = loadImgs(true_list, img_width, img_height)\n",
    "true_img_np.shape"
   ]
  },
  {
   "cell_type": "markdown",
   "metadata": {},
   "source": [
    "### Generage labels"
   ]
  },
  {
   "cell_type": "code",
   "execution_count": 82,
   "metadata": {},
   "outputs": [
    {
     "name": "stdout",
     "output_type": "stream",
     "text": [
      "[1, 1, 1, 1, 1] [0, 0, 0, 0, 0]\n",
      "64914 7982\n"
     ]
    }
   ],
   "source": [
    "true_label = [1 for i in range(0,len(true_img_np))]\n",
    "false_label = [0 for i in range(0,len(false_img_np))]\n",
    "print(true_label[0:5], false_label[0:5])\n",
    "print(len(true_label), len(false_label))"
   ]
  },
  {
   "cell_type": "markdown",
   "metadata": {},
   "source": [
    "### Combine and shuffle true and false data"
   ]
  },
  {
   "cell_type": "code",
   "execution_count": 83,
   "metadata": {},
   "outputs": [],
   "source": [
    "combined_img = np.vstack((true_img_np, false_img_np))\n",
    "combined_label = true_label + false_label"
   ]
  },
  {
   "cell_type": "code",
   "execution_count": 84,
   "metadata": {},
   "outputs": [],
   "source": [
    "tmp = list(zip(combined_img, combined_label))\n",
    "random.shuffle(tmp)\n",
    "combined_img, combined_label = zip(*tmp)\n",
    "combined_img_np = np.asarray(combined_img)"
   ]
  },
  {
   "cell_type": "markdown",
   "metadata": {},
   "source": [
    "### Backup or restore"
   ]
  },
  {
   "cell_type": "code",
   "execution_count": 85,
   "metadata": {},
   "outputs": [],
   "source": [
    "np.save('/home/rt2776/cnv_espresso/images_rare/rare_dup_splits_label', combined_label)\n",
    "np.save('/home/rt2776/cnv_espresso/images_rare/rare_dup_splits_img_np', combined_img_np)"
   ]
  },
  {
   "cell_type": "code",
   "execution_count": 10,
   "metadata": {},
   "outputs": [],
   "source": [
    "combined_label = np.load('/home/rt2776/cnv_espresso/images_rare/rare_dup_splits_label.npy')\n",
    "combined_img_np = np.load('/home/rt2776/cnv_espresso/images_rare/rare_dup_splits_img_np.npy')"
   ]
  },
  {
   "cell_type": "code",
   "execution_count": 11,
   "metadata": {},
   "outputs": [
    {
     "data": {
      "text/plain": [
       "(72896, 224, 224, 3)"
      ]
     },
     "execution_count": 11,
     "metadata": {},
     "output_type": "execute_result"
    }
   ],
   "source": [
    "combined_img_np.shape"
   ]
  },
  {
   "cell_type": "markdown",
   "metadata": {},
   "source": [
    "### Split dataset into training(80%) and testing(20%) dataset"
   ]
  },
  {
   "cell_type": "code",
   "execution_count": 12,
   "metadata": {},
   "outputs": [],
   "source": [
    "train_img, test_img, train_label, test_label = train_test_split(combined_img_np,combined_label,test_size=0.2,random_state=0)"
   ]
  },
  {
   "cell_type": "code",
   "execution_count": 13,
   "metadata": {},
   "outputs": [
    {
     "data": {
      "text/plain": [
       "((58316, 224, 224, 3), (14580, 224, 224, 3))"
      ]
     },
     "execution_count": 13,
     "metadata": {},
     "output_type": "execute_result"
    }
   ],
   "source": [
    "train_img.shape, test_img.shape"
   ]
  },
  {
   "cell_type": "code",
   "execution_count": 14,
   "metadata": {},
   "outputs": [
    {
     "data": {
      "text/plain": [
       "(58316, 14580)"
      ]
     },
     "execution_count": 14,
     "metadata": {},
     "output_type": "execute_result"
    }
   ],
   "source": [
    "len(train_label), len(test_label)"
   ]
  },
  {
   "cell_type": "code",
   "execution_count": 15,
   "metadata": {},
   "outputs": [
    {
     "data": {
      "image/png": "[encoded data removed]",
      "text/plain": [
       "<Figure size 432x288 with 1 Axes>"
      ]
     },
     "metadata": {
      "needs_background": "light"
     },
     "output_type": "display_data"
    }
   ],
   "source": [
    "showImg(train_img[1])"
   ]
  },
  {
   "cell_type": "markdown",
   "metadata": {},
   "source": [
    "### Normalization"
   ]
  },
  {
   "cell_type": "code",
   "execution_count": 16,
   "metadata": {},
   "outputs": [],
   "source": [
    "# Find the shape of input images and create the variable input_shape\n",
    "nRows,nCols,nDims = train_img.shape[1:]\n",
    "input_shape = (nRows, nCols, nDims)"
   ]
  },
  {
   "cell_type": "code",
   "execution_count": 17,
   "metadata": {},
   "outputs": [],
   "source": [
    "# Change to float datatype\n",
    "train_img = train_img.astype('float32')\n",
    "test_img = test_img.astype('float32')\n",
    "\n",
    "# Scale the data to lie between 0 to 1\n",
    "train_img /= 255\n",
    "test_img /= 255\n",
    "\n",
    "# Change the labels from integer to categorical data\n",
    "train_labels_one_hot = to_categorical(train_label)\n",
    "test_labels_one_hot = to_categorical(test_label)"
   ]
  },
  {
   "cell_type": "code",
   "execution_count": 18,
   "metadata": {},
   "outputs": [
    {
     "name": "stdout",
     "output_type": "stream",
     "text": [
      "Total number of outputs :  2\n",
      "Output classes :  [0 1]\n"
     ]
    }
   ],
   "source": [
    "# Find the unique numbers from the train labels\n",
    "classes = np.unique(train_label)\n",
    "nClasses = len(classes)\n",
    "print('Total number of outputs : ', nClasses)\n",
    "print('Output classes : ', classes)"
   ]
  },
  {
   "cell_type": "code",
   "execution_count": 19,
   "metadata": {},
   "outputs": [
    {
     "name": "stdout",
     "output_type": "stream",
     "text": [
      "1\n"
     ]
    },
    {
     "data": {
      "image/png": "[encoded data removed]",
      "text/plain": [
       "<Figure size 432x288 with 1 Axes>"
      ]
     },
     "metadata": {
      "needs_background": "light"
     },
     "output_type": "display_data"
    }
   ],
   "source": [
    "item = random.randint(0,len(train_label))\n",
    "print(train_label[item])\n",
    "showImg(train_img[item])"
   ]
  },
  {
   "cell_type": "markdown",
   "metadata": {},
   "source": [
    "### Train deep nerual network model"
   ]
  },
  {
   "cell_type": "code",
   "execution_count": 22,
   "metadata": {},
   "outputs": [
    {
     "name": "stdout",
     "output_type": "stream",
     "text": [
      "Model: \"sequential_1\"\n",
      "_________________________________________________________________\n",
      "Layer (type)                 Output Shape              Param #   \n",
      "=================================================================\n",
      "conv2d_6 (Conv2D)            (None, 224, 224, 32)      896       \n",
      "_________________________________________________________________\n",
      "conv2d_7 (Conv2D)            (None, 222, 222, 32)      9248      \n",
      "_________________________________________________________________\n",
      "max_pooling2d_3 (MaxPooling2 (None, 111, 111, 32)      0         \n",
      "_________________________________________________________________\n",
      "dropout_4 (Dropout)          (None, 111, 111, 32)      0         \n",
      "_________________________________________________________________\n",
      "conv2d_8 (Conv2D)            (None, 111, 111, 64)      18496     \n",
      "_________________________________________________________________\n",
      "conv2d_9 (Conv2D)            (None, 109, 109, 64)      36928     \n",
      "_________________________________________________________________\n",
      "max_pooling2d_4 (MaxPooling2 (None, 54, 54, 64)        0         \n",
      "_________________________________________________________________\n",
      "dropout_5 (Dropout)          (None, 54, 54, 64)        0         \n",
      "_________________________________________________________________\n",
      "conv2d_10 (Conv2D)           (None, 54, 54, 64)        36928     \n",
      "_________________________________________________________________\n",
      "conv2d_11 (Conv2D)           (None, 52, 52, 64)        36928     \n",
      "_________________________________________________________________\n",
      "max_pooling2d_5 (MaxPooling2 (None, 26, 26, 64)        0         \n",
      "_________________________________________________________________\n",
      "dropout_6 (Dropout)          (None, 26, 26, 64)        0         \n",
      "_________________________________________________________________\n",
      "flatten_1 (Flatten)          (None, 43264)             0         \n",
      "_________________________________________________________________\n",
      "dense_2 (Dense)              (None, 512)               22151680  \n",
      "_________________________________________________________________\n",
      "dropout_7 (Dropout)          (None, 512)               0         \n",
      "_________________________________________________________________\n",
      "dense_3 (Dense)              (None, 2)                 1026      \n",
      "=================================================================\n",
      "Total params: 22,292,130\n",
      "Trainable params: 22,292,130\n",
      "Non-trainable params: 0\n",
      "_________________________________________________________________\n",
      "Epoch 1/50\n",
      "1458/1458 [==============================] - ETA: 0s - loss: 0.3487 - accuracy: 0.8898\n",
      "Epoch 00001: val_accuracy improved from -inf to 0.89787, saving model to best_model.h5\n",
      "1458/1458 [==============================] - 239s 164ms/step - loss: 0.3487 - accuracy: 0.8898 - val_loss: 0.2113 - val_accuracy: 0.8979\n",
      "Epoch 2/50\n",
      "1458/1458 [==============================] - ETA: 0s - loss: 0.2291 - accuracy: 0.8931\n",
      "Epoch 00002: val_accuracy improved from 0.89787 to 0.90069, saving model to best_model.h5\n",
      "1458/1458 [==============================] - 232s 159ms/step - loss: 0.2291 - accuracy: 0.8931 - val_loss: 0.2093 - val_accuracy: 0.9007\n",
      "Epoch 3/50\n",
      "1458/1458 [==============================] - ETA: 0s - loss: 0.2255 - accuracy: 0.8942\n",
      "Epoch 00003: val_accuracy improved from 0.90069 to 0.90075, saving model to best_model.h5\n",
      "1458/1458 [==============================] - 230s 158ms/step - loss: 0.2255 - accuracy: 0.8942 - val_loss: 0.2314 - val_accuracy: 0.9008\n",
      "Epoch 4/50\n",
      "1458/1458 [==============================] - ETA: 0s - loss: 0.2343 - accuracy: 0.8946\n",
      "Epoch 00004: val_accuracy did not improve from 0.90075\n",
      "1458/1458 [==============================] - 233s 160ms/step - loss: 0.2343 - accuracy: 0.8946 - val_loss: 0.2159 - val_accuracy: 0.8955\n",
      "Epoch 5/50\n",
      "1458/1458 [==============================] - ETA: 0s - loss: 0.2349 - accuracy: 0.8947\n",
      "Epoch 00005: val_accuracy improved from 0.90075 to 0.90254, saving model to best_model.h5\n",
      "1458/1458 [==============================] - 235s 161ms/step - loss: 0.2349 - accuracy: 0.8947 - val_loss: 0.2059 - val_accuracy: 0.9025\n",
      "Epoch 6/50\n",
      "1458/1458 [==============================] - ETA: 0s - loss: 0.2556 - accuracy: 0.8947\n",
      "Epoch 00006: val_accuracy did not improve from 0.90254\n",
      "1458/1458 [==============================] - 234s 161ms/step - loss: 0.2556 - accuracy: 0.8947 - val_loss: 0.2026 - val_accuracy: 0.8989\n",
      "Epoch 7/50\n",
      "1458/1458 [==============================] - ETA: 0s - loss: 0.7310 - accuracy: 0.8924\n",
      "Epoch 00007: val_accuracy did not improve from 0.90254\n",
      "1458/1458 [==============================] - 230s 158ms/step - loss: 0.7310 - accuracy: 0.8924 - val_loss: 0.2266 - val_accuracy: 0.8984\n",
      "Epoch 8/50\n",
      "1458/1458 [==============================] - ETA: 0s - loss: 0.2561 - accuracy: 0.8929\n",
      "Epoch 00008: val_accuracy did not improve from 0.90254\n",
      "1458/1458 [==============================] - 230s 157ms/step - loss: 0.2561 - accuracy: 0.8929 - val_loss: 0.2332 - val_accuracy: 0.8934\n",
      "Epoch 9/50\n",
      "1458/1458 [==============================] - ETA: 0s - loss: 0.2616 - accuracy: 0.8933\n",
      "Epoch 00009: val_accuracy did not improve from 0.90254\n",
      "1458/1458 [==============================] - 236s 162ms/step - loss: 0.2616 - accuracy: 0.8933 - val_loss: 0.3003 - val_accuracy: 0.8929\n",
      "Epoch 10/50\n",
      "1458/1458 [==============================] - ETA: 0s - loss: 0.3274 - accuracy: 0.8942\n",
      "Epoch 00010: val_accuracy did not improve from 0.90254\n",
      "1458/1458 [==============================] - 229s 157ms/step - loss: 0.3274 - accuracy: 0.8942 - val_loss: 0.2417 - val_accuracy: 0.8932\n",
      "Epoch 11/50\n",
      "1458/1458 [==============================] - ETA: 0s - loss: 0.2624 - accuracy: 0.8936\n",
      "Epoch 00011: val_accuracy did not improve from 0.90254\n",
      "1458/1458 [==============================] - 232s 159ms/step - loss: 0.2624 - accuracy: 0.8936 - val_loss: 0.2428 - val_accuracy: 0.8936\n",
      "Epoch 12/50\n",
      "1458/1458 [==============================] - ETA: 0s - loss: 0.2486 - accuracy: 0.8929\n",
      "Epoch 00012: val_accuracy did not improve from 0.90254\n",
      "1458/1458 [==============================] - 231s 158ms/step - loss: 0.2486 - accuracy: 0.8929 - val_loss: 0.2112 - val_accuracy: 0.8977\n",
      "Epoch 13/50\n",
      "1458/1458 [==============================] - ETA: 0s - loss: 1.0075 - accuracy: 0.8917\n",
      "Epoch 00013: val_accuracy did not improve from 0.90254\n",
      "1458/1458 [==============================] - 231s 158ms/step - loss: 1.0075 - accuracy: 0.8917 - val_loss: 0.2854 - val_accuracy: 0.8962\n",
      "Epoch 14/50\n",
      "1458/1458 [==============================] - ETA: 0s - loss: 0.2464 - accuracy: 0.8908\n",
      "Epoch 00014: val_accuracy did not improve from 0.90254\n",
      "1458/1458 [==============================] - 232s 159ms/step - loss: 0.2464 - accuracy: 0.8908 - val_loss: 0.2360 - val_accuracy: 0.8951\n",
      "Epoch 15/50\n",
      "1458/1458 [==============================] - ETA: 0s - loss: 0.3309 - accuracy: 0.8907\n",
      "Epoch 00015: val_accuracy did not improve from 0.90254\n",
      "1458/1458 [==============================] - 235s 161ms/step - loss: 0.3309 - accuracy: 0.8907 - val_loss: 0.3631 - val_accuracy: 0.8929\n",
      "Epoch 16/50\n",
      "1458/1458 [==============================] - ETA: 0s - loss: 0.2853 - accuracy: 0.8902\n",
      "Epoch 00016: val_accuracy did not improve from 0.90254\n",
      "1458/1458 [==============================] - 232s 159ms/step - loss: 0.2853 - accuracy: 0.8902 - val_loss: 0.2835 - val_accuracy: 0.8905\n",
      "Epoch 17/50\n",
      "1458/1458 [==============================] - ETA: 0s - loss: 0.3185 - accuracy: 0.8896\n",
      "Epoch 00017: val_accuracy did not improve from 0.90254\n",
      "1458/1458 [==============================] - 229s 157ms/step - loss: 0.3185 - accuracy: 0.8896 - val_loss: 0.3186 - val_accuracy: 0.8929\n",
      "Epoch 18/50\n",
      "1458/1458 [==============================] - ETA: 0s - loss: 0.3416 - accuracy: 0.8891\n",
      "Epoch 00018: val_accuracy did not improve from 0.90254\n",
      "1458/1458 [==============================] - 234s 161ms/step - loss: 0.3416 - accuracy: 0.8891 - val_loss: 0.4404 - val_accuracy: 0.8929\n",
      "Epoch 19/50\n",
      "1458/1458 [==============================] - ETA: 0s - loss: 0.3382 - accuracy: 0.8893\n",
      "Epoch 00019: val_accuracy did not improve from 0.90254\n",
      "1458/1458 [==============================] - 228s 157ms/step - loss: 0.3382 - accuracy: 0.8893 - val_loss: 0.3408 - val_accuracy: 0.8929\n",
      "Epoch 20/50\n",
      "1458/1458 [==============================] - ETA: 0s - loss: 0.4238 - accuracy: 0.8892\n",
      "Epoch 00020: val_accuracy did not improve from 0.90254\n",
      "1458/1458 [==============================] - 230s 158ms/step - loss: 0.4238 - accuracy: 0.8892 - val_loss: 0.3718 - val_accuracy: 0.8929\n",
      "Epoch 21/50\n",
      "1458/1458 [==============================] - ETA: 0s - loss: 0.3691 - accuracy: 0.8874\n",
      "Epoch 00021: val_accuracy did not improve from 0.90254\n",
      "1458/1458 [==============================] - 235s 161ms/step - loss: 0.3691 - accuracy: 0.8874 - val_loss: 0.3869 - val_accuracy: 0.8929\n",
      "Epoch 22/50\n",
      "1458/1458 [==============================] - ETA: 0s - loss: 0.3107 - accuracy: 0.8890\n",
      "Epoch 00022: val_accuracy did not improve from 0.90254\n",
      "1458/1458 [==============================] - 230s 158ms/step - loss: 0.3107 - accuracy: 0.8890 - val_loss: 0.5328 - val_accuracy: 0.8929\n",
      "Epoch 23/50\n",
      "1458/1458 [==============================] - ETA: 0s - loss: 0.3846 - accuracy: 0.8895\n",
      "Epoch 00023: val_accuracy did not improve from 0.90254\n",
      "1458/1458 [==============================] - 230s 158ms/step - loss: 0.3846 - accuracy: 0.8895 - val_loss: 0.3655 - val_accuracy: 0.8929\n",
      "Epoch 24/50\n",
      "1458/1458 [==============================] - ETA: 0s - loss: 0.4457 - accuracy: 0.8894\n",
      "Epoch 00024: val_accuracy did not improve from 0.90254\n",
      "1458/1458 [==============================] - 231s 158ms/step - loss: 0.4457 - accuracy: 0.8894 - val_loss: 0.3394 - val_accuracy: 0.8929\n",
      "Epoch 25/50\n",
      "1458/1458 [==============================] - ETA: 0s - loss: 0.6293 - accuracy: 0.8889\n",
      "Epoch 00025: val_accuracy did not improve from 0.90254\n",
      "1458/1458 [==============================] - 234s 161ms/step - loss: 0.6293 - accuracy: 0.8889 - val_loss: 0.3238 - val_accuracy: 0.8929\n",
      "Epoch 26/50\n",
      "1458/1458 [==============================] - ETA: 0s - loss: 0.3681 - accuracy: 0.8888\n",
      "Epoch 00026: val_accuracy did not improve from 0.90254\n",
      "1458/1458 [==============================] - 237s 162ms/step - loss: 0.3681 - accuracy: 0.8888 - val_loss: 0.3559 - val_accuracy: 0.8929\n",
      "Epoch 00026: early stopping\n"
     ]
    }
   ],
   "source": [
    "model1 = createModel()\n",
    "batch_size = 40\n",
    "epochs = 50\n",
    "model1.compile(optimizer='rmsprop', loss='categorical_crossentropy', metrics=['accuracy'])\n",
    "\n",
    "model1.summary()\n",
    "\n",
    "es = EarlyStopping(monitor='val_loss', mode='min', verbose=1, patience=20)\n",
    "mc = ModelCheckpoint('best_model.h5', monitor='val_accuracy', mode='max', verbose=1, save_best_only=True)\n",
    "history = model1.fit(train_img, train_labels_one_hot, batch_size=batch_size, epochs=epochs, verbose=1, \n",
    "                   validation_data=(test_img, test_labels_one_hot), callbacks=[es, mc])"
   ]
  },
  {
   "cell_type": "code",
   "execution_count": 23,
   "metadata": {},
   "outputs": [
    {
     "name": "stdout",
     "output_type": "stream",
     "text": [
      "456/456 [==============================] - 19s 41ms/step - loss: 0.3559 - accuracy: 0.8929\n"
     ]
    },
    {
     "data": {
      "text/plain": [
       "[0.35592806339263916, 0.8928669691085815]"
      ]
     },
     "execution_count": 23,
     "metadata": {},
     "output_type": "execute_result"
    }
   ],
   "source": [
    "model1.evaluate(test_img, test_labels_one_hot)"
   ]
  },
  {
   "cell_type": "code",
   "execution_count": 24,
   "metadata": {},
   "outputs": [
    {
     "data": {
      "text/plain": [
       "Text(0.5, 1.0, 'Loss Curves')"
      ]
     },
     "execution_count": 24,
     "metadata": {},
     "output_type": "execute_result"
    },
    {
     "data": {
      "image/png": "[encoded data removed]",
      "text/plain": [
       "<Figure size 576x432 with 1 Axes>"
      ]
     },
     "metadata": {
      "needs_background": "light"
     },
     "output_type": "display_data"
    }
   ],
   "source": [
    "plt.figure(figsize=[8,6])\n",
    "plt.plot(history.history['loss'],'r',linewidth=3.0)\n",
    "plt.plot(history.history['val_loss'],'b',linewidth=3.0)\n",
    "plt.legend(['Training loss', 'Validation Loss'],fontsize=18)\n",
    "plt.xlabel('Epochs ',fontsize=16)\n",
    "plt.ylabel('Loss',fontsize=16)\n",
    "plt.title('Loss Curves',fontsize=16)"
   ]
  },
  {
   "cell_type": "code",
   "execution_count": 25,
   "metadata": {},
   "outputs": [
    {
     "data": {
      "text/plain": [
       "Text(0.5, 1.0, 'Accuracy Curves')"
      ]
     },
     "execution_count": 25,
     "metadata": {},
     "output_type": "execute_result"
    },
    {
     "data": {
      "image/png": "[encoded data removed]",
      "text/plain": [
       "<Figure size 576x432 with 1 Axes>"
      ]
     },
     "metadata": {
      "needs_background": "light"
     },
     "output_type": "display_data"
    }
   ],
   "source": [
    "plt.figure(figsize=[8,6])\n",
    "plt.plot(history.history['accuracy'],'r',linewidth=3.0)\n",
    "plt.plot(history.history['val_accuracy'],'b',linewidth=3.0)\n",
    "plt.legend(['Training Accuracy', 'Validation Accuracy'],fontsize=18)\n",
    "plt.xlabel('Epochs ',fontsize=16)\n",
    "plt.ylabel('Accuracy',fontsize=16)\n",
    "plt.title('Accuracy Curves',fontsize=16)"
   ]
  },
  {
   "cell_type": "markdown",
   "metadata": {},
   "source": [
    "## Reference:\n",
    "- load image: https://keras.io/api/preprocessing/image/#load_img-function\n",
    "- Model example: https://towardsdatascience.com/covolutional-neural-network-cb0883dd6529\n",
    "- https://zhuanlan.zhihu.com/p/51889181"
   ]
  }
 ],
 "metadata": {
  "kernelspec": {
   "display_name": "Python 3",
   "language": "python",
   "name": "python3"
  },
  "language_info": {
   "codemirror_mode": {
    "name": "ipython",
    "version": 3
   },
   "file_extension": ".py",
   "mimetype": "text/x-python",
   "name": "python",
   "nbconvert_exporter": "python",
   "pygments_lexer": "ipython3",
   "version": "3.8.3"
  }
 },
 "nbformat": 4,
 "nbformat_minor": 4
}
