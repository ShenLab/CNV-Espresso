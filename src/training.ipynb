{
 "cells": [
  {
   "cell_type": "markdown",
   "metadata": {},
   "source": [
    "# CNN training"
   ]
  },
  {
   "cell_type": "code",
   "execution_count": 1,
   "metadata": {},
   "outputs": [
    {
     "name": "stdout",
     "output_type": "stream",
     "text": [
      "Tensorflow version 2.2.0\n"
     ]
    }
   ],
   "source": [
    "import os\n",
    "import re\n",
    "import random\n",
    "import datetime\n",
    "import tensorflow as tf\n",
    "print(\"Tensorflow version \" + tf.__version__)\n",
    "\n",
    "import PIL\n",
    "import numpy as np\n",
    "from matplotlib import pyplot as plt\n",
    "from sklearn.model_selection import train_test_split\n",
    "from sklearn.metrics import roc_curve\n",
    "from sklearn.metrics import auc\n",
    "\n",
    "from __future__ import print_function\n",
    "import keras\n",
    "import keras.preprocessing\n",
    "from keras.models import Sequential\n",
    "from keras.utils import to_categorical\n",
    "from keras.layers import Dense, Conv2D, MaxPooling2D, Dropout, Flatten\n",
    "from keras.models import load_model\n",
    "from keras.callbacks import EarlyStopping\n",
    "from keras.callbacks import ModelCheckpoint"
   ]
  },
  {
   "cell_type": "code",
   "execution_count": 2,
   "metadata": {},
   "outputs": [
    {
     "data": {
      "text/plain": [
       "[PhysicalDevice(name='/physical_device:GPU:0', device_type='GPU'),\n",
       " PhysicalDevice(name='/physical_device:GPU:1', device_type='GPU')]"
      ]
     },
     "execution_count": 2,
     "metadata": {},
     "output_type": "execute_result"
    }
   ],
   "source": [
    "os.environ['CUDA_VISIBLE_DEVICES'] = \"1\"\n",
    "physical_devices = tf.config.experimental.list_physical_devices('GPU') \n",
    "physical_devices"
   ]
  },
  {
   "cell_type": "markdown",
   "metadata": {},
   "source": [
    "# Functions"
   ]
  },
  {
   "cell_type": "code",
   "execution_count": 3,
   "metadata": {},
   "outputs": [],
   "source": [
    "def fileToList(file_name):\n",
    "    result_list = [] \n",
    "    fp = open(file_name)\n",
    "    for row in fp:\n",
    "        row = row.strip()\n",
    "        row = row.replace(\"\\\"\",\"\")\n",
    "        row = re.split('\\t',row)\n",
    "        #row = re.split(r'[;,\\s]\\s*', row)\n",
    "        result_list.append(row)\n",
    "    fp.close()  \n",
    "    return result_list "
   ]
  },
  {
   "cell_type": "code",
   "execution_count": 4,
   "metadata": {},
   "outputs": [],
   "source": [
    "def createModel():\n",
    "    model = Sequential()\n",
    "    # The first two layers with 32 filters of window size 3x3\n",
    "    model.add(Conv2D(32, (3, 3), padding='same', activation='relu', input_shape=input_shape))\n",
    "    model.add(Conv2D(32, (3, 3), activation='relu'))\n",
    "    model.add(MaxPooling2D(pool_size=(2, 2)))\n",
    "    model.add(Dropout(0.25))\n",
    "\n",
    "    model.add(Conv2D(64, (3, 3), padding='same', activation='relu'))\n",
    "    model.add(Conv2D(64, (3, 3), activation='relu'))\n",
    "    model.add(MaxPooling2D(pool_size=(2, 2)))\n",
    "    model.add(Dropout(0.25))\n",
    "\n",
    "    model.add(Conv2D(64, (3, 3), padding='same', activation='relu'))\n",
    "    model.add(Conv2D(64, (3, 3), activation='relu'))\n",
    "    model.add(MaxPooling2D(pool_size=(2, 2)))\n",
    "    model.add(Dropout(0.25))\n",
    "\n",
    "    model.add(Flatten())\n",
    "    model.add(Dense(512, activation='relu'))\n",
    "    model.add(Dropout(0.5))\n",
    "    model.add(Dense(nClasses, activation='softmax'))\n",
    "    \n",
    "    return model"
   ]
  },
  {
   "cell_type": "code",
   "execution_count": 5,
   "metadata": {},
   "outputs": [],
   "source": [
    "def showImg(img_data):\n",
    "    if type(img_data) is list:\n",
    "        image = tf.keras.preprocessing.image.load_img(img_data)\n",
    "        plt.imshow(image)\n",
    "    if type(img_data) is np.ndarray:\n",
    "        image = tf.keras.preprocessing.image.array_to_img(img_data)\n",
    "        plt.imshow(image)"
   ]
  },
  {
   "cell_type": "code",
   "execution_count": 6,
   "metadata": {},
   "outputs": [],
   "source": [
    "def resizeCropImg(img_file, target_width, target_height):\n",
    "    image = tf.keras.preprocessing.image.load_img(img_file)\n",
    "    width, height = image.size\n",
    "    left   = width*0.13\n",
    "    top    = height*0.13\n",
    "    right  = width*0.87\n",
    "    bottom = height*0.87\n",
    "    image = image.crop((left, top, right, bottom))\n",
    "    image = image.resize((target_width, target_height))\n",
    "    return image"
   ]
  },
  {
   "cell_type": "code",
   "execution_count": 7,
   "metadata": {},
   "outputs": [],
   "source": [
    "def loadImgs(cnv_list, img_width, img_height):\n",
    "    cnv_np = np.zeros((len(cnv_list), img_width, img_height, 3))\n",
    "    for index, each_cnv in enumerate(cnv_list):\n",
    "        if index % 1000 == 1:\n",
    "            time_stamp = datetime.datetime.now()\n",
    "            time_str   = time_stamp.strftime('%Y.%m.%d-%H:%M:%S')\n",
    "            print(\"[%s] Processing %d ...\"%(time_str, index))\n",
    "        cnv_img = resizeCropImg(each_cnv, img_width, img_height)\n",
    "        cnv_np[index] = tf.keras.preprocessing.image.img_to_array(cnv_img)\n",
    "    time_stamp = datetime.datetime.now()\n",
    "    time_str   = time_stamp.strftime('%Y.%m.%d-%H:%M:%S')\n",
    "    print(\"[%s] Done %d.\"%(time_str, index))\n",
    "    return cnv_np"
   ]
  },
  {
   "cell_type": "markdown",
   "metadata": {},
   "source": [
    "# Processing"
   ]
  },
  {
   "cell_type": "code",
   "execution_count": 8,
   "metadata": {},
   "outputs": [],
   "source": [
    "img_width, img_height = 224, 224"
   ]
  },
  {
   "cell_type": "code",
   "execution_count": 9,
   "metadata": {},
   "outputs": [],
   "source": [
    "# ## For all deletions, including common and rare\n",
    "# true_del_file = '/home/rt2776/cnv_espresso/images/true_del_entire_path.list'\n",
    "# false_del_file = '/home/rt2776/cnv_espresso/images/false_del_entire_path.list'"
   ]
  },
  {
   "cell_type": "code",
   "execution_count": 10,
   "metadata": {},
   "outputs": [],
   "source": [
    "# ## For rare deletions\n",
    "# true_file = '/home/rt2776/cnv_espresso/images_rare/true_rare_del.list'\n",
    "# false_file = '/home/rt2776/cnv_espresso/images_rare/false_rare_del.list'"
   ]
  },
  {
   "cell_type": "code",
   "execution_count": 11,
   "metadata": {},
   "outputs": [],
   "source": [
    "# ## For rare duplications\n",
    "# true_dup_file = '/home/rt2776/cnv_espresso/images_rare/true_rare_dup.list'\n",
    "# false_dup_file = '/home/rt2776/cnv_espresso/images_rare/false_rare_dup.list'"
   ]
  },
  {
   "cell_type": "code",
   "execution_count": 12,
   "metadata": {},
   "outputs": [],
   "source": [
    "# ## For splited rare deletions\n",
    "# true_file = '/home/rt2776/cnv_espresso/images_rare/true_rare_del_splits.list'\n",
    "# false_file = '/home/rt2776/cnv_espresso/images_rare/false_rare_del_splits.list'"
   ]
  },
  {
   "cell_type": "code",
   "execution_count": 13,
   "metadata": {},
   "outputs": [],
   "source": [
    "# ## For splited rare duplications\n",
    "# true_file = '/home/rt2776/cnv_espresso/images_rare/true_rare_dup_splits.list'\n",
    "# false_file = '/home/rt2776/cnv_espresso/images_rare/false_rare_dup_splits.list'"
   ]
  },
  {
   "cell_type": "markdown",
   "metadata": {},
   "source": [
    "### Loading cnv image file paths to list"
   ]
  },
  {
   "cell_type": "code",
   "execution_count": 14,
   "metadata": {},
   "outputs": [],
   "source": [
    "# true_list = [each_file[0] for each_file in fileToList(true_file)]\n",
    "# false_list = [each_file[0] for each_file in fileToList(false_file)]\n",
    "# len(true_list), len(false_list)"
   ]
  },
  {
   "cell_type": "markdown",
   "metadata": {},
   "source": [
    "### Loading images from list to numpy array"
   ]
  },
  {
   "cell_type": "code",
   "execution_count": 15,
   "metadata": {},
   "outputs": [],
   "source": [
    "# false_img_np = loadImgs(false_list, img_width, img_height)\n",
    "# false_img_np.shape"
   ]
  },
  {
   "cell_type": "code",
   "execution_count": 16,
   "metadata": {},
   "outputs": [],
   "source": [
    "# true_img_np = loadImgs(true_list, img_width, img_height)\n",
    "# true_img_np.shape"
   ]
  },
  {
   "cell_type": "markdown",
   "metadata": {},
   "source": [
    "### Generage labels"
   ]
  },
  {
   "cell_type": "code",
   "execution_count": 17,
   "metadata": {},
   "outputs": [],
   "source": [
    "# true_label = [1 for i in range(0,len(true_img_np))]\n",
    "# false_label = [0 for i in range(0,len(false_img_np))]\n",
    "# print(true_label[0:5], false_label[0:5])\n",
    "# print(len(true_label), len(false_label))"
   ]
  },
  {
   "cell_type": "markdown",
   "metadata": {},
   "source": [
    "### Combine and shuffle true and false data"
   ]
  },
  {
   "cell_type": "code",
   "execution_count": 18,
   "metadata": {},
   "outputs": [],
   "source": [
    "# combined_img = np.vstack((true_img_np, false_img_np))\n",
    "# combined_label = true_label + false_label"
   ]
  },
  {
   "cell_type": "code",
   "execution_count": 19,
   "metadata": {},
   "outputs": [],
   "source": [
    "# tmp = list(zip(combined_img, combined_label))\n",
    "# random.shuffle(tmp)\n",
    "# combined_img, combined_label = zip(*tmp)\n",
    "# combined_img_np = np.asarray(combined_img)"
   ]
  },
  {
   "cell_type": "markdown",
   "metadata": {},
   "source": [
    "### Backup or restore"
   ]
  },
  {
   "cell_type": "code",
   "execution_count": 20,
   "metadata": {},
   "outputs": [],
   "source": [
    "# np.save('/home/rt2776/cnv_espresso/images_rare/rare_dup_splits_label', combined_label)\n",
    "# np.save('/home/rt2776/cnv_espresso/images_rare/rare_dup_splits_img_np', combined_img_np)"
   ]
  },
  {
   "cell_type": "code",
   "execution_count": 21,
   "metadata": {},
   "outputs": [],
   "source": [
    "# # Rare entire deletions\n",
    "# project_name = 'rare_entire_del'\n",
    "# combined_label = np.load('/home/rt2776/cnv_espresso/images_rare/rare_del_label.npy')\n",
    "# combined_img_np = np.load('/home/rt2776/cnv_espresso/images_rare/rare_del_img_np.npy')\n",
    "\n",
    "# # Rare entire duplications\n",
    "# project_name = 'rare_entire_dup'\n",
    "# combined_label = np.load('/home/rt2776/cnv_espresso/images_rare/rare_dup_label.npy')\n",
    "# combined_img_np = np.load('/home/rt2776/cnv_espresso/images_rare/rare_dup_img_np.npy')\n",
    "\n",
    "# rare split deletion\n",
    "project_name = 'rare_split_del'\n",
    "combined_label = np.load('/home/rt2776/cnv_espresso/images_rare/rare_del_splits_label.npy')\n",
    "combined_img_np = np.load('/home/rt2776/cnv_espresso/images_rare/rare_del_splits_img_np.npy')\n",
    "\n",
    "# # rare split duplications\n",
    "# project_name = 'rare_split_dup'\n",
    "# combined_label = np.load('/home/rt2776/cnv_espresso/images_rare/rare_dup_splits_label.npy')\n",
    "# combined_img_np = np.load('/home/rt2776/cnv_espresso/images_rare/rare_dup_splits_img_np.npy')\n"
   ]
  },
  {
   "cell_type": "code",
   "execution_count": 22,
   "metadata": {},
   "outputs": [
    {
     "data": {
      "text/plain": [
       "(15838, 224, 224, 3)"
      ]
     },
     "execution_count": 22,
     "metadata": {},
     "output_type": "execute_result"
    }
   ],
   "source": [
    "combined_img_np.shape"
   ]
  },
  {
   "cell_type": "markdown",
   "metadata": {},
   "source": [
    "## Split dataset into training(80%) and testing(20%) dataset"
   ]
  },
  {
   "cell_type": "code",
   "execution_count": 23,
   "metadata": {},
   "outputs": [],
   "source": [
    "train_img, test_img, train_label, test_label = train_test_split(combined_img_np,combined_label,test_size=0.2,random_state=0)"
   ]
  },
  {
   "cell_type": "code",
   "execution_count": 24,
   "metadata": {},
   "outputs": [],
   "source": [
    "train_img, val_img, train_label, val_label = train_test_split(train_img,train_label,test_size=0.25,random_state=0) # 0.25*0.8=0.2"
   ]
  },
  {
   "cell_type": "code",
   "execution_count": 25,
   "metadata": {},
   "outputs": [
    {
     "data": {
      "text/plain": [
       "((9502, 224, 224, 3), (3168, 224, 224, 3), (3168, 224, 224, 3))"
      ]
     },
     "execution_count": 25,
     "metadata": {},
     "output_type": "execute_result"
    }
   ],
   "source": [
    "train_img.shape, val_img.shape, test_img.shape"
   ]
  },
  {
   "cell_type": "code",
   "execution_count": 26,
   "metadata": {},
   "outputs": [
    {
     "data": {
      "text/plain": [
       "(9502, 3168, 3168)"
      ]
     },
     "execution_count": 26,
     "metadata": {},
     "output_type": "execute_result"
    }
   ],
   "source": [
    "len(train_label), len(val_label), len(test_label)"
   ]
  },
  {
   "cell_type": "markdown",
   "metadata": {},
   "source": [
    "### Visulize training and testing dataset\n",
    "- In order to check the performance in different size categories (number of windows/targets), we need to check the distribution of CNVs in training and testing set."
   ]
  },
  {
   "cell_type": "code",
   "execution_count": null,
   "metadata": {},
   "outputs": [],
   "source": []
  },
  {
   "cell_type": "markdown",
   "metadata": {},
   "source": [
    "## Normalization"
   ]
  },
  {
   "cell_type": "code",
   "execution_count": 27,
   "metadata": {},
   "outputs": [],
   "source": [
    "# Find the shape of input images and create the variable input_shape\n",
    "nRows,nCols,nDims = train_img.shape[1:]\n",
    "input_shape = (nRows, nCols, nDims)"
   ]
  },
  {
   "cell_type": "code",
   "execution_count": 28,
   "metadata": {},
   "outputs": [],
   "source": [
    "# Change to float datatype\n",
    "train_img = train_img.astype('float32')\n",
    "val_img   = val_img.astype('float32')\n",
    "test_img  = test_img.astype('float32')\n",
    "\n",
    "# Scale the data to lie between 0 to 1\n",
    "train_img /= 255\n",
    "val_img   /= 255\n",
    "test_img  /= 255\n",
    "\n",
    "# Change the labels from integer to categorical data\n",
    "train_labels_one_hot = to_categorical(train_label)\n",
    "val_labels_one_hot   = to_categorical(val_label)\n",
    "test_labels_one_hot  = to_categorical(test_label)"
   ]
  },
  {
   "cell_type": "code",
   "execution_count": 29,
   "metadata": {},
   "outputs": [
    {
     "name": "stdout",
     "output_type": "stream",
     "text": [
      "Total number of outputs :  2\n",
      "Output classes :  [0 1]\n"
     ]
    }
   ],
   "source": [
    "# Find the unique numbers from the train labels\n",
    "classes = np.unique(train_label)\n",
    "nClasses = len(classes)\n",
    "print('Total number of outputs : ', nClasses)\n",
    "print('Output classes : ', classes)"
   ]
  },
  {
   "cell_type": "code",
   "execution_count": 30,
   "metadata": {},
   "outputs": [],
   "source": [
    "#np.where(train_label==0)"
   ]
  },
  {
   "cell_type": "code",
   "execution_count": 31,
   "metadata": {},
   "outputs": [
    {
     "name": "stdout",
     "output_type": "stream",
     "text": [
      "0\n"
     ]
    },
    {
     "data": {
      "image/png": "[encoded data removed]",
      "text/plain": [
       "<Figure size 432x288 with 1 Axes>"
      ]
     },
     "metadata": {
      "needs_background": "light"
     },
     "output_type": "display_data"
    }
   ],
   "source": [
    "item = random.randint(0,len(train_label))\n",
    "print(train_label[item])\n",
    "showImg(train_img[item])"
   ]
  },
  {
   "cell_type": "markdown",
   "metadata": {},
   "source": [
    "### Train deep nerual network model"
   ]
  },
  {
   "cell_type": "code",
   "execution_count": 32,
   "metadata": {},
   "outputs": [
    {
     "name": "stdout",
     "output_type": "stream",
     "text": [
      "Model: \"sequential\"\n",
      "_________________________________________________________________\n",
      "Layer (type)                 Output Shape              Param #   \n",
      "=================================================================\n",
      "conv2d (Conv2D)              (None, 224, 224, 32)      896       \n",
      "_________________________________________________________________\n",
      "conv2d_1 (Conv2D)            (None, 222, 222, 32)      9248      \n",
      "_________________________________________________________________\n",
      "max_pooling2d (MaxPooling2D) (None, 111, 111, 32)      0         \n",
      "_________________________________________________________________\n",
      "dropout (Dropout)            (None, 111, 111, 32)      0         \n",
      "_________________________________________________________________\n",
      "conv2d_2 (Conv2D)            (None, 111, 111, 64)      18496     \n",
      "_________________________________________________________________\n",
      "conv2d_3 (Conv2D)            (None, 109, 109, 64)      36928     \n",
      "_________________________________________________________________\n",
      "max_pooling2d_1 (MaxPooling2 (None, 54, 54, 64)        0         \n",
      "_________________________________________________________________\n",
      "dropout_1 (Dropout)          (None, 54, 54, 64)        0         \n",
      "_________________________________________________________________\n",
      "conv2d_4 (Conv2D)            (None, 54, 54, 64)        36928     \n",
      "_________________________________________________________________\n",
      "conv2d_5 (Conv2D)            (None, 52, 52, 64)        36928     \n",
      "_________________________________________________________________\n",
      "max_pooling2d_2 (MaxPooling2 (None, 26, 26, 64)        0         \n",
      "_________________________________________________________________\n",
      "dropout_2 (Dropout)          (None, 26, 26, 64)        0         \n",
      "_________________________________________________________________\n",
      "flatten (Flatten)            (None, 43264)             0         \n",
      "_________________________________________________________________\n",
      "dense (Dense)                (None, 512)               22151680  \n",
      "_________________________________________________________________\n",
      "dropout_3 (Dropout)          (None, 512)               0         \n",
      "_________________________________________________________________\n",
      "dense_1 (Dense)              (None, 2)                 1026      \n",
      "=================================================================\n",
      "Total params: 22,292,130\n",
      "Trainable params: 22,292,130\n",
      "Non-trainable params: 0\n",
      "_________________________________________________________________\n"
     ]
    }
   ],
   "source": [
    "model1 = createModel()\n",
    "batch_size = 16\n",
    "epochs = 30\n",
    "#opt = keras.optimizers.Adam(learning_rate=0.01)\n",
    "#model1.compile(optimizer='rmsprop', loss='categorical_crossentropy', metrics=['accuracy'])\n",
    "#The learning rate. Defaults to 0.001\n",
    "model1.compile(optimizer=tf.keras.optimizers.RMSprop(learning_rate=0.0001), loss='categorical_crossentropy', metrics=['accuracy'])\n",
    "\n",
    "model1.summary()"
   ]
  },
  {
   "cell_type": "code",
   "execution_count": 33,
   "metadata": {},
   "outputs": [
    {
     "name": "stdout",
     "output_type": "stream",
     "text": [
      "Epoch 1/30\n",
      "594/594 [==============================] - ETA: 0s - loss: 0.5164 - accuracy: 0.7401\n",
      "Epoch 00001: val_accuracy improved from -inf to 0.85133, saving model to rare_entire_dup_model.h5\n",
      "594/594 [==============================] - 47s 80ms/step - loss: 0.5164 - accuracy: 0.7401 - val_loss: 0.3633 - val_accuracy: 0.8513\n",
      "Epoch 2/30\n",
      "594/594 [==============================] - ETA: 0s - loss: 0.3548 - accuracy: 0.8490\n",
      "Epoch 00002: val_accuracy improved from 0.85133 to 0.87121, saving model to rare_entire_dup_model.h5\n",
      "594/594 [==============================] - 47s 80ms/step - loss: 0.3548 - accuracy: 0.8490 - val_loss: 0.3221 - val_accuracy: 0.8712\n",
      "Epoch 3/30\n",
      "594/594 [==============================] - ETA: 0s - loss: 0.3149 - accuracy: 0.8742\n",
      "Epoch 00003: val_accuracy improved from 0.87121 to 0.88258, saving model to rare_entire_dup_model.h5\n",
      "594/594 [==============================] - 52s 87ms/step - loss: 0.3149 - accuracy: 0.8742 - val_loss: 0.2933 - val_accuracy: 0.8826\n",
      "Epoch 4/30\n",
      "594/594 [==============================] - ETA: 0s - loss: 0.2964 - accuracy: 0.8826\n",
      "Epoch 00004: val_accuracy did not improve from 0.88258\n",
      "594/594 [==============================] - 46s 77ms/step - loss: 0.2964 - accuracy: 0.8826 - val_loss: 0.3085 - val_accuracy: 0.8706\n",
      "Epoch 5/30\n",
      "594/594 [==============================] - ETA: 0s - loss: 0.2822 - accuracy: 0.8895\n",
      "Epoch 00005: val_accuracy improved from 0.88258 to 0.89646, saving model to rare_entire_dup_model.h5\n",
      "594/594 [==============================] - 47s 79ms/step - loss: 0.2822 - accuracy: 0.8895 - val_loss: 0.2746 - val_accuracy: 0.8965\n",
      "Epoch 6/30\n",
      "594/594 [==============================] - ETA: 0s - loss: 0.2727 - accuracy: 0.8957\n",
      "Epoch 00006: val_accuracy did not improve from 0.89646\n",
      "594/594 [==============================] - 45s 76ms/step - loss: 0.2727 - accuracy: 0.8957 - val_loss: 0.2856 - val_accuracy: 0.8898\n",
      "Epoch 7/30\n",
      "594/594 [==============================] - ETA: 0s - loss: 0.2683 - accuracy: 0.8970\n",
      "Epoch 00007: val_accuracy did not improve from 0.89646\n",
      "594/594 [==============================] - 45s 76ms/step - loss: 0.2683 - accuracy: 0.8970 - val_loss: 0.3524 - val_accuracy: 0.8453\n",
      "Epoch 8/30\n",
      "594/594 [==============================] - ETA: 0s - loss: 0.2588 - accuracy: 0.8997\n",
      "Epoch 00008: val_accuracy did not improve from 0.89646\n",
      "594/594 [==============================] - 47s 79ms/step - loss: 0.2588 - accuracy: 0.8997 - val_loss: 0.3829 - val_accuracy: 0.8336\n",
      "Epoch 9/30\n",
      "594/594 [==============================] - ETA: 0s - loss: 0.2556 - accuracy: 0.9016\n",
      "Epoch 00009: val_accuracy did not improve from 0.89646\n",
      "594/594 [==============================] - 46s 78ms/step - loss: 0.2556 - accuracy: 0.9016 - val_loss: 0.3619 - val_accuracy: 0.8551\n",
      "Epoch 10/30\n",
      "594/594 [==============================] - ETA: 0s - loss: 0.2506 - accuracy: 0.9049\n",
      "Epoch 00010: val_accuracy did not improve from 0.89646\n",
      "594/594 [==============================] - 46s 77ms/step - loss: 0.2506 - accuracy: 0.9049 - val_loss: 0.2861 - val_accuracy: 0.8838\n",
      "Epoch 11/30\n",
      "594/594 [==============================] - ETA: 0s - loss: 0.2432 - accuracy: 0.9092\n",
      "Epoch 00011: val_accuracy improved from 0.89646 to 0.90152, saving model to rare_entire_dup_model.h5\n",
      "594/594 [==============================] - 46s 78ms/step - loss: 0.2432 - accuracy: 0.9092 - val_loss: 0.2471 - val_accuracy: 0.9015\n",
      "Epoch 12/30\n",
      "594/594 [==============================] - ETA: 0s - loss: 0.2407 - accuracy: 0.9100\n",
      "Epoch 00012: val_accuracy did not improve from 0.90152\n",
      "594/594 [==============================] - 47s 79ms/step - loss: 0.2407 - accuracy: 0.9100 - val_loss: 0.2697 - val_accuracy: 0.8955\n",
      "Epoch 13/30\n",
      "594/594 [==============================] - ETA: 0s - loss: 0.2380 - accuracy: 0.9129\n",
      "Epoch 00013: val_accuracy did not improve from 0.90152\n",
      "594/594 [==============================] - 45s 77ms/step - loss: 0.2380 - accuracy: 0.9129 - val_loss: 0.2507 - val_accuracy: 0.9009\n",
      "Epoch 14/30\n",
      "594/594 [==============================] - ETA: 0s - loss: 0.2314 - accuracy: 0.9115\n",
      "Epoch 00014: val_accuracy did not improve from 0.90152\n",
      "594/594 [==============================] - 45s 77ms/step - loss: 0.2314 - accuracy: 0.9115 - val_loss: 0.3102 - val_accuracy: 0.8775\n",
      "Epoch 15/30\n",
      "594/594 [==============================] - ETA: 0s - loss: 0.2306 - accuracy: 0.9133\n",
      "Epoch 00015: val_accuracy did not improve from 0.90152\n",
      "594/594 [==============================] - 45s 76ms/step - loss: 0.2306 - accuracy: 0.9133 - val_loss: 0.3135 - val_accuracy: 0.8655\n",
      "Epoch 16/30\n",
      "594/594 [==============================] - ETA: 0s - loss: 0.2302 - accuracy: 0.9155\n",
      "Epoch 00016: val_accuracy did not improve from 0.90152\n",
      "594/594 [==============================] - 45s 76ms/step - loss: 0.2302 - accuracy: 0.9155 - val_loss: 0.2647 - val_accuracy: 0.8952\n",
      "Epoch 17/30\n",
      "594/594 [==============================] - ETA: 0s - loss: 0.2220 - accuracy: 0.9163\n",
      "Epoch 00017: val_accuracy did not improve from 0.90152\n",
      "594/594 [==============================] - 46s 78ms/step - loss: 0.2220 - accuracy: 0.9163 - val_loss: 0.2560 - val_accuracy: 0.8993\n",
      "Epoch 18/30\n",
      "594/594 [==============================] - ETA: 0s - loss: 0.2272 - accuracy: 0.9140\n",
      "Epoch 00018: val_accuracy did not improve from 0.90152\n",
      "594/594 [==============================] - 46s 77ms/step - loss: 0.2272 - accuracy: 0.9140 - val_loss: 0.2666 - val_accuracy: 0.8917\n",
      "Epoch 19/30\n",
      "594/594 [==============================] - ETA: 0s - loss: 0.2198 - accuracy: 0.9182\n",
      "Epoch 00019: val_accuracy did not improve from 0.90152\n",
      "594/594 [==============================] - 46s 77ms/step - loss: 0.2198 - accuracy: 0.9182 - val_loss: 0.2638 - val_accuracy: 0.8898\n",
      "Epoch 20/30\n",
      "594/594 [==============================] - ETA: 0s - loss: 0.2154 - accuracy: 0.9199\n",
      "Epoch 00020: val_accuracy did not improve from 0.90152\n",
      "594/594 [==============================] - 45s 76ms/step - loss: 0.2154 - accuracy: 0.9199 - val_loss: 0.2969 - val_accuracy: 0.8807\n",
      "Epoch 21/30\n",
      "594/594 [==============================] - ETA: 0s - loss: 0.2144 - accuracy: 0.9213\n",
      "Epoch 00021: val_accuracy did not improve from 0.90152\n",
      "594/594 [==============================] - 45s 76ms/step - loss: 0.2144 - accuracy: 0.9213 - val_loss: 0.2648 - val_accuracy: 0.8974\n",
      "Epoch 00021: early stopping\n"
     ]
    }
   ],
   "source": [
    "es = EarlyStopping(monitor='val_loss', mode='min', verbose=1, patience=10)\n",
    "mc = ModelCheckpoint(project_name+'_model.h5', monitor='val_accuracy', mode='max', verbose=1, save_best_only=True)\n",
    "history = model1.fit(train_img, train_labels_one_hot, batch_size=batch_size, epochs=epochs, verbose=1, \n",
    "                   validation_data=(val_img, val_labels_one_hot), callbacks=[es, mc])\n",
    "\n",
    "## easy to exhaust the memory\n",
    "# history = model1.fit(train_img, train_labels_one_hot, batch_size=batch_size, epochs=epochs, verbose=1, \n",
    "#                     validation_split = 0.2, callbacks=[es, mc])\n"
   ]
  },
  {
   "cell_type": "code",
   "execution_count": 34,
   "metadata": {},
   "outputs": [
    {
     "name": "stdout",
     "output_type": "stream",
     "text": [
      "99/99 [==============================] - 4s 41ms/step - loss: 0.2676 - accuracy: 0.8990\n"
     ]
    },
    {
     "data": {
      "text/plain": [
       "[0.2675588130950928, 0.8989899158477783]"
      ]
     },
     "execution_count": 34,
     "metadata": {},
     "output_type": "execute_result"
    }
   ],
   "source": [
    "model1.evaluate(test_img, test_labels_one_hot)"
   ]
  },
  {
   "cell_type": "code",
   "execution_count": 36,
   "metadata": {},
   "outputs": [
    {
     "data": {
      "text/plain": [
       "Text(0.5, 1.0, 'Loss Curves')"
      ]
     },
     "execution_count": 36,
     "metadata": {},
     "output_type": "execute_result"
    },
    {
     "data": {
      "image/png": "[encoded data removed]",
      "text/plain": [
       "<Figure size 576x432 with 1 Axes>"
      ]
     },
     "metadata": {
      "needs_background": "light"
     },
     "output_type": "display_data"
    }
   ],
   "source": [
    "plt.figure(figsize=[8,6])\n",
    "plt.plot(history.history['loss'],'r',linewidth=3.0)\n",
    "plt.plot(history.history['val_loss'],'b',linewidth=3.0)\n",
    "plt.legend(['Training loss', 'Validation Loss'],fontsize=18)\n",
    "plt.xlabel('Epochs ',fontsize=16)\n",
    "plt.ylabel('Loss',fontsize=16)\n",
    "plt.title('Loss Curves',fontsize=16)"
   ]
  },
  {
   "cell_type": "code",
   "execution_count": 37,
   "metadata": {},
   "outputs": [
    {
     "data": {
      "text/plain": [
       "Text(0.5, 1.0, 'rare_entire_dup accuracy curves')"
      ]
     },
     "execution_count": 37,
     "metadata": {},
     "output_type": "execute_result"
    },
    {
     "data": {
      "image/png": "[encoded data removed]",
      "text/plain": [
       "<Figure size 576x432 with 1 Axes>"
      ]
     },
     "metadata": {
      "needs_background": "light"
     },
     "output_type": "display_data"
    }
   ],
   "source": [
    "plt.figure(figsize=[8,6])\n",
    "plt.plot(history.history['accuracy'],'r',linewidth=3.0)\n",
    "plt.plot(history.history['val_accuracy'],'b',linewidth=3.0)\n",
    "plt.legend(['Training Accuracy', 'Validation Accuracy'],fontsize=18)\n",
    "plt.xlabel('Epochs ',fontsize=16)\n",
    "plt.ylabel('Accuracy',fontsize=16)\n",
    "plt.ylim(0.7, 1)\n",
    "plt.title(project_name+' accuracy curves',fontsize=16)"
   ]
  },
  {
   "cell_type": "markdown",
   "metadata": {},
   "source": [
    "### ROC curve"
   ]
  },
  {
   "cell_type": "code",
   "execution_count": 38,
   "metadata": {},
   "outputs": [],
   "source": [
    "test_pred_keras = model1.predict(test_img).ravel()"
   ]
  },
  {
   "cell_type": "code",
   "execution_count": 39,
   "metadata": {},
   "outputs": [],
   "source": [
    "# ravel(): Flatten the array\n",
    "fpr_keras, tpr_keras, thresholds_keras = roc_curve(test_labels_one_hot.ravel(), test_pred_keras) "
   ]
  },
  {
   "cell_type": "code",
   "execution_count": 40,
   "metadata": {},
   "outputs": [],
   "source": [
    "auc_keras = auc(fpr_keras, tpr_keras)"
   ]
  },
  {
   "cell_type": "code",
   "execution_count": 41,
   "metadata": {},
   "outputs": [
    {
     "data": {
      "image/png": "[encoded data removed]",
      "text/plain": [
       "<Figure size 432x288 with 1 Axes>"
      ]
     },
     "metadata": {
      "needs_background": "light"
     },
     "output_type": "display_data"
    },
    {
     "data": {
      "image/png": "[encoded data removed]",
      "text/plain": [
       "<Figure size 432x288 with 1 Axes>"
      ]
     },
     "metadata": {
      "needs_background": "light"
     },
     "output_type": "display_data"
    }
   ],
   "source": [
    "plt.figure(1)\n",
    "plt.plot([0, 1], [0, 1], 'k--')\n",
    "plt.plot(fpr_keras, tpr_keras, label='Keras (area = {:.3f})'.format(auc_keras))\n",
    "plt.xlabel('False positive rate',fontsize=\"xx-large\")\n",
    "plt.ylabel('True positive rate',fontsize=\"xx-large\")\n",
    "plt.title('ROC curve',fontsize=\"xx-large\")\n",
    "plt.legend(loc='best',fontsize=\"xx-large\")\n",
    "plt.tick_params(labelsize=\"x-large\")\n",
    "plt.show()\n",
    "# Zoom in view of the upper left corner.\n",
    "plt.figure(2)\n",
    "plt.tick_params(labelsize=\"x-large\")\n",
    "plt.xlim(0, 0.2)\n",
    "plt.ylim(0.8, 1)\n",
    "plt.plot([0, 1], [0, 1], 'k--')\n",
    "plt.plot(fpr_keras, tpr_keras, label='Keras (area = {:.3f})'.format(auc_keras))\n",
    "plt.xlabel('False positive rate',fontsize=\"xx-large\")\n",
    "plt.ylabel('True positive rate',fontsize=\"xx-large\")\n",
    "plt.title('ROC curve (zoomed in at top left)',fontsize=\"xx-large\")\n",
    "plt.legend(loc='best',fontsize=\"xx-large\")\n",
    "plt.show()"
   ]
  },
  {
   "cell_type": "code",
   "execution_count": 35,
   "metadata": {},
   "outputs": [
    {
     "data": {
      "text/plain": [
       "'rare_entire_dup'"
      ]
     },
     "execution_count": 35,
     "metadata": {},
     "output_type": "execute_result"
    }
   ],
   "source": [
    "project_name"
   ]
  },
  {
   "cell_type": "markdown",
   "metadata": {},
   "source": [
    "### TODO:\n",
    "- Check the performance on different size categories on test data firstly and by k-fold cross validation secondly. "
   ]
  },
  {
   "cell_type": "markdown",
   "metadata": {},
   "source": [
    "## Reference:\n",
    "- load image: https://keras.io/api/preprocessing/image/#load_img-function\n",
    "- Model example: https://towardsdatascience.com/covolutional-neural-network-cb0883dd6529\n",
    "- Transfer learning and toy deomo: https://zhuanlan.zhihu.com/p/51889181\n",
    "- K-fold validation: https://medium.com/the-owl/k-fold-cross-validation-in-keras-3ec4a3a00538\n",
    "- ROC curve: https://medium.com/hackernoon/simple-guide-on-how-to-generate-roc-plot-for-keras-classifier-2ecc6c73115a"
   ]
  }
 ],
 "metadata": {
  "kernelspec": {
   "display_name": "Python 3",
   "language": "python",
   "name": "python3"
  },
  "language_info": {
   "codemirror_mode": {
    "name": "ipython",
    "version": 3
   },
   "file_extension": ".py",
   "mimetype": "text/x-python",
   "name": "python",
   "nbconvert_exporter": "python",
   "pygments_lexer": "ipython3",
   "version": "3.8.3"
  }
 },
 "nbformat": 4,
 "nbformat_minor": 4
}
