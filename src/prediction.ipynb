{
 "cells": [
  {
   "cell_type": "markdown",
   "metadata": {},
   "source": [
    "# CNN Prediction"
   ]
  },
  {
   "cell_type": "code",
   "execution_count": 7,
   "metadata": {},
   "outputs": [
    {
     "name": "stdout",
     "output_type": "stream",
     "text": [
      "Tensorflow version 2.2.0\n"
     ]
    }
   ],
   "source": [
    "import os\n",
    "import re\n",
    "import copy\n",
    "import random\n",
    "import datetime\n",
    "import tensorflow as tf\n",
    "print(\"Tensorflow version \" + tf.__version__)\n",
    "import pandas as pd\n",
    "\n",
    "import PIL\n",
    "import numpy as np\n",
    "from matplotlib import pyplot as plt\n",
    "from sklearn.model_selection import train_test_split\n",
    "from sklearn.metrics import roc_curve\n",
    "from sklearn.metrics import auc\n",
    "import sklearn\n",
    "\n",
    "from __future__ import print_function\n",
    "import keras\n",
    "import keras.preprocessing\n",
    "from keras.models import Sequential\n",
    "from keras.utils import to_categorical\n",
    "from keras.layers import Dense, Conv2D, MaxPooling2D, Dropout, Flatten\n",
    "from keras.models import load_model\n",
    "from keras.callbacks import EarlyStopping\n",
    "from keras.callbacks import ModelCheckpoint"
   ]
  },
  {
   "cell_type": "code",
   "execution_count": 4,
   "metadata": {},
   "outputs": [
    {
     "data": {
      "text/plain": [
       "[PhysicalDevice(name='/physical_device:GPU:0', device_type='GPU')]"
      ]
     },
     "execution_count": 4,
     "metadata": {},
     "output_type": "execute_result"
    }
   ],
   "source": [
    "os.environ['CUDA_VISIBLE_DEVICES'] = \"1\"\n",
    "physical_devices = tf.config.experimental.list_physical_devices('GPU') \n",
    "physical_devices"
   ]
  },
  {
   "cell_type": "markdown",
   "metadata": {},
   "source": [
    "# Functions"
   ]
  },
  {
   "cell_type": "code",
   "execution_count": 26,
   "metadata": {},
   "outputs": [],
   "source": [
    "def fileToList(file_name):\n",
    "    result_list = [] \n",
    "    fp = open(file_name)\n",
    "    for row in fp:\n",
    "        row = row.strip()\n",
    "        row = row.replace(\"\\\"\",\"\")\n",
    "        row = re.split('\\t',row)\n",
    "        #row = re.split(r'[;,\\s]\\s*', row)\n",
    "        result_list.append(row)\n",
    "    fp.close()  \n",
    "    return result_list "
   ]
  },
  {
   "cell_type": "code",
   "execution_count": 27,
   "metadata": {},
   "outputs": [],
   "source": [
    "def showImg(img_data):\n",
    "    if type(img_data) is list:\n",
    "        image = tf.keras.preprocessing.image.load_img(img_data)\n",
    "        plt.imshow(image)\n",
    "    if type(img_data) is np.ndarray:\n",
    "        image = tf.keras.preprocessing.image.array_to_img(img_data)\n",
    "        plt.imshow(image)"
   ]
  },
  {
   "cell_type": "code",
   "execution_count": 28,
   "metadata": {},
   "outputs": [],
   "source": [
    "def resizeCropImg(img_file, target_width, target_height):\n",
    "    image = tf.keras.preprocessing.image.load_img(img_file)\n",
    "    width, height = image.size\n",
    "    left   = width*0.13\n",
    "    top    = height*0.13\n",
    "    right  = width*0.87\n",
    "    bottom = height*0.87\n",
    "    image = image.crop((left, top, right, bottom))\n",
    "    image = image.resize((target_width, target_height))\n",
    "    return image"
   ]
  },
  {
   "cell_type": "code",
   "execution_count": 29,
   "metadata": {},
   "outputs": [],
   "source": [
    "def loadImgs(cnv_list, img_width, img_height):\n",
    "    cnv_np = np.zeros((len(cnv_list), img_width, img_height, 3))\n",
    "    for index, each_cnv in enumerate(cnv_list):\n",
    "        if index % 1000 == 1:\n",
    "            time_stamp = datetime.datetime.now()\n",
    "            time_str   = time_stamp.strftime('%Y.%m.%d-%H:%M:%S')\n",
    "            print(\"[%s] Processing %d ...\"%(time_str, index))\n",
    "        cnv_img = resizeCropImg(each_cnv, img_width, img_height)\n",
    "        cnv_np[index] = tf.keras.preprocessing.image.img_to_array(cnv_img)\n",
    "    time_stamp = datetime.datetime.now()\n",
    "    time_str   = time_stamp.strftime('%Y.%m.%d-%H:%M:%S')\n",
    "    print(\"[%s] Done %d.\"%(time_str, index))\n",
    "    return cnv_np"
   ]
  },
  {
   "cell_type": "code",
   "execution_count": 30,
   "metadata": {},
   "outputs": [],
   "source": [
    "def pred_roc_data(model, img, label_one_hot):\n",
    "    pred_keras = model.predict(img).ravel() # ravel(): Flatten the array\n",
    "    fpr_keras, tpr_keras, thresholds_keras = roc_curve(label_one_hot.ravel(), pred_keras) \n",
    "    auc_keras = auc(fpr_keras, tpr_keras)\n",
    "    return fpr_keras, tpr_keras, auc_keras"
   ]
  },
  {
   "cell_type": "markdown",
   "metadata": {},
   "source": [
    "# Processing"
   ]
  },
  {
   "cell_type": "code",
   "execution_count": 16,
   "metadata": {},
   "outputs": [],
   "source": [
    "img_width, img_height = 224, 224"
   ]
  },
  {
   "cell_type": "code",
   "execution_count": null,
   "metadata": {
    "jupyter": {
     "source_hidden": true
    }
   },
   "outputs": [],
   "source": [
    "# ## For rare deletions\n",
    "# true_file = '/home/rt2776/cnv_espresso/images_rare/true_del_image_info.list'\n",
    "# false_file = '/home/rt2776/cnv_espresso/images_rare/false_del_image_info.list'"
   ]
  },
  {
   "cell_type": "code",
   "execution_count": null,
   "metadata": {
    "jupyter": {
     "source_hidden": true
    }
   },
   "outputs": [],
   "source": [
    "# ## For rare duplications\n",
    "# true_file = '/home/rt2776/cnv_espresso/images_rare/true_dup_image_info.list'\n",
    "# false_file = '/home/rt2776/cnv_espresso/images_rare/false_dup_image_info.list'"
   ]
  },
  {
   "cell_type": "code",
   "execution_count": null,
   "metadata": {
    "jupyter": {
     "source_hidden": true
    }
   },
   "outputs": [],
   "source": [
    "# ## For splited rare deletions\n",
    "# true_file = '/home/rt2776/cnv_espresso/images_rare/true_rare_del_splits.list'\n",
    "# false_file = '/home/rt2776/cnv_espresso/images_rare/false_rare_del_splits.list'"
   ]
  },
  {
   "cell_type": "code",
   "execution_count": null,
   "metadata": {
    "jupyter": {
     "source_hidden": true
    }
   },
   "outputs": [],
   "source": [
    "# ## For splited rare duplications\n",
    "# true_file = '/home/rt2776/cnv_espresso/images_rare/true_rare_dup_splits.list'\n",
    "# false_file = '/home/rt2776/cnv_espresso/images_rare/false_rare_dup_splits.list'"
   ]
  },
  {
   "cell_type": "markdown",
   "metadata": {},
   "source": [
    "### Loading cnv image file paths to list"
   ]
  },
  {
   "cell_type": "code",
   "execution_count": null,
   "metadata": {
    "jupyter": {
     "source_hidden": true
    }
   },
   "outputs": [],
   "source": [
    "# true_cnv_df  = pd.read_csv(true_file,  header=0,sep='\\t')\n",
    "# false_cnv_df = pd.read_csv(false_file, header=0,sep='\\t')"
   ]
  },
  {
   "cell_type": "code",
   "execution_count": null,
   "metadata": {
    "jupyter": {
     "source_hidden": true
    }
   },
   "outputs": [],
   "source": [
    "# true_images_path_list  = true_cnv_df['image_path']\n",
    "# false_images_path_list = false_cnv_df['image_path']"
   ]
  },
  {
   "cell_type": "code",
   "execution_count": null,
   "metadata": {
    "jupyter": {
     "source_hidden": true
    }
   },
   "outputs": [],
   "source": [
    "## For file with image path only:\n",
    "\n",
    "# true_list = [each_file[0] for each_file in fileToList(true_file)]\n",
    "# false_list = [each_file[0] for each_file in fileToList(false_file)]\n",
    "# len(true_list), len(false_list)"
   ]
  },
  {
   "cell_type": "markdown",
   "metadata": {},
   "source": [
    "### Loading images from list to numpy array"
   ]
  },
  {
   "cell_type": "code",
   "execution_count": null,
   "metadata": {
    "jupyter": {
     "source_hidden": true
    }
   },
   "outputs": [],
   "source": [
    "# false_img_np = loadImgs(false_images_path_list, img_width, img_height)\n",
    "# false_img_np.shape"
   ]
  },
  {
   "cell_type": "code",
   "execution_count": null,
   "metadata": {
    "jupyter": {
     "source_hidden": true
    }
   },
   "outputs": [],
   "source": [
    "# true_img_np = loadImgs(true_images_path_list, img_width, img_height)\n",
    "# true_img_np.shape"
   ]
  },
  {
   "cell_type": "markdown",
   "metadata": {},
   "source": [
    "### Generage labels"
   ]
  },
  {
   "cell_type": "code",
   "execution_count": null,
   "metadata": {
    "jupyter": {
     "source_hidden": true
    }
   },
   "outputs": [],
   "source": [
    "# true_label = [1 for i in range(0,len(true_img_np))]\n",
    "# false_label = [0 for i in range(0,len(false_img_np))]\n",
    "# print(true_label[0:5], false_label[0:5])\n",
    "# print(len(true_label), len(false_label))"
   ]
  },
  {
   "cell_type": "markdown",
   "metadata": {},
   "source": [
    "### Combine true & false data"
   ]
  },
  {
   "cell_type": "code",
   "execution_count": null,
   "metadata": {
    "jupyter": {
     "source_hidden": true
    }
   },
   "outputs": [],
   "source": [
    "# combined_cnv_info_df = true_cnv_df.append(false_cnv_df, ignore_index=True)\n",
    "# #combined_cnv_info_index = list(range(len(combined_cnv_info_df)))\n",
    "# combined_img_np = np.vstack((true_img_np, false_img_np))\n",
    "# combined_label = true_label + false_label"
   ]
  },
  {
   "cell_type": "code",
   "execution_count": null,
   "metadata": {
    "jupyter": {
     "source_hidden": true
    }
   },
   "outputs": [],
   "source": [
    "# combined_cnv_info_df.shape, true_cnv_df.shape, false_cnv_df.shape"
   ]
  },
  {
   "cell_type": "markdown",
   "metadata": {},
   "source": [
    "### Backup or restore"
   ]
  },
  {
   "cell_type": "code",
   "execution_count": 17,
   "metadata": {},
   "outputs": [],
   "source": [
    "backup_path = '/home/rt2776/cnv_espresso/images_rare/data_backup/'\n",
    "# os.makedirs(backup_path, exist_ok=True)"
   ]
  },
  {
   "cell_type": "code",
   "execution_count": 18,
   "metadata": {},
   "outputs": [],
   "source": [
    "## Backup\n",
    "\n",
    "# project_name = 'rare_entire_del'\n",
    "# combined_cnv_info_df.to_csv(backup_path+'rare_del_entire_cnv_info.csv')\n",
    "# np.save(backup_path+'rare_del_entire_img', combined_img_np)\n",
    "# np.save(backup_path+'rare_del_entire_label', combined_label)\n",
    "\n",
    "# project_name = 'rare_entire_dup'\n",
    "# combined_cnv_info_df.to_csv(backup_path+'rare_entire_dup_info.csv')\n",
    "# np.save(backup_path+'rare_entire_dup_img', combined_img_np)\n",
    "# np.save(backup_path+'rare_entire_dup_label', combined_label)"
   ]
  },
  {
   "cell_type": "code",
   "execution_count": 69,
   "metadata": {},
   "outputs": [],
   "source": [
    "## Restore for entire del or dup\n",
    "\n",
    "# project_name = 'rare_entire_del'\n",
    "project_name = 'rare_entire_dup'\n",
    "\n",
    "if project_name == 'rare_entire_del' or project_name == 'rare_entire_dup':\n",
    "    combined_img_np = np.load(backup_path + project_name + '_img.npy')\n",
    "    combined_label = np.load(backup_path + project_name + '_label.npy')\n",
    "    combined_cnv_info_df = pd.read_csv(backup_path+project_name+'_info.csv')"
   ]
  },
  {
   "cell_type": "code",
   "execution_count": 70,
   "metadata": {},
   "outputs": [],
   "source": [
    "## Restore for split del or dup\n",
    "\n",
    "# project_name = 'rare_split_del'\n",
    "# project_name = 'rare_split_dup'\n",
    "\n",
    "if project_name == 'rare_split_del' or project_name == 'rare_split_dup':\n",
    "    combined_img_np = np.load(backup_path + project_name + '_img.npy')\n",
    "    combined_label  = np.load(backup_path + project_name + '_label.npy')\n",
    "    try:\n",
    "        del combined_cnv_info_df\n",
    "    except:\n",
    "        pass"
   ]
  },
  {
   "cell_type": "code",
   "execution_count": 71,
   "metadata": {},
   "outputs": [
    {
     "name": "stdout",
     "output_type": "stream",
     "text": [
      "Project: 'rare_entire_dup' dataset loaded.\n",
      "  -- Shape of image array:  (15839, 224, 224, 3)\n",
      "  -- Shape of label      :  (15839,)\n",
      "  -- Shape of CNV info   :  (15839, 22)\n"
     ]
    }
   ],
   "source": [
    "print(\"Project: '%s' dataset loaded.\"%project_name)\n",
    "print(\"  -- Shape of image array: \", combined_img_np.shape)\n",
    "print(\"  -- Shape of label      : \", combined_label.shape)\n",
    "try:\n",
    "    print(\"  -- Shape of CNV info   : \", combined_cnv_info_df.shape)\n",
    "except:\n",
    "    print(\"There is no CNV info data for split del or dup.\")"
   ]
  },
  {
   "cell_type": "markdown",
   "metadata": {},
   "source": [
    "## Split dataset into training(80%) and testing(20%) dataset"
   ]
  },
  {
   "cell_type": "code",
   "execution_count": 72,
   "metadata": {},
   "outputs": [],
   "source": [
    "## split image arrays\n",
    "if project_name == 'rare_entire_del' or project_name == 'rare_entire_dup':\n",
    "    train_img, test_img, train_label, test_label, train_cnv_info_df, test_cnv_info_df = train_test_split(combined_img_np,\n",
    "                                                                                                        combined_label,\n",
    "                                                                                                        combined_cnv_info_df,\n",
    "                                                                                                        test_size=0.2,\n",
    "                                                                                                        shuffle=True,\n",
    "                                                                                                        random_state=3)\n",
    "\n",
    "    train_img, val_img, train_label, val_label, train_cnv_info_df, val_cnv_info_df = train_test_split(train_img,\n",
    "                                                                                                      train_label,\n",
    "                                                                                                      train_cnv_info_df,\n",
    "                                                                                                      test_size=0.25,\n",
    "                                                                                                      shuffle=True,\n",
    "                                                                                                      random_state=3) # 0.25*0.8=0.2"
   ]
  },
  {
   "cell_type": "code",
   "execution_count": 73,
   "metadata": {},
   "outputs": [],
   "source": [
    "## split image arrays for splits CNVs\n",
    "\n",
    "if project_name == 'rare_split_del' or project_name == 'rare_split_dup':\n",
    "    train_img, test_img, train_label, test_label = train_test_split(combined_img_np,\n",
    "                                                                    combined_label,\n",
    "                                                                    test_size=0.2,\n",
    "                                                                    shuffle=True,\n",
    "                                                                    random_state=3)\n",
    "\n",
    "    train_img, val_img, train_label, val_label = train_test_split(train_img,\n",
    "                                                                  train_label,\n",
    "                                                                  test_size=0.25,\n",
    "                                                                  shuffle=True,\n",
    "                                                                  random_state=3) # 0.25*0.8=0.2"
   ]
  },
  {
   "cell_type": "code",
   "execution_count": 74,
   "metadata": {},
   "outputs": [
    {
     "data": {
      "text/plain": [
       "(None,\n",
       " 1,\n",
       " Unnamed: 0                                                                  1650\n",
       " CHR                                                                            7\n",
       " PRED_START                                                             101321670\n",
       " PRED_END                                                               101447787\n",
       " TYPE                                                                         DUP\n",
       " SAMPLE                                                                 SP0025124\n",
       " CANOES_RT                                                                      0\n",
       " CLAMMS_RT                                                                   0.22\n",
       " XHMM_RT                                                                        1\n",
       " NUM_OVERLAPS_RT                                                                2\n",
       " RD_PROP_RT                                                                   1.8\n",
       " GC                                                                           0.5\n",
       " PRED_SIZE                                                                 126117\n",
       " MAP                                                                         0.99\n",
       " NUM_TARGETS                                                                    4\n",
       " SIZE_LABEL                                                         H)100KB-250KB\n",
       " LABEL_VAL                                                                      1\n",
       " ref                                                                         hg38\n",
       " batch                                                                     spark2\n",
       " Num_Carriers(inGivenCohort)                                                   46\n",
       " Num_Targets_Wins                                                               4\n",
       " image_path                     /home/rt2776/cnv_espresso/images_rare/true_dup...\n",
       " Name: 1650, dtype: object,\n",
       " 4)"
      ]
     },
     "execution_count": 74,
     "metadata": {},
     "output_type": "execute_result"
    },
    {
     "data": {
      "image/png": "[encoded data removed]",
      "text/plain": [
       "<Figure size 432x288 with 1 Axes>"
      ]
     },
     "metadata": {
      "needs_background": "light"
     },
     "output_type": "display_data"
    }
   ],
   "source": [
    "i=random.randrange(len(train_img))\n",
    "## if the the images are different, then it means it has been shuffled.\n",
    "showImg(combined_img_np[i]),combined_label[i],combined_cnv_info_df.iloc[i,:],combined_cnv_info_df.iloc[i,20]"
   ]
  },
  {
   "cell_type": "code",
   "execution_count": 75,
   "metadata": {},
   "outputs": [
    {
     "data": {
      "text/plain": [
       "(None,\n",
       " 1,\n",
       " Unnamed: 0                                                                   314\n",
       " CHR                                                                           13\n",
       " PRED_START                                                              75537381\n",
       " PRED_END                                                                75537805\n",
       " TYPE                                                                         DUP\n",
       " SAMPLE                                                                 SP0006076\n",
       " CANOES_RT                                                                      0\n",
       " CLAMMS_RT                                                                      0\n",
       " XHMM_RT                                                                        1\n",
       " NUM_OVERLAPS_RT                                                                1\n",
       " RD_PROP_RT                                                                  2.05\n",
       " GC                                                                          0.59\n",
       " PRED_SIZE                                                                    424\n",
       " MAP                                                                            1\n",
       " NUM_TARGETS                                                                    3\n",
       " SIZE_LABEL                                                                A)<1KB\n",
       " LABEL_VAL                                                                      1\n",
       " ref                                                                         hg38\n",
       " batch                                                                     spark1\n",
       " Num_Carriers(inGivenCohort)                                                  136\n",
       " Num_Targets_Wins                                                               3\n",
       " image_path                     /home/rt2776/cnv_espresso/images_rare/true_dup...\n",
       " Name: 314, dtype: object,\n",
       " 3)"
      ]
     },
     "execution_count": 75,
     "metadata": {},
     "output_type": "execute_result"
    },
    {
     "data": {
      "image/png": "[encoded data removed]",
      "text/plain": [
       "<Figure size 432x288 with 1 Axes>"
      ]
     },
     "metadata": {
      "needs_background": "light"
     },
     "output_type": "display_data"
    }
   ],
   "source": [
    "showImg(train_img[i]),train_label[i],train_cnv_info_df.iloc[i,:],train_cnv_info_df.iloc[i,20]"
   ]
  },
  {
   "cell_type": "code",
   "execution_count": 76,
   "metadata": {},
   "outputs": [
    {
     "name": "stdout",
     "output_type": "stream",
     "text": [
      "(3168, 224, 224, 3) (3168,)\n",
      "[1 1 0 1 1 1 1 1 1 0 0 0 0 0 0 1 1 1 1 1 1 1 1 0 0 1 0 1 1 0 1 0 1 0 0 0 1\n",
      " 1 0 0 0 1 1 0 1 0 1 1 0 1 1 1 1 0 1 0 0 0 0 1 0 0 1 1 1 1 1 0 0 0 1 1 1 0\n",
      " 1 0 1 1 1 0 1 0 1 1 1 0 1 1 1 0 0 0 0 1 1 0 0 1 1 1 1 1 1 0 1 1 0 0 1 1 0\n",
      " 1 0 1 0 1 1 0 1 1 1 0 1 0 0 1 0 1 0 1 1 1 1 0 1 1 1 1 1 1 0 1 0 0 1 1 1 1\n",
      " 0 0 1 1 0 1 1 1 0 1 0 1 1 1 0 0 0 1 1 0 1 1 0 0 1 0 1 1 1 1 0 0 0 1 1 1 1\n",
      " 1 1 0 1 1 1 1 0 1 1 1 1 1 1 0]\n"
     ]
    }
   ],
   "source": [
    "print(test_img.shape, test_label.shape)\n",
    "print(test_label[0:200])"
   ]
  },
  {
   "cell_type": "markdown",
   "metadata": {},
   "source": [
    "## Normalization"
   ]
  },
  {
   "cell_type": "code",
   "execution_count": 77,
   "metadata": {},
   "outputs": [
    {
     "name": "stdout",
     "output_type": "stream",
     "text": [
      "The shape of input tensor: (224, 224, 3)\n"
     ]
    }
   ],
   "source": [
    "# Find the shape of input images and create the variable input_shape\n",
    "nRows,nCols,nDims = train_img.shape[1:]\n",
    "input_shape = (nRows, nCols, nDims)\n",
    "print(\"The shape of input tensor:\",input_shape)"
   ]
  },
  {
   "cell_type": "code",
   "execution_count": 78,
   "metadata": {},
   "outputs": [],
   "source": [
    "# Change to float datatype\n",
    "train_img = train_img.astype('float32')\n",
    "val_img   = val_img.astype('float32')\n",
    "test_img  = test_img.astype('float32')\n",
    "\n",
    "# Scale the data to lie between 0 to 1\n",
    "train_img /= 255\n",
    "val_img   /= 255\n",
    "test_img  /= 255\n",
    "\n",
    "# Change the labels from integer to categorical data\n",
    "train_labels_one_hot = to_categorical(train_label)\n",
    "val_labels_one_hot   = to_categorical(val_label)\n",
    "test_labels_one_hot  = to_categorical(test_label)"
   ]
  },
  {
   "cell_type": "code",
   "execution_count": 79,
   "metadata": {},
   "outputs": [
    {
     "name": "stdout",
     "output_type": "stream",
     "text": [
      "Total number of outputs :  2\n",
      "Output classes :  [0 1]\n"
     ]
    }
   ],
   "source": [
    "# Find the unique numbers from the train labels\n",
    "classes = np.unique(train_label)\n",
    "nClasses = len(classes)\n",
    "print('Total number of outputs : ', nClasses)\n",
    "print('Output classes : ', classes)"
   ]
  },
  {
   "cell_type": "code",
   "execution_count": 80,
   "metadata": {},
   "outputs": [],
   "source": [
    "#np.where(test_label==0)"
   ]
  },
  {
   "cell_type": "code",
   "execution_count": 81,
   "metadata": {},
   "outputs": [
    {
     "name": "stdout",
     "output_type": "stream",
     "text": [
      "1\n"
     ]
    },
    {
     "data": {
      "image/png": "[encoded data removed]",
      "text/plain": [
       "<Figure size 432x288 with 1 Axes>"
      ]
     },
     "metadata": {
      "needs_background": "light"
     },
     "output_type": "display_data"
    }
   ],
   "source": [
    "item = random.randint(0,len(train_label))\n",
    "print(train_label[item])\n",
    "showImg(train_img[item])"
   ]
  },
  {
   "cell_type": "markdown",
   "metadata": {},
   "source": [
    "### ROC curve"
   ]
  },
  {
   "cell_type": "code",
   "execution_count": 82,
   "metadata": {},
   "outputs": [
    {
     "name": "stdout",
     "output_type": "stream",
     "text": [
      "rare_entire_dup\n"
     ]
    }
   ],
   "source": [
    "print(project_name)"
   ]
  },
  {
   "cell_type": "code",
   "execution_count": 83,
   "metadata": {},
   "outputs": [],
   "source": [
    "## Load pre-calculated model\n",
    "common_cnn_model_path = '/home/rt2776/cnv_espresso/src/' + project_name + '_model.h5'\n",
    "common_cnn_model = keras.models.load_model(common_cnn_model_path)\n",
    "\n",
    "MobileNet_model_path = '/home/rt2776/cnv_espresso/src/' + project_name + '_MobileNet_v1.h5'\n",
    "MobileNet_model = keras.models.load_model(MobileNet_model_path)\n",
    "\n",
    "ResNet50_model_path = '/home/rt2776/cnv_espresso/src/' + project_name + '_ResNet50.h5'\n",
    "ResNet50_model = keras.models.load_model(ResNet50_model_path)"
   ]
  },
  {
   "cell_type": "code",
   "execution_count": 84,
   "metadata": {},
   "outputs": [
    {
     "name": "stdout",
     "output_type": "stream",
     "text": [
      "99/99 [==============================] - 4s 36ms/step - loss: 0.4558 - accuracy: 0.9157\n"
     ]
    },
    {
     "data": {
      "text/plain": [
       "[0.4558321237564087, 0.9157196879386902]"
      ]
     },
     "execution_count": 84,
     "metadata": {},
     "output_type": "execute_result"
    }
   ],
   "source": [
    "MobileNet_model.evaluate(test_img, test_labels_one_hot)"
   ]
  },
  {
   "cell_type": "code",
   "execution_count": 85,
   "metadata": {},
   "outputs": [
    {
     "name": "stdout",
     "output_type": "stream",
     "text": [
      "99/99 [==============================] - 4s 35ms/step - loss: 0.2723 - accuracy: 0.8939\n"
     ]
    },
    {
     "data": {
      "text/plain": [
       "[0.27227726578712463, 0.8939393758773804]"
      ]
     },
     "execution_count": 85,
     "metadata": {},
     "output_type": "execute_result"
    }
   ],
   "source": [
    "common_cnn_model.evaluate(test_img, test_labels_one_hot)"
   ]
  },
  {
   "cell_type": "code",
   "execution_count": 86,
   "metadata": {},
   "outputs": [],
   "source": [
    "fpr_MobileNet, tpr_MobileNet, auc_MobileNet = pred_roc_data(MobileNet_model, test_img, test_labels_one_hot)\n",
    "fpr_ResNet50,  tpr_ResNet50,  auc_ResNet50  = pred_roc_data(ResNet50_model,  test_img, test_labels_one_hot)\n",
    "fpr_common_cnn,tpr_common_cnn,auc_common_cnn= pred_roc_data(common_cnn_model,test_img, test_labels_one_hot)"
   ]
  },
  {
   "cell_type": "code",
   "execution_count": 87,
   "metadata": {},
   "outputs": [
    {
     "data": {
      "image/png": "[encoded data removed]",
      "text/plain": [
       "<Figure size 432x288 with 1 Axes>"
      ]
     },
     "metadata": {
      "needs_background": "light"
     },
     "output_type": "display_data"
    },
    {
     "data": {
      "image/png": "[encoded data removed]",
      "text/plain": [
       "<Figure size 432x288 with 1 Axes>"
      ]
     },
     "metadata": {
      "needs_background": "light"
     },
     "output_type": "display_data"
    }
   ],
   "source": [
    "plt.figure(1) #,dpi=300\n",
    "plt.tick_params(labelsize=\"x-large\")\n",
    "plt.plot([0, 1], [0, 1], 'k--')\n",
    "plt.plot(fpr_MobileNet, tpr_MobileNet, label='MobileNet_v1(area = {:.3f})'.format(auc_MobileNet))\n",
    "plt.plot(fpr_ResNet50,  tpr_ResNet50,  label='ResNet50 (area = {:.3f})'.format(auc_ResNet50))\n",
    "plt.plot(fpr_common_cnn,tpr_common_cnn,label='Common CNN (area = {:.3f})'.format(auc_common_cnn))\n",
    "plt.xlabel('False positive rate',fontsize=\"xx-large\")\n",
    "plt.ylabel('True positive rate',fontsize=\"xx-large\")\n",
    "plt.title('ROC curve',fontsize=\"xx-large\")\n",
    "plt.legend(loc='best',fontsize=\"large\")\n",
    "plt.show()\n",
    "# Zoom in view of the upper left corner.\n",
    "plt.figure(2)\n",
    "plt.tick_params(labelsize=\"x-large\")\n",
    "plt.xlim(0, 0.3)\n",
    "plt.ylim(0.7, 1)\n",
    "plt.plot([0, 1], [0, 1], 'k--')\n",
    "plt.plot(fpr_MobileNet, tpr_MobileNet, label='MobileNet_v1(area = {:.3f})'.format(auc_MobileNet))\n",
    "plt.plot(fpr_ResNet50,  tpr_ResNet50,  label='ResNet50 (area = {:.3f})'.format(auc_ResNet50))\n",
    "plt.plot(fpr_common_cnn,tpr_common_cnn,label='Common CNN (area = {:.3f})'.format(auc_common_cnn))\n",
    "plt.xlabel('False positive rate',fontsize=\"xx-large\")\n",
    "plt.ylabel('True positive rate',fontsize=\"xx-large\")\n",
    "plt.title('ROC curve (zoomed in at top left)',fontsize=\"xx-large\")\n",
    "plt.legend(loc='best',fontsize=\"large\")\n",
    "plt.show()"
   ]
  },
  {
   "cell_type": "markdown",
   "metadata": {},
   "source": [
    "## Precision"
   ]
  },
  {
   "cell_type": "code",
   "execution_count": 102,
   "metadata": {},
   "outputs": [],
   "source": [
    "model_name = \"common_cnn\"\n",
    "model = common_cnn_model\n",
    "\n",
    "# model_name = \"MobileNet\"\n",
    "# model = MobileNet_model\n",
    "\n",
    "# model = ResNet50_model"
   ]
  },
  {
   "cell_type": "code",
   "execution_count": 103,
   "metadata": {},
   "outputs": [],
   "source": [
    "test_pred = model.predict(test_img)"
   ]
  },
  {
   "cell_type": "code",
   "execution_count": 104,
   "metadata": {},
   "outputs": [
    {
     "data": {
      "text/plain": [
       "(3168, 22)"
      ]
     },
     "execution_count": 104,
     "metadata": {},
     "output_type": "execute_result"
    }
   ],
   "source": [
    "test_output_df = copy.deepcopy(test_cnv_info_df)\n",
    "test_output_df.shape"
   ]
  },
  {
   "cell_type": "code",
   "execution_count": 105,
   "metadata": {},
   "outputs": [],
   "source": [
    "test_output_df.insert(test_output_df.shape[1], 'Prob_True', \"\")\n",
    "test_output_df.insert(test_output_df.shape[1], 'Prob_False', \"\")\n",
    "test_output_df.insert(test_output_df.shape[1], 'Prediction', \"\")\n",
    "test_output_df.insert(test_output_df.shape[1], 'Pred_status', \"\")"
   ]
  },
  {
   "cell_type": "code",
   "execution_count": 106,
   "metadata": {},
   "outputs": [
    {
     "data": {
      "text/plain": [
       "((3168, 26), (3168, 2), (3168, 22), 3168, (3168, 224, 224, 3))"
      ]
     },
     "execution_count": 106,
     "metadata": {},
     "output_type": "execute_result"
    }
   ],
   "source": [
    "test_output_df.shape,test_pred.shape, test_cnv_info_df.shape, len(test_cnv_info_df), test_img.shape"
   ]
  },
  {
   "cell_type": "code",
   "execution_count": 107,
   "metadata": {},
   "outputs": [
    {
     "name": "stdout",
     "output_type": "stream",
     "text": [
      "Accuracy for testing data: 89.39%\n"
     ]
    }
   ],
   "source": [
    "num, correct_count = 0, 0\n",
    "for i in range(len(test_pred)):\n",
    "    num += 1\n",
    "    test_output_df.iloc[i,test_output_df.columns.get_loc('Prob_False')] = test_pred[i][0]\n",
    "    test_output_df.iloc[i,test_output_df.columns.get_loc('Prob_True')] = test_pred[i][1]\n",
    "\n",
    "    if(np.argmax(test_pred[i]) == 0):\n",
    "        test_output_df.iloc[i,test_output_df.columns.get_loc('Prediction')] = \"Negative\"\n",
    "    else:\n",
    "        test_output_df.iloc[i,test_output_df.columns.get_loc('Prediction')] = \"Positive\"\n",
    "        \n",
    "    if(np.argmax(test_pred[i]) == test_label[i]):\n",
    "        test_output_df.iloc[i,test_output_df.columns.get_loc('Pred_status')] = \"Correct\"\n",
    "        correct_count += 1\n",
    "    else:\n",
    "        test_output_df.iloc[i,test_output_df.columns.get_loc('Pred_status')] = \"Wrong\"\n",
    "#     print(num, test_pred[i], test_label[i], pred_status)\n",
    "score = correct_count/len(test_pred)\n",
    "print('Accuracy for testing data: %.2f%s' % (score*100,'%'))"
   ]
  },
  {
   "cell_type": "code",
   "execution_count": 108,
   "metadata": {},
   "outputs": [],
   "source": [
    "## output to file\n",
    "output_path = '/home/rt2776/cnv_espresso/output/'\n",
    "test_output_df.to_csv(output_path+project_name+'_'+model_name +'_test_predict_info.csv',index=False)"
   ]
  },
  {
   "cell_type": "code",
   "execution_count": 109,
   "metadata": {},
   "outputs": [
    {
     "data": {
      "text/html": [
       "<div>\n",
       "<style scoped>\n",
       "    .dataframe tbody tr th:only-of-type {\n",
       "        vertical-align: middle;\n",
       "    }\n",
       "\n",
       "    .dataframe tbody tr th {\n",
       "        vertical-align: top;\n",
       "    }\n",
       "\n",
       "    .dataframe thead th {\n",
       "        text-align: right;\n",
       "    }\n",
       "</style>\n",
       "<table border=\"1\" class=\"dataframe\">\n",
       "  <thead>\n",
       "    <tr style=\"text-align: right;\">\n",
       "      <th></th>\n",
       "      <th>Unnamed: 0</th>\n",
       "      <th>CHR</th>\n",
       "      <th>PRED_START</th>\n",
       "      <th>PRED_END</th>\n",
       "      <th>TYPE</th>\n",
       "      <th>SAMPLE</th>\n",
       "      <th>CANOES_RT</th>\n",
       "      <th>CLAMMS_RT</th>\n",
       "      <th>XHMM_RT</th>\n",
       "      <th>NUM_OVERLAPS_RT</th>\n",
       "      <th>...</th>\n",
       "      <th>LABEL_VAL</th>\n",
       "      <th>ref</th>\n",
       "      <th>batch</th>\n",
       "      <th>Num_Carriers(inGivenCohort)</th>\n",
       "      <th>Num_Targets_Wins</th>\n",
       "      <th>image_path</th>\n",
       "      <th>Prob_True</th>\n",
       "      <th>Prob_False</th>\n",
       "      <th>Prediction</th>\n",
       "      <th>Pred_status</th>\n",
       "    </tr>\n",
       "  </thead>\n",
       "  <tbody>\n",
       "    <tr>\n",
       "      <th>1118</th>\n",
       "      <td>1118</td>\n",
       "      <td>19</td>\n",
       "      <td>40807808</td>\n",
       "      <td>40850426</td>\n",
       "      <td>DUP</td>\n",
       "      <td>SP0017985</td>\n",
       "      <td>0.16</td>\n",
       "      <td>0.0</td>\n",
       "      <td>1.0</td>\n",
       "      <td>2</td>\n",
       "      <td>...</td>\n",
       "      <td>1</td>\n",
       "      <td>hg38</td>\n",
       "      <td>spark2</td>\n",
       "      <td>16</td>\n",
       "      <td>10</td>\n",
       "      <td>/home/rt2776/cnv_espresso/images_rare/true_dup...</td>\n",
       "      <td>0.373118</td>\n",
       "      <td>0.626881</td>\n",
       "      <td>Negative</td>\n",
       "      <td>Wrong</td>\n",
       "    </tr>\n",
       "    <tr>\n",
       "      <th>6852</th>\n",
       "      <td>6852</td>\n",
       "      <td>9</td>\n",
       "      <td>125149672</td>\n",
       "      <td>125160906</td>\n",
       "      <td>DUP</td>\n",
       "      <td>SP0091645</td>\n",
       "      <td>0.00</td>\n",
       "      <td>1.0</td>\n",
       "      <td>0.0</td>\n",
       "      <td>1</td>\n",
       "      <td>...</td>\n",
       "      <td>1</td>\n",
       "      <td>hg38</td>\n",
       "      <td>spark8</td>\n",
       "      <td>23</td>\n",
       "      <td>5</td>\n",
       "      <td>/home/rt2776/cnv_espresso/images_rare/true_dup...</td>\n",
       "      <td>0.409281</td>\n",
       "      <td>0.590719</td>\n",
       "      <td>Negative</td>\n",
       "      <td>Wrong</td>\n",
       "    </tr>\n",
       "    <tr>\n",
       "      <th>13131</th>\n",
       "      <td>13131</td>\n",
       "      <td>2</td>\n",
       "      <td>33523878</td>\n",
       "      <td>33555567</td>\n",
       "      <td>DUP</td>\n",
       "      <td>SP0080797</td>\n",
       "      <td>0.00</td>\n",
       "      <td>1.0</td>\n",
       "      <td>0.0</td>\n",
       "      <td>1</td>\n",
       "      <td>...</td>\n",
       "      <td>0</td>\n",
       "      <td>hg38</td>\n",
       "      <td>spark7</td>\n",
       "      <td>66</td>\n",
       "      <td>8</td>\n",
       "      <td>/home/rt2776/cnv_espresso/images_rare/false_du...</td>\n",
       "      <td>0.832353</td>\n",
       "      <td>0.167647</td>\n",
       "      <td>Positive</td>\n",
       "      <td>Wrong</td>\n",
       "    </tr>\n",
       "    <tr>\n",
       "      <th>5599</th>\n",
       "      <td>5599</td>\n",
       "      <td>17</td>\n",
       "      <td>41054839</td>\n",
       "      <td>41098084</td>\n",
       "      <td>DUP</td>\n",
       "      <td>SP0075697</td>\n",
       "      <td>0.00</td>\n",
       "      <td>0.0</td>\n",
       "      <td>1.0</td>\n",
       "      <td>1</td>\n",
       "      <td>...</td>\n",
       "      <td>1</td>\n",
       "      <td>hg38</td>\n",
       "      <td>spark6</td>\n",
       "      <td>22</td>\n",
       "      <td>5</td>\n",
       "      <td>/home/rt2776/cnv_espresso/images_rare/true_dup...</td>\n",
       "      <td>0.163527</td>\n",
       "      <td>0.836473</td>\n",
       "      <td>Negative</td>\n",
       "      <td>Wrong</td>\n",
       "    </tr>\n",
       "    <tr>\n",
       "      <th>15474</th>\n",
       "      <td>15474</td>\n",
       "      <td>10</td>\n",
       "      <td>70209204</td>\n",
       "      <td>70218817</td>\n",
       "      <td>DUP</td>\n",
       "      <td>SP0136960</td>\n",
       "      <td>0.00</td>\n",
       "      <td>1.0</td>\n",
       "      <td>0.0</td>\n",
       "      <td>1</td>\n",
       "      <td>...</td>\n",
       "      <td>0</td>\n",
       "      <td>hg38</td>\n",
       "      <td>spark10</td>\n",
       "      <td>34</td>\n",
       "      <td>7</td>\n",
       "      <td>/home/rt2776/cnv_espresso/images_rare/false_du...</td>\n",
       "      <td>0.891439</td>\n",
       "      <td>0.108561</td>\n",
       "      <td>Positive</td>\n",
       "      <td>Wrong</td>\n",
       "    </tr>\n",
       "    <tr>\n",
       "      <th>...</th>\n",
       "      <td>...</td>\n",
       "      <td>...</td>\n",
       "      <td>...</td>\n",
       "      <td>...</td>\n",
       "      <td>...</td>\n",
       "      <td>...</td>\n",
       "      <td>...</td>\n",
       "      <td>...</td>\n",
       "      <td>...</td>\n",
       "      <td>...</td>\n",
       "      <td>...</td>\n",
       "      <td>...</td>\n",
       "      <td>...</td>\n",
       "      <td>...</td>\n",
       "      <td>...</td>\n",
       "      <td>...</td>\n",
       "      <td>...</td>\n",
       "      <td>...</td>\n",
       "      <td>...</td>\n",
       "      <td>...</td>\n",
       "      <td>...</td>\n",
       "    </tr>\n",
       "    <tr>\n",
       "      <th>11487</th>\n",
       "      <td>11487</td>\n",
       "      <td>3</td>\n",
       "      <td>155141990</td>\n",
       "      <td>155160448</td>\n",
       "      <td>DUP</td>\n",
       "      <td>SP0040514</td>\n",
       "      <td>0.00</td>\n",
       "      <td>1.0</td>\n",
       "      <td>0.0</td>\n",
       "      <td>1</td>\n",
       "      <td>...</td>\n",
       "      <td>0</td>\n",
       "      <td>hg38</td>\n",
       "      <td>spark3</td>\n",
       "      <td>0</td>\n",
       "      <td>7</td>\n",
       "      <td>/home/rt2776/cnv_espresso/images_rare/false_du...</td>\n",
       "      <td>0.985908</td>\n",
       "      <td>0.0140925</td>\n",
       "      <td>Positive</td>\n",
       "      <td>Wrong</td>\n",
       "    </tr>\n",
       "    <tr>\n",
       "      <th>15261</th>\n",
       "      <td>15261</td>\n",
       "      <td>14</td>\n",
       "      <td>24137142</td>\n",
       "      <td>24138816</td>\n",
       "      <td>DUP</td>\n",
       "      <td>SP0129856</td>\n",
       "      <td>0.00</td>\n",
       "      <td>1.0</td>\n",
       "      <td>0.0</td>\n",
       "      <td>1</td>\n",
       "      <td>...</td>\n",
       "      <td>0</td>\n",
       "      <td>hg38</td>\n",
       "      <td>spark10</td>\n",
       "      <td>112</td>\n",
       "      <td>8</td>\n",
       "      <td>/home/rt2776/cnv_espresso/images_rare/false_du...</td>\n",
       "      <td>0.620244</td>\n",
       "      <td>0.379756</td>\n",
       "      <td>Positive</td>\n",
       "      <td>Wrong</td>\n",
       "    </tr>\n",
       "    <tr>\n",
       "      <th>9759</th>\n",
       "      <td>9759</td>\n",
       "      <td>12</td>\n",
       "      <td>119668244</td>\n",
       "      <td>119688255</td>\n",
       "      <td>DUP</td>\n",
       "      <td>SP0138776</td>\n",
       "      <td>0.00</td>\n",
       "      <td>1.0</td>\n",
       "      <td>0.0</td>\n",
       "      <td>1</td>\n",
       "      <td>...</td>\n",
       "      <td>1</td>\n",
       "      <td>hg38</td>\n",
       "      <td>spark10</td>\n",
       "      <td>111</td>\n",
       "      <td>8</td>\n",
       "      <td>/home/rt2776/cnv_espresso/images_rare/true_dup...</td>\n",
       "      <td>0.434873</td>\n",
       "      <td>0.565127</td>\n",
       "      <td>Negative</td>\n",
       "      <td>Wrong</td>\n",
       "    </tr>\n",
       "    <tr>\n",
       "      <th>5771</th>\n",
       "      <td>5771</td>\n",
       "      <td>2</td>\n",
       "      <td>172795024</td>\n",
       "      <td>172965683</td>\n",
       "      <td>DUP</td>\n",
       "      <td>SP0077668</td>\n",
       "      <td>0.00</td>\n",
       "      <td>1.0</td>\n",
       "      <td>0.0</td>\n",
       "      <td>1</td>\n",
       "      <td>...</td>\n",
       "      <td>1</td>\n",
       "      <td>hg38</td>\n",
       "      <td>spark7</td>\n",
       "      <td>89</td>\n",
       "      <td>11</td>\n",
       "      <td>/home/rt2776/cnv_espresso/images_rare/true_dup...</td>\n",
       "      <td>0.46753</td>\n",
       "      <td>0.53247</td>\n",
       "      <td>Negative</td>\n",
       "      <td>Wrong</td>\n",
       "    </tr>\n",
       "    <tr>\n",
       "      <th>13205</th>\n",
       "      <td>13205</td>\n",
       "      <td>1</td>\n",
       "      <td>40074060</td>\n",
       "      <td>40092507</td>\n",
       "      <td>DUP</td>\n",
       "      <td>SP0081909</td>\n",
       "      <td>0.00</td>\n",
       "      <td>1.0</td>\n",
       "      <td>0.0</td>\n",
       "      <td>1</td>\n",
       "      <td>...</td>\n",
       "      <td>0</td>\n",
       "      <td>hg38</td>\n",
       "      <td>spark7</td>\n",
       "      <td>68</td>\n",
       "      <td>8</td>\n",
       "      <td>/home/rt2776/cnv_espresso/images_rare/false_du...</td>\n",
       "      <td>0.653597</td>\n",
       "      <td>0.346403</td>\n",
       "      <td>Positive</td>\n",
       "      <td>Wrong</td>\n",
       "    </tr>\n",
       "  </tbody>\n",
       "</table>\n",
       "<p>336 rows × 26 columns</p>\n",
       "</div>"
      ],
      "text/plain": [
       "       Unnamed: 0  CHR  PRED_START   PRED_END TYPE     SAMPLE  CANOES_RT  \\\n",
       "1118         1118   19    40807808   40850426  DUP  SP0017985       0.16   \n",
       "6852         6852    9   125149672  125160906  DUP  SP0091645       0.00   \n",
       "13131       13131    2    33523878   33555567  DUP  SP0080797       0.00   \n",
       "5599         5599   17    41054839   41098084  DUP  SP0075697       0.00   \n",
       "15474       15474   10    70209204   70218817  DUP  SP0136960       0.00   \n",
       "...           ...  ...         ...        ...  ...        ...        ...   \n",
       "11487       11487    3   155141990  155160448  DUP  SP0040514       0.00   \n",
       "15261       15261   14    24137142   24138816  DUP  SP0129856       0.00   \n",
       "9759         9759   12   119668244  119688255  DUP  SP0138776       0.00   \n",
       "5771         5771    2   172795024  172965683  DUP  SP0077668       0.00   \n",
       "13205       13205    1    40074060   40092507  DUP  SP0081909       0.00   \n",
       "\n",
       "       CLAMMS_RT  XHMM_RT  NUM_OVERLAPS_RT  ...  LABEL_VAL   ref    batch  \\\n",
       "1118         0.0      1.0                2  ...          1  hg38   spark2   \n",
       "6852         1.0      0.0                1  ...          1  hg38   spark8   \n",
       "13131        1.0      0.0                1  ...          0  hg38   spark7   \n",
       "5599         0.0      1.0                1  ...          1  hg38   spark6   \n",
       "15474        1.0      0.0                1  ...          0  hg38  spark10   \n",
       "...          ...      ...              ...  ...        ...   ...      ...   \n",
       "11487        1.0      0.0                1  ...          0  hg38   spark3   \n",
       "15261        1.0      0.0                1  ...          0  hg38  spark10   \n",
       "9759         1.0      0.0                1  ...          1  hg38  spark10   \n",
       "5771         1.0      0.0                1  ...          1  hg38   spark7   \n",
       "13205        1.0      0.0                1  ...          0  hg38   spark7   \n",
       "\n",
       "       Num_Carriers(inGivenCohort)  Num_Targets_Wins  \\\n",
       "1118                            16                10   \n",
       "6852                            23                 5   \n",
       "13131                           66                 8   \n",
       "5599                            22                 5   \n",
       "15474                           34                 7   \n",
       "...                            ...               ...   \n",
       "11487                            0                 7   \n",
       "15261                          112                 8   \n",
       "9759                           111                 8   \n",
       "5771                            89                11   \n",
       "13205                           68                 8   \n",
       "\n",
       "                                              image_path  Prob_True  \\\n",
       "1118   /home/rt2776/cnv_espresso/images_rare/true_dup...   0.373118   \n",
       "6852   /home/rt2776/cnv_espresso/images_rare/true_dup...   0.409281   \n",
       "13131  /home/rt2776/cnv_espresso/images_rare/false_du...   0.832353   \n",
       "5599   /home/rt2776/cnv_espresso/images_rare/true_dup...   0.163527   \n",
       "15474  /home/rt2776/cnv_espresso/images_rare/false_du...   0.891439   \n",
       "...                                                  ...        ...   \n",
       "11487  /home/rt2776/cnv_espresso/images_rare/false_du...   0.985908   \n",
       "15261  /home/rt2776/cnv_espresso/images_rare/false_du...   0.620244   \n",
       "9759   /home/rt2776/cnv_espresso/images_rare/true_dup...   0.434873   \n",
       "5771   /home/rt2776/cnv_espresso/images_rare/true_dup...    0.46753   \n",
       "13205  /home/rt2776/cnv_espresso/images_rare/false_du...   0.653597   \n",
       "\n",
       "      Prob_False Prediction  Pred_status  \n",
       "1118    0.626881   Negative        Wrong  \n",
       "6852    0.590719   Negative        Wrong  \n",
       "13131   0.167647   Positive        Wrong  \n",
       "5599    0.836473   Negative        Wrong  \n",
       "15474   0.108561   Positive        Wrong  \n",
       "...          ...        ...          ...  \n",
       "11487  0.0140925   Positive        Wrong  \n",
       "15261   0.379756   Positive        Wrong  \n",
       "9759    0.565127   Negative        Wrong  \n",
       "5771     0.53247   Negative        Wrong  \n",
       "13205   0.346403   Positive        Wrong  \n",
       "\n",
       "[336 rows x 26 columns]"
      ]
     },
     "execution_count": 109,
     "metadata": {},
     "output_type": "execute_result"
    }
   ],
   "source": [
    "test_output_df[test_output_df['Pred_status']=='Wrong']"
   ]
  },
  {
   "cell_type": "code",
   "execution_count": 113,
   "metadata": {},
   "outputs": [
    {
     "data": {
      "text/html": [
       "<div>\n",
       "<style scoped>\n",
       "    .dataframe tbody tr th:only-of-type {\n",
       "        vertical-align: middle;\n",
       "    }\n",
       "\n",
       "    .dataframe tbody tr th {\n",
       "        vertical-align: top;\n",
       "    }\n",
       "\n",
       "    .dataframe thead th {\n",
       "        text-align: right;\n",
       "    }\n",
       "</style>\n",
       "<table border=\"1\" class=\"dataframe\">\n",
       "  <thead>\n",
       "    <tr style=\"text-align: right;\">\n",
       "      <th></th>\n",
       "      <th>Unnamed: 0</th>\n",
       "      <th>CHR</th>\n",
       "      <th>PRED_START</th>\n",
       "      <th>PRED_END</th>\n",
       "      <th>TYPE</th>\n",
       "      <th>SAMPLE</th>\n",
       "      <th>CANOES_RT</th>\n",
       "      <th>CLAMMS_RT</th>\n",
       "      <th>XHMM_RT</th>\n",
       "      <th>NUM_OVERLAPS_RT</th>\n",
       "      <th>...</th>\n",
       "      <th>LABEL_VAL</th>\n",
       "      <th>ref</th>\n",
       "      <th>batch</th>\n",
       "      <th>Num_Carriers(inGivenCohort)</th>\n",
       "      <th>Num_Targets_Wins</th>\n",
       "      <th>image_path</th>\n",
       "      <th>Prob_True</th>\n",
       "      <th>Prob_False</th>\n",
       "      <th>Prediction</th>\n",
       "      <th>Pred_status</th>\n",
       "    </tr>\n",
       "  </thead>\n",
       "  <tbody>\n",
       "    <tr>\n",
       "      <th>1534</th>\n",
       "      <td>10574</td>\n",
       "      <td>7</td>\n",
       "      <td>25123700</td>\n",
       "      <td>25228439</td>\n",
       "      <td>DUP</td>\n",
       "      <td>SP0009081</td>\n",
       "      <td>1.0</td>\n",
       "      <td>0.0</td>\n",
       "      <td>0.0</td>\n",
       "      <td>1</td>\n",
       "      <td>...</td>\n",
       "      <td>0</td>\n",
       "      <td>hg38</td>\n",
       "      <td>spark1</td>\n",
       "      <td>0</td>\n",
       "      <td>18</td>\n",
       "      <td>/home/rt2776/cnv_espresso/images_rare/false_du...</td>\n",
       "      <td>0.995108</td>\n",
       "      <td>0.00489227</td>\n",
       "      <td>Positive</td>\n",
       "      <td>Wrong</td>\n",
       "    </tr>\n",
       "  </tbody>\n",
       "</table>\n",
       "<p>1 rows × 26 columns</p>\n",
       "</div>"
      ],
      "text/plain": [
       "      Unnamed: 0  CHR  PRED_START  PRED_END TYPE     SAMPLE  CANOES_RT  \\\n",
       "1534       10574    7    25123700  25228439  DUP  SP0009081        1.0   \n",
       "\n",
       "      CLAMMS_RT  XHMM_RT  NUM_OVERLAPS_RT  ...  LABEL_VAL   ref   batch  \\\n",
       "1534        0.0      0.0                1  ...          0  hg38  spark1   \n",
       "\n",
       "      Num_Carriers(inGivenCohort)  Num_Targets_Wins  \\\n",
       "1534                            0                18   \n",
       "\n",
       "                                             image_path  Prob_True  \\\n",
       "1534  /home/rt2776/cnv_espresso/images_rare/false_du...   0.995108   \n",
       "\n",
       "      Prob_False Prediction  Pred_status  \n",
       "1534  0.00489227   Positive        Wrong  \n",
       "\n",
       "[1 rows x 26 columns]"
      ]
     },
     "execution_count": 113,
     "metadata": {},
     "output_type": "execute_result"
    }
   ],
   "source": [
    "test_output_df[test_output_df['SAMPLE']=='SP0009081'] "
   ]
  },
  {
   "cell_type": "code",
   "execution_count": 111,
   "metadata": {},
   "outputs": [],
   "source": [
    "test_output_df.index=range(len(test_output_df))"
   ]
  },
  {
   "cell_type": "code",
   "execution_count": 112,
   "metadata": {},
   "outputs": [
    {
     "name": "stdout",
     "output_type": "stream",
     "text": [
      "0 [0.33081144 0.66918856] Unnamed: 0                                                                 13187\n",
      "CHR                                                                           11\n",
      "PRED_START                                                              76516141\n",
      "PRED_END                                                                76542367\n",
      "TYPE                                                                         DUP\n",
      "SAMPLE                                                                 SP0081268\n",
      "CANOES_RT                                                                      0\n",
      "CLAMMS_RT                                                                      1\n",
      "XHMM_RT                                                                        0\n",
      "NUM_OVERLAPS_RT                                                                1\n",
      "RD_PROP_RT                                                                  0.88\n",
      "GC                                                                          0.36\n",
      "PRED_SIZE                                                                  26226\n",
      "MAP                                                                            1\n",
      "NUM_TARGETS                                                                    8\n",
      "SIZE_LABEL                                                           E)25KB-50KB\n",
      "LABEL_VAL                                                                      0\n",
      "ref                                                                         hg38\n",
      "batch                                                                     spark7\n",
      "Num_Carriers(inGivenCohort)                                                   67\n",
      "Num_Targets_Wins                                                               8\n",
      "image_path                     /home/rt2776/cnv_espresso/images_rare/false_du...\n",
      "Prob_True                                                               0.669189\n",
      "Prob_False                                                              0.330811\n",
      "Prediction                                                              Positive\n",
      "Pred_status                                                                Wrong\n",
      "Name: 2349, dtype: object\n"
     ]
    },
    {
     "data": {
      "image/png": "[encoded data removed]",
      "text/plain": [
       "<Figure size 432x288 with 1 Axes>"
      ]
     },
     "metadata": {
      "needs_background": "light"
     },
     "output_type": "display_data"
    }
   ],
   "source": [
    "#i=random.randrange(len(test_img))\n",
    "i=random.choice(test_output_df[test_output_df['Pred_status']=='Wrong'].index)\n",
    "showImg(test_img[i]), \n",
    "print(test_label[i], test_pred[i],  test_output_df.iloc[i,:])"
   ]
  },
  {
   "cell_type": "markdown",
   "metadata": {},
   "source": [
    "### TODO:\n",
    "- Check the performance on different size categories on test data firstly and by k-fold cross validation secondly. "
   ]
  },
  {
   "cell_type": "markdown",
   "metadata": {},
   "source": [
    "## Reference:\n",
    "- Load image: https://keras.io/api/preprocessing/image/#load_img-function\n",
    "- Model example: https://towardsdatascience.com/covolutional-neural-network-cb0883dd6529\n",
    "- Transfer learning and toy demo: https://zhuanlan.zhihu.com/p/51889181\n",
    "- K-fold validation: https://medium.com/the-owl/k-fold-cross-validation-in-keras-3ec4a3a00538\n",
    "- ROC curve: https://medium.com/hackernoon/simple-guide-on-how-to-generate-roc-plot-for-keras-classifier-2ecc6c73115a"
   ]
  },
  {
   "cell_type": "code",
   "execution_count": null,
   "metadata": {},
   "outputs": [],
   "source": []
  }
 ],
 "metadata": {
  "kernelspec": {
   "display_name": "Python 3",
   "language": "python",
   "name": "python3"
  },
  "language_info": {
   "codemirror_mode": {
    "name": "ipython",
    "version": 3
   },
   "file_extension": ".py",
   "mimetype": "text/x-python",
   "name": "python",
   "nbconvert_exporter": "python",
   "pygments_lexer": "ipython3",
   "version": "3.8.3"
  }
 },
 "nbformat": 4,
 "nbformat_minor": 4
}
