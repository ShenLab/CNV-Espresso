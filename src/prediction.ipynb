{
 "cells": [
  {
   "cell_type": "markdown",
   "metadata": {},
   "source": [
    "# CNN Prediction"
   ]
  },
  {
   "cell_type": "code",
   "execution_count": 1,
   "metadata": {},
   "outputs": [
    {
     "name": "stdout",
     "output_type": "stream",
     "text": [
      "Tensorflow version 2.2.0\n"
     ]
    }
   ],
   "source": [
    "import os\n",
    "import re\n",
    "import copy\n",
    "import random\n",
    "import datetime\n",
    "import tensorflow as tf\n",
    "print(\"Tensorflow version \" + tf.__version__)\n",
    "import pandas as pd\n",
    "\n",
    "import PIL\n",
    "import numpy as np\n",
    "from matplotlib import pyplot as plt\n",
    "import seaborn as sns\n",
    "\n",
    "from sklearn.model_selection import train_test_split\n",
    "from sklearn.metrics import roc_curve\n",
    "from sklearn.metrics import auc\n",
    "from sklearn.metrics import classification_report\n",
    "from sklearn import metrics\n",
    "from sklearn.model_selection import KFold, StratifiedKFold\n",
    "import sklearn\n",
    "\n",
    "from __future__ import print_function\n",
    "#import keras\n",
    "from tensorflow import keras\n",
    "import keras.preprocessing\n",
    "from keras.models import Sequential\n",
    "from keras.utils import to_categorical\n",
    "from keras.layers import Dense, Conv2D, MaxPooling2D, Dropout, Flatten\n",
    "from keras.models import load_model\n",
    "from keras.callbacks import EarlyStopping\n",
    "from keras.callbacks import ModelCheckpoint\n",
    "from keras import backend"
   ]
  },
  {
   "cell_type": "code",
   "execution_count": 2,
   "metadata": {},
   "outputs": [
    {
     "data": {
      "text/plain": [
       "[PhysicalDevice(name='/physical_device:GPU:0', device_type='GPU')]"
      ]
     },
     "execution_count": 2,
     "metadata": {},
     "output_type": "execute_result"
    }
   ],
   "source": [
    "os.environ['CUDA_VISIBLE_DEVICES'] = \"2\"\n",
    "physical_devices = tf.config.experimental.list_physical_devices('GPU') \n",
    "physical_devices"
   ]
  },
  {
   "cell_type": "markdown",
   "metadata": {},
   "source": [
    "# Functions"
   ]
  },
  {
   "cell_type": "code",
   "execution_count": 3,
   "metadata": {},
   "outputs": [],
   "source": [
    "def fileToList(file_name):\n",
    "    result_list = [] \n",
    "    fp = open(file_name)\n",
    "    for row in fp:\n",
    "        row = row.strip()\n",
    "        row = row.replace(\"\\\"\",\"\")\n",
    "        row = re.split('\\t',row)\n",
    "        #row = re.split(r'[;,\\s]\\s*', row)\n",
    "        result_list.append(row)\n",
    "    fp.close()  \n",
    "    return result_list "
   ]
  },
  {
   "cell_type": "code",
   "execution_count": 4,
   "metadata": {},
   "outputs": [],
   "source": [
    "def showImg(img_data):\n",
    "    if type(img_data) is list:\n",
    "        image = tf.keras.preprocessing.image.load_img(img_data)\n",
    "        plt.imshow(image)\n",
    "    if type(img_data) is np.ndarray:\n",
    "        image = tf.keras.preprocessing.image.array_to_img(img_data)\n",
    "        plt.imshow(image)"
   ]
  },
  {
   "cell_type": "code",
   "execution_count": 5,
   "metadata": {},
   "outputs": [],
   "source": [
    "def resizeCropImg(img_file, target_width, target_height):\n",
    "    image = tf.keras.preprocessing.image.load_img(img_file)\n",
    "    width, height = image.size\n",
    "    left   = width*0.13\n",
    "    top    = height*0.13\n",
    "    right  = width*0.87\n",
    "    bottom = height*0.87\n",
    "    image = image.crop((left, top, right, bottom))\n",
    "    image = image.resize((target_width, target_height))\n",
    "    return image"
   ]
  },
  {
   "cell_type": "code",
   "execution_count": 6,
   "metadata": {},
   "outputs": [],
   "source": [
    "def loadImgs(cnv_list, img_width, img_height):\n",
    "    cnv_np = np.zeros((len(cnv_list), img_width, img_height, 3))\n",
    "    for index, each_cnv in enumerate(cnv_list):\n",
    "        if index % 1000 == 1:\n",
    "            time_stamp = datetime.datetime.now()\n",
    "            time_str   = time_stamp.strftime('%Y.%m.%d-%H:%M:%S')\n",
    "            print(\"[%s] Processing %d ...\"%(time_str, index))\n",
    "        cnv_img = resizeCropImg(each_cnv, img_width, img_height)\n",
    "        cnv_np[index] = tf.keras.preprocessing.image.img_to_array(cnv_img)\n",
    "    time_stamp = datetime.datetime.now()\n",
    "    time_str   = time_stamp.strftime('%Y.%m.%d-%H:%M:%S')\n",
    "    print(\"[%s] Done %d.\"%(time_str, index))\n",
    "    return cnv_np"
   ]
  },
  {
   "cell_type": "code",
   "execution_count": 7,
   "metadata": {},
   "outputs": [],
   "source": [
    "def pred_roc_data(model, img, label_one_hot):\n",
    "    pred_keras = model.predict(img).ravel() # ravel(): Flatten the array\n",
    "    fpr_keras, tpr_keras, thresholds_keras = roc_curve(label_one_hot.ravel(), pred_keras) \n",
    "    auc_keras = auc(fpr_keras, tpr_keras)\n",
    "    return fpr_keras, tpr_keras, auc_keras"
   ]
  },
  {
   "cell_type": "code",
   "execution_count": 8,
   "metadata": {},
   "outputs": [],
   "source": [
    "def recall_m(y_true, y_pred):\n",
    "    true_positives = keras.backend.sum(keras.backend.round(keras.backend.clip(y_true * y_pred, 0, 1)))\n",
    "    possible_positives = keras.backend.sum(keras.backend.round(keras.backend.clip(y_true, 0, 1)))\n",
    "    recall = true_positives / (possible_positives + keras.backend.epsilon())\n",
    "    return recall\n",
    "\n",
    "def precision_m(y_true, y_pred):\n",
    "    true_positives = keras.backend.sum(keras.backend.round(keras.backend.clip(y_true * y_pred, 0, 1)))\n",
    "    predicted_positives = keras.backend.sum(keras.backend.round(keras.backend.clip(y_pred, 0, 1)))\n",
    "    precision = true_positives / (predicted_positives + keras.backend.epsilon())\n",
    "    return precision\n",
    "\n",
    "def f1_m(y_true, y_pred):\n",
    "    precision = precision_m(y_true, y_pred)\n",
    "    recall = recall_m(y_true, y_pred)\n",
    "    return 2*((precision*recall)/(precision+recall+keras.backend.epsilon()))\n",
    "\n",
    "#ref: https://datascience.stackexchange.com/questions/45165/how-to-get-accuracy-f1-precision-and-recall-for-a-keras-model"
   ]
  },
  {
   "cell_type": "markdown",
   "metadata": {},
   "source": [
    "# Processing"
   ]
  },
  {
   "cell_type": "code",
   "execution_count": 9,
   "metadata": {},
   "outputs": [],
   "source": [
    "img_width, img_height = 224, 224"
   ]
  },
  {
   "cell_type": "code",
   "execution_count": 12,
   "metadata": {},
   "outputs": [],
   "source": [
    "# ## For rare deletions\n",
    "# true_file = '/home/rt2776/cnv_espresso/images_rare/true_del_image_info.list'\n",
    "# false_file = '/home/rt2776/cnv_espresso/images_rare/false_del_image_info.list'"
   ]
  },
  {
   "cell_type": "code",
   "execution_count": 13,
   "metadata": {},
   "outputs": [],
   "source": [
    "# ## For rare duplications\n",
    "# true_file = '/home/rt2776/cnv_espresso/images_rare/true_dup_image_info.list'\n",
    "# false_file = '/home/rt2776/cnv_espresso/images_rare/false_dup_image_info.list'"
   ]
  },
  {
   "cell_type": "code",
   "execution_count": 14,
   "metadata": {},
   "outputs": [],
   "source": [
    "# ## For splited rare deletions\n",
    "# true_file  = '/home/rt2776/cnv_espresso/images_rare/data_backup/true_rare_del_splits.list'\n",
    "# false_file = '/home/rt2776/cnv_espresso/images_rare/data_backup/false_rare_del_splits.list'"
   ]
  },
  {
   "cell_type": "code",
   "execution_count": 15,
   "metadata": {},
   "outputs": [],
   "source": [
    "# ## For splited rare duplications\n",
    "# true_file  = '/home/rt2776/cnv_espresso/images_rare/data_backup/true_rare_dup_splits.list'\n",
    "# false_file = '/home/rt2776/cnv_espresso/images_rare/data_backup/false_rare_dup_splits.list'"
   ]
  },
  {
   "cell_type": "markdown",
   "metadata": {},
   "source": [
    "### Loading cnv image file paths to list"
   ]
  },
  {
   "cell_type": "code",
   "execution_count": 16,
   "metadata": {},
   "outputs": [],
   "source": [
    "# true_cnv_df  = pd.read_csv(true_file,  header=0,sep='\\t')\n",
    "# false_cnv_df = pd.read_csv(false_file, header=0,sep='\\t')"
   ]
  },
  {
   "cell_type": "code",
   "execution_count": 17,
   "metadata": {},
   "outputs": [],
   "source": [
    "# true_images_path_list  = true_cnv_df['image_path']\n",
    "# false_images_path_list = false_cnv_df['image_path']"
   ]
  },
  {
   "cell_type": "code",
   "execution_count": 18,
   "metadata": {},
   "outputs": [],
   "source": [
    "## For file with image path only:\n",
    "\n",
    "# true_list = [each_file[0] for each_file in fileToList(true_file)]\n",
    "# false_list = [each_file[0] for each_file in fileToList(false_file)]\n",
    "# len(true_list), len(false_list)"
   ]
  },
  {
   "cell_type": "code",
   "execution_count": 16,
   "metadata": {},
   "outputs": [],
   "source": [
    "## For pcgc experimental cnvs\n",
    "cnv_info_file = '/home/rt2776/cnv_espresso/predict_pcgc/images/pcgc_NimbleGenV2_data_withImagePath.csv'\n",
    "cnv_info_df   = pd.read_csv(cnv_info_file)"
   ]
  },
  {
   "cell_type": "code",
   "execution_count": 20,
   "metadata": {},
   "outputs": [],
   "source": [
    "entire_cnv_images_path_list  = cnv_info_df['entire_cnv_path']"
   ]
  },
  {
   "cell_type": "code",
   "execution_count": 19,
   "metadata": {},
   "outputs": [],
   "source": [
    "pcgc_split_cnv_images_file = '/home/rt2776/cnv_espresso/predict_pcgc/images/split_cnv_list.txt'\n",
    "pcgc_split_cnv_images_df   = pd.read_csv(pcgc_split_cnv_images_file,header = None)\n",
    "pcgc_split_cnv_images_list = pcgc_split_cnv_images_df[0]"
   ]
  },
  {
   "cell_type": "markdown",
   "metadata": {},
   "source": [
    "### Loading images from list to numpy array"
   ]
  },
  {
   "cell_type": "code",
   "execution_count": 21,
   "metadata": {},
   "outputs": [],
   "source": [
    "# false_img_np = loadImgs(false_images_path_list, img_width, img_height)\n",
    "# false_img_np.shape"
   ]
  },
  {
   "cell_type": "code",
   "execution_count": 22,
   "metadata": {},
   "outputs": [],
   "source": [
    "# true_img_np = loadImgs(true_images_path_list, img_width, img_height)\n",
    "# true_img_np.shape"
   ]
  },
  {
   "cell_type": "code",
   "execution_count": 23,
   "metadata": {},
   "outputs": [
    {
     "name": "stdout",
     "output_type": "stream",
     "text": [
      "[2021.02.11-21:48:05] Processing 1 ...\n",
      "[2021.02.11-21:48:07] Done 51.\n"
     ]
    },
    {
     "data": {
      "text/plain": [
       "(52, 224, 224, 3)"
      ]
     },
     "execution_count": 23,
     "metadata": {},
     "output_type": "execute_result"
    }
   ],
   "source": [
    "img_np = loadImgs(entire_cnv_images_path_list, img_width, img_height)\n",
    "img_np.shape"
   ]
  },
  {
   "cell_type": "code",
   "execution_count": 21,
   "metadata": {},
   "outputs": [
    {
     "name": "stdout",
     "output_type": "stream",
     "text": [
      "[2021.02.17-10:59:10] Processing 1 ...\n",
      "[2021.02.17-11:00:11] Processing 1001 ...\n",
      "[2021.02.17-11:00:45] Done 1465.\n"
     ]
    },
    {
     "data": {
      "text/plain": [
       "(1466, 224, 224, 3)"
      ]
     },
     "execution_count": 21,
     "metadata": {},
     "output_type": "execute_result"
    }
   ],
   "source": [
    "img_np = loadImgs(pcgc_split_cnv_images_list, img_width, img_height)\n",
    "img_np.shape"
   ]
  },
  {
   "cell_type": "code",
   "execution_count": 23,
   "metadata": {},
   "outputs": [
    {
     "name": "stdout",
     "output_type": "stream",
     "text": [
      "/home/rt2776/cnv_espresso/predict_pcgc/images/split_cnvs/15_1-00296_5_166386727_173073664_NA_DEL_NAtgs_389wins_splits129_39.png\n"
     ]
    },
    {
     "data": {
      "image/png": "[encoded data removed]",
      "text/plain": [
       "<Figure size 432x288 with 1 Axes>"
      ]
     },
     "metadata": {
      "needs_background": "light"
     },
     "output_type": "display_data"
    }
   ],
   "source": [
    "i = 100\n",
    "#print(cnv_info_df.iloc[i,:])\n",
    "print(pcgc_split_cnv_images_list[i])\n",
    "showImg(img_np[i])"
   ]
  },
  {
   "cell_type": "markdown",
   "metadata": {},
   "source": [
    "### Generage labels"
   ]
  },
  {
   "cell_type": "code",
   "execution_count": 25,
   "metadata": {},
   "outputs": [],
   "source": [
    "# true_label = [1 for i in range(0,len(true_img_np))]\n",
    "# false_label = [0 for i in range(0,len(false_img_np))]\n",
    "# print(true_label[0:5], false_label[0:5])\n",
    "# print(len(true_label), len(false_label))"
   ]
  },
  {
   "cell_type": "markdown",
   "metadata": {},
   "source": [
    "### Combine true & false data"
   ]
  },
  {
   "cell_type": "code",
   "execution_count": 26,
   "metadata": {},
   "outputs": [],
   "source": [
    "# combined_cnv_info_df = true_cnv_df.append(false_cnv_df, ignore_index=True)\n",
    "# #combined_cnv_info_index = list(range(len(combined_cnv_info_df)))\n",
    "# combined_img_np = np.vstack((true_img_np, false_img_np))\n",
    "# combined_label = true_label + false_label"
   ]
  },
  {
   "cell_type": "code",
   "execution_count": 27,
   "metadata": {},
   "outputs": [],
   "source": [
    "# combined_cnv_info_df.shape, true_cnv_df.shape, false_cnv_df.shape"
   ]
  },
  {
   "cell_type": "markdown",
   "metadata": {},
   "source": [
    "### Backup or restore"
   ]
  },
  {
   "cell_type": "code",
   "execution_count": 28,
   "metadata": {},
   "outputs": [],
   "source": [
    "# backup_path = '/home/rt2776/cnv_espresso/images_rare/data_backup/'\n",
    "# os.makedirs(backup_path, exist_ok=True)"
   ]
  },
  {
   "cell_type": "code",
   "execution_count": 29,
   "metadata": {},
   "outputs": [],
   "source": [
    "## Backup\n",
    "\n",
    "# project_name = 'rare_entire_del'\n",
    "# combined_cnv_info_df.to_csv(backup_path+'rare_del_entire_cnv_info.csv')\n",
    "# np.save(backup_path+'rare_del_entire_img', combined_img_np)\n",
    "# np.save(backup_path+'rare_del_entire_label', combined_label)\n",
    "\n",
    "# project_name = 'rare_entire_dup'\n",
    "# combined_cnv_info_df.to_csv(backup_path+'rare_entire_dup_info.csv')\n",
    "# np.save(backup_path+'rare_entire_dup_img', combined_img_np)\n",
    "# np.save(backup_path+'rare_entire_dup_label', combined_label)"
   ]
  },
  {
   "cell_type": "code",
   "execution_count": 30,
   "metadata": {},
   "outputs": [],
   "source": [
    "## Restore for entire del or dup\n",
    "\n",
    "# project_name = 'rare_entire_del'\n",
    "# project_name = 'rare_entire_dup'\n",
    "\n",
    "# if project_name == 'rare_entire_del' or project_name == 'rare_entire_dup':\n",
    "#     combined_img_np = np.load(backup_path + project_name + '_img.npy')\n",
    "#     combined_label = np.load(backup_path + project_name + '_label.npy')\n",
    "#     combined_cnv_info_df = pd.read_csv(backup_path+project_name+'_info.csv')"
   ]
  },
  {
   "cell_type": "code",
   "execution_count": 31,
   "metadata": {},
   "outputs": [],
   "source": [
    "## Restore for split del or dup\n",
    "\n",
    "# project_name = 'rare_split_del'\n",
    "# project_name = 'rare_split_dup'\n",
    "\n",
    "# if project_name == 'rare_split_del' or project_name == 'rare_split_dup':\n",
    "#     combined_img_np = np.load(backup_path + project_name + '_img.npy')\n",
    "#     combined_label  = np.load(backup_path + project_name + '_label.npy')\n",
    "#     try:\n",
    "#         del combined_cnv_info_df\n",
    "#     except:\n",
    "#         pass"
   ]
  },
  {
   "cell_type": "code",
   "execution_count": 32,
   "metadata": {},
   "outputs": [],
   "source": [
    "# print(\"Project: '%s' dataset loaded.\"%project_name)\n",
    "# print(\"  -- Shape of image array: \", combined_img_np.shape)\n",
    "# print(\"  -- Shape of label      : \", combined_label.shape)\n",
    "# try:\n",
    "#     print(\"  -- Shape of CNV info   : \", combined_cnv_info_df.shape)\n",
    "# except:\n",
    "#     print(\"There is no CNV info data for split del or dup.\")"
   ]
  },
  {
   "cell_type": "markdown",
   "metadata": {},
   "source": [
    "## Normalization"
   ]
  },
  {
   "cell_type": "code",
   "execution_count": 24,
   "metadata": {},
   "outputs": [
    {
     "name": "stdout",
     "output_type": "stream",
     "text": [
      "The shape of input tensor: (224, 224, 3)\n"
     ]
    }
   ],
   "source": [
    "# Find the shape of input images and create the variable input_shape\n",
    "nRows,nCols,nDims = img_np.shape[1:]\n",
    "input_shape = (nRows, nCols, nDims)\n",
    "print(\"The shape of input tensor:\",input_shape)"
   ]
  },
  {
   "cell_type": "code",
   "execution_count": 25,
   "metadata": {},
   "outputs": [],
   "source": [
    "# Change to float datatype\n",
    "img_np = img_np.astype('float32')\n",
    "\n",
    "# Scale the data to lie between 0 to 1\n",
    "img_np /= 255"
   ]
  },
  {
   "cell_type": "code",
   "execution_count": 26,
   "metadata": {},
   "outputs": [
    {
     "name": "stdout",
     "output_type": "stream",
     "text": [
      "Total number classes:  3\n"
     ]
    }
   ],
   "source": [
    "# Find the unique numbers from the train labels\n",
    "nClasses = 3\n",
    "print('Total number classes: ', nClasses)"
   ]
  },
  {
   "cell_type": "code",
   "execution_count": 36,
   "metadata": {},
   "outputs": [],
   "source": [
    "#np.where(test_label==0)"
   ]
  },
  {
   "cell_type": "code",
   "execution_count": 31,
   "metadata": {},
   "outputs": [
    {
     "name": "stdout",
     "output_type": "stream",
     "text": [
      "/home/rt2776/cnv_espresso/predict_pcgc/images/split_cnvs/22_1-02625_8_8102183_12190106_NA_DUP_NAtgs_171wins_splits57_15.png\n"
     ]
    },
    {
     "data": {
      "image/png": "[encoded data removed]",
      "text/plain": [
       "<Figure size 432x288 with 1 Axes>"
      ]
     },
     "metadata": {
      "needs_background": "light"
     },
     "output_type": "display_data"
    }
   ],
   "source": [
    "item = random.randint(0,len(img_np))\n",
    "# print(cnv_info_df.iloc[item,:])\n",
    "print(pcgc_split_cnv_images_list[item])\n",
    "showImg(img_np[item])"
   ]
  },
  {
   "cell_type": "markdown",
   "metadata": {},
   "source": [
    "## Precision"
   ]
  },
  {
   "cell_type": "code",
   "execution_count": 32,
   "metadata": {},
   "outputs": [
    {
     "name": "stdout",
     "output_type": "stream",
     "text": [
      "Loading MobileNet_v1 ... from /home/rt2776/cnv_espresso/images_rare_3classes/data_backup/model_h5/rare_split_cnv_3classes_MobileNet_v1_3classes_fold4.h5\n"
     ]
    }
   ],
   "source": [
    "## Load pre-calculated model\n",
    "custom_objects = {\"f1_m\":f1_m, \"precision_m\":precision_m, \"recall_m\":recall_m}\n",
    "\n",
    "model_name = 'MobileNet_v1'\n",
    "# model_path = '/home/rt2776/cnv_espresso/images_rare_3classes/data_backup/model_h5/rare_entire_cnv_MobileNet_v1_fold3.h5'\n",
    "model_path = '/home/rt2776/cnv_espresso/images_rare_3classes/data_backup/model_h5/rare_split_cnv_3classes_MobileNet_v1_3classes_fold4.h5'\n",
    "print(\"Loading %s ... from %s\"%(model_name, model_path))\n",
    "MobileNet_model = keras.models.load_model(model_path, custom_objects=custom_objects)"
   ]
  },
  {
   "cell_type": "code",
   "execution_count": 33,
   "metadata": {},
   "outputs": [],
   "source": [
    "img_pred = MobileNet_model.predict(img_np)"
   ]
  },
  {
   "cell_type": "code",
   "execution_count": 34,
   "metadata": {},
   "outputs": [
    {
     "data": {
      "text/plain": [
       "array([[2.6206899e-09, 3.3603464e-03, 9.9663961e-01],\n",
       "       [2.6206899e-09, 3.3603464e-03, 9.9663961e-01],\n",
       "       [2.6206899e-09, 3.3603464e-03, 9.9663961e-01],\n",
       "       ...,\n",
       "       [2.6206899e-09, 3.3603464e-03, 9.9663961e-01],\n",
       "       [2.6206899e-09, 3.3603464e-03, 9.9663961e-01],\n",
       "       [4.8847590e-03, 4.2590988e-01, 5.6920540e-01]], dtype=float32)"
      ]
     },
     "execution_count": 34,
     "metadata": {},
     "output_type": "execute_result"
    }
   ],
   "source": [
    "img_pred"
   ]
  },
  {
   "cell_type": "code",
   "execution_count": 56,
   "metadata": {},
   "outputs": [
    {
     "name": "stdout",
     "output_type": "stream",
     "text": [
      "/home/rt2776/cnv_espresso/predict_pcgc/images/split_cnvs/44_1-01536_19_47792293_47905132_NA_DEL_NAtgs_22wins_splits7_7.png\n",
      "[0.5642458  0.43480393 0.0009502 ]\n"
     ]
    },
    {
     "data": {
      "image/png": "[encoded data removed]",
      "text/plain": [
       "<Figure size 432x288 with 1 Axes>"
      ]
     },
     "metadata": {
      "needs_background": "light"
     },
     "output_type": "display_data"
    }
   ],
   "source": [
    "# for pcgc split cnvs\n",
    "item =  883\n",
    "# print(cnv_info_df.iloc[item,:])\n",
    "print(pcgc_split_cnv_images_list[item])\n",
    "print(img_pred[item,:])\n",
    "showImg(img_np[item])\n"
   ]
  },
  {
   "cell_type": "code",
   "execution_count": null,
   "metadata": {},
   "outputs": [],
   "source": []
  },
  {
   "cell_type": "code",
   "execution_count": 35,
   "metadata": {},
   "outputs": [
    {
     "data": {
      "text/plain": [
       "(1466, 3)"
      ]
     },
     "execution_count": 35,
     "metadata": {},
     "output_type": "execute_result"
    }
   ],
   "source": [
    "[0.62885785 0.3701436  0.00099856]\n",
    "[4.2901874e-01 5.7092142e-01 5.9812079e-05]\n",
    "[6.9849491e-01 3.0136994e-01 1.3517542e-04]\n",
    "[2.5357664e-01 7.4642164e-01 1.6528876e-06]\n",
    "[0.56531954 0.43357664 0.00110377]\n",
    "[0.6552619  0.3387185  0.00601963]\n",
    "[0.5642458  0.43480393 0.0009502 ]"
   ]
  },
  {
   "cell_type": "code",
   "execution_count": 67,
   "metadata": {},
   "outputs": [
    {
     "data": {
      "text/plain": [
       "(52, 17)"
      ]
     },
     "execution_count": 67,
     "metadata": {},
     "output_type": "execute_result"
    }
   ],
   "source": [
    "pred_output_df = copy.deepcopy(cnv_info_df)\n",
    "pred_output_df.shape"
   ]
  },
  {
   "cell_type": "code",
   "execution_count": 81,
   "metadata": {},
   "outputs": [
    {
     "name": "stdout",
     "output_type": "stream",
     "text": [
      "4 classes label: 0-True del; 1-False del; 2-False dup; 3-True dup\n",
      "3 classes label: 0-True del; 1-False del; 1-False dup; 2-True dup\n"
     ]
    }
   ],
   "source": [
    "print(\"4 classes label: 0-True del; 1-False del; 2-False dup; 3-True dup\")\n",
    "print(\"3 classes label: 0-True del; 1-False del; 1-False dup; 2-True dup\")\n",
    "\n",
    "pred_output_df.insert(pred_output_df.shape[1], 'Prob_DEL', \"-\")\n",
    "pred_output_df.insert(pred_output_df.shape[1], 'Prob_DIP', \"-\")\n",
    "pred_output_df.insert(pred_output_df.shape[1], 'Prob_DUP', \"-\")\n",
    "pred_output_df.insert(pred_output_df.shape[1], 'Prediction', \"-\")\n",
    "pred_output_df.insert(pred_output_df.shape[1], 'Status', \"-\")"
   ]
  },
  {
   "cell_type": "code",
   "execution_count": 80,
   "metadata": {},
   "outputs": [],
   "source": [
    "pred_output_df['CNV_TYPE'] = pred_output_df['CNV_TYPE'].replace(1,\"DEL\")\n",
    "pred_output_df['CNV_TYPE'] = pred_output_df['CNV_TYPE'].replace(3,\"DUP\")"
   ]
  },
  {
   "cell_type": "code",
   "execution_count": 82,
   "metadata": {},
   "outputs": [],
   "source": [
    "num, correct_count = 0, 0\n",
    "for i in range(len(img_pred)):\n",
    "    num += 1\n",
    "    pred_output_df.iloc[i,pred_output_df.columns.get_loc('Prob_DEL')] = img_pred[i][0]\n",
    "    pred_output_df.iloc[i,pred_output_df.columns.get_loc('Prob_DIP')] = img_pred[i][1]\n",
    "    pred_output_df.iloc[i,pred_output_df.columns.get_loc('Prob_DUP')] = img_pred[i][2]\n",
    "\n",
    "    if(np.argmax(img_pred[i]) == 0):\n",
    "        pred_output_df.iloc[i,pred_output_df.columns.get_loc('Prediction')] = \"DEL\"\n",
    "    elif(np.argmax(img_pred[i]) == 1):\n",
    "        pred_output_df.iloc[i,pred_output_df.columns.get_loc('Prediction')] = \"DIP\"\n",
    "    elif(np.argmax(img_pred[i]) == 2):\n",
    "        pred_output_df.iloc[i,pred_output_df.columns.get_loc('Prediction')] = \"DUP\"\n",
    "    else:\n",
    "        pdb.set_trace()\n",
    "        \n",
    "    if pred_output_df.iloc[i,pred_output_df.columns.get_loc('Prediction')] == pred_output_df.iloc[i,pred_output_df.columns.get_loc('CNV_TYPE')]:\n",
    "        pred_output_df.iloc[i,pred_output_df.columns.get_loc('Status')] = \"Correct\"\n",
    "    else:\n",
    "        pred_output_df.iloc[i,pred_output_df.columns.get_loc('Status')] = \"Wrong\"\n",
    "    "
   ]
  },
  {
   "cell_type": "code",
   "execution_count": 88,
   "metadata": {},
   "outputs": [
    {
     "name": "stdout",
     "output_type": "stream",
     "text": [
      "Accuracy rate: 0.7115384615384616\n"
     ]
    }
   ],
   "source": [
    "accuracy_rate = len(pred_output_df[pred_output_df['Status'] == \"Correct\"])/len(pred_output_df)\n",
    "print(\"Accuracy rate:\",accuracy_rate)"
   ]
  },
  {
   "cell_type": "code",
   "execution_count": 89,
   "metadata": {},
   "outputs": [],
   "source": [
    "## output to file\n",
    "output_path = '/home/rt2776/cnv_espresso/predict_pcgc/'\n",
    "pred_output_df.to_csv(output_path+'pcgc_NimbleGenV2_data_prediction.csv',index=False)\n"
   ]
  },
  {
   "cell_type": "code",
   "execution_count": null,
   "metadata": {},
   "outputs": [],
   "source": [
    "# test_output_df[test_output_df['SAMPLE']=='SP0009081'] "
   ]
  },
  {
   "cell_type": "code",
   "execution_count": null,
   "metadata": {},
   "outputs": [],
   "source": [
    "# test_output_df[test_output_df['Pred_status']=='Wrong']"
   ]
  },
  {
   "cell_type": "code",
   "execution_count": null,
   "metadata": {},
   "outputs": [],
   "source": [
    "# test_output_df.index=range(len(test_output_df))"
   ]
  },
  {
   "cell_type": "code",
   "execution_count": null,
   "metadata": {},
   "outputs": [],
   "source": [
    "# #i=random.randrange(len(test_img))\n",
    "# i=random.choice(test_output_df[test_output_df['Pred_status']=='Wrong'].index)\n",
    "# showImg(test_img[i]), \n",
    "# print(test_label[i], test_pred[i],  test_output_df.iloc[i,:])"
   ]
  },
  {
   "cell_type": "markdown",
   "metadata": {},
   "source": [
    "### Predict specific images"
   ]
  },
  {
   "cell_type": "code",
   "execution_count": null,
   "metadata": {},
   "outputs": [],
   "source": [
    "# # ## For splited rare duplications\n",
    "# true_file  = '/home/rt2776/cnv_espresso/images_rare/data_backup/true_rare_dup_splits.list'\n",
    "# false_file = '/home/rt2776/cnv_espresso/images_rare/data_backup/false_rare_dup_splits.list'"
   ]
  },
  {
   "cell_type": "code",
   "execution_count": null,
   "metadata": {},
   "outputs": [],
   "source": [
    "# true_cnv_df  = pd.read_csv(true_file,  header=None,sep='\\t')\n",
    "# false_cnv_df = pd.read_csv(false_file, header=None,sep='\\t')"
   ]
  },
  {
   "cell_type": "code",
   "execution_count": null,
   "metadata": {},
   "outputs": [],
   "source": [
    "# true_cnv_df.columns = ['image_path']\n",
    "# false_cnv_df.columns = ['image_path']"
   ]
  },
  {
   "cell_type": "code",
   "execution_count": null,
   "metadata": {},
   "outputs": [],
   "source": [
    "# #specific_images_path_df = false_cnv_df[false_cnv_df['image_path'].str.contains('SP0009081')]\n",
    "# specific_images_path_df = true_cnv_df[true_cnv_df['image_path'].str.contains('SP0077668_2_172795024')]\n",
    "# specific_images_path_list = specific_images_path_df['image_path']\n",
    "# specific_images_path_list"
   ]
  },
  {
   "cell_type": "code",
   "execution_count": null,
   "metadata": {},
   "outputs": [],
   "source": [
    "# img_width, img_height = 224, 224\n",
    "# specific_img_np = loadImgs(specific_images_path_list, img_width, img_height)"
   ]
  },
  {
   "cell_type": "code",
   "execution_count": null,
   "metadata": {},
   "outputs": [],
   "source": [
    "# specific_img_np.shape"
   ]
  },
  {
   "cell_type": "code",
   "execution_count": null,
   "metadata": {},
   "outputs": [],
   "source": [
    "# specific_img_np = specific_img_np.astype('float32')\n",
    "# specific_img_np /= 255"
   ]
  },
  {
   "cell_type": "code",
   "execution_count": null,
   "metadata": {},
   "outputs": [],
   "source": [
    "# showImg(specific_img_np[2])"
   ]
  },
  {
   "cell_type": "code",
   "execution_count": null,
   "metadata": {},
   "outputs": [],
   "source": [
    "# MobileNet_model.predict(specific_img_np)"
   ]
  },
  {
   "cell_type": "code",
   "execution_count": null,
   "metadata": {},
   "outputs": [],
   "source": [
    "# np.argmax(MobileNet_model.predict(specific_img_np)[2])"
   ]
  },
  {
   "cell_type": "markdown",
   "metadata": {},
   "source": [
    "### TODO:\n",
    "- Check the performance on different size categories on test data firstly and by k-fold cross validation secondly. "
   ]
  },
  {
   "cell_type": "markdown",
   "metadata": {},
   "source": [
    "## Reference:\n",
    "- Load image: https://keras.io/api/preprocessing/image/#load_img-function\n",
    "- Model example: https://towardsdatascience.com/covolutional-neural-network-cb0883dd6529\n",
    "- Transfer learning and toy demo: https://zhuanlan.zhihu.com/p/51889181\n",
    "- K-fold validation: https://medium.com/the-owl/k-fold-cross-validation-in-keras-3ec4a3a00538\n",
    "- ROC curve: https://medium.com/hackernoon/simple-guide-on-how-to-generate-roc-plot-for-keras-classifier-2ecc6c73115a"
   ]
  }
 ],
 "metadata": {
  "kernelspec": {
   "display_name": "Python 3",
   "language": "python",
   "name": "python3"
  },
  "language_info": {
   "codemirror_mode": {
    "name": "ipython",
    "version": 3
   },
   "file_extension": ".py",
   "mimetype": "text/x-python",
   "name": "python",
   "nbconvert_exporter": "python",
   "pygments_lexer": "ipython3",
   "version": "3.8.3"
  }
 },
 "nbformat": 4,
 "nbformat_minor": 4
}
