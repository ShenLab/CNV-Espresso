{
 "cells": [
  {
   "cell_type": "markdown",
   "metadata": {},
   "source": [
    "# CNN Prediction"
   ]
  },
  {
   "cell_type": "code",
   "execution_count": 96,
   "metadata": {},
   "outputs": [
    {
     "name": "stdout",
     "output_type": "stream",
     "text": [
      "Tensorflow version 2.2.0\n"
     ]
    }
   ],
   "source": [
    "import os\n",
    "import re\n",
    "import copy\n",
    "import random\n",
    "import datetime\n",
    "import tensorflow as tf\n",
    "print(\"Tensorflow version \" + tf.__version__)\n",
    "import pandas as pd\n",
    "\n",
    "import PIL\n",
    "import numpy as np\n",
    "from matplotlib import pyplot as plt\n",
    "from sklearn.model_selection import train_test_split\n",
    "from sklearn.metrics import roc_curve\n",
    "from sklearn.metrics import auc\n",
    "import sklearn\n",
    "\n",
    "from __future__ import print_function\n",
    "import keras\n",
    "import keras.preprocessing\n",
    "from keras.models import Sequential\n",
    "from keras.utils import to_categorical\n",
    "from keras.layers import Dense, Conv2D, MaxPooling2D, Dropout, Flatten\n",
    "from keras.models import load_model\n",
    "from keras.callbacks import EarlyStopping\n",
    "from keras.callbacks import ModelCheckpoint"
   ]
  },
  {
   "cell_type": "code",
   "execution_count": 11,
   "metadata": {},
   "outputs": [
    {
     "data": {
      "text/plain": [
       "[PhysicalDevice(name='/physical_device:GPU:0', device_type='GPU')]"
      ]
     },
     "execution_count": 11,
     "metadata": {},
     "output_type": "execute_result"
    }
   ],
   "source": [
    "os.environ['CUDA_VISIBLE_DEVICES'] = \"1\"\n",
    "physical_devices = tf.config.experimental.list_physical_devices('GPU') \n",
    "physical_devices"
   ]
  },
  {
   "cell_type": "markdown",
   "metadata": {},
   "source": [
    "# Functions"
   ]
  },
  {
   "cell_type": "code",
   "execution_count": 12,
   "metadata": {},
   "outputs": [],
   "source": [
    "def fileToList(file_name):\n",
    "    result_list = [] \n",
    "    fp = open(file_name)\n",
    "    for row in fp:\n",
    "        row = row.strip()\n",
    "        row = row.replace(\"\\\"\",\"\")\n",
    "        row = re.split('\\t',row)\n",
    "        #row = re.split(r'[;,\\s]\\s*', row)\n",
    "        result_list.append(row)\n",
    "    fp.close()  \n",
    "    return result_list "
   ]
  },
  {
   "cell_type": "code",
   "execution_count": 13,
   "metadata": {},
   "outputs": [],
   "source": [
    "def showImg(img_data):\n",
    "    if type(img_data) is list:\n",
    "        image = tf.keras.preprocessing.image.load_img(img_data)\n",
    "        plt.imshow(image)\n",
    "    if type(img_data) is np.ndarray:\n",
    "        image = tf.keras.preprocessing.image.array_to_img(img_data)\n",
    "        plt.imshow(image)"
   ]
  },
  {
   "cell_type": "code",
   "execution_count": 14,
   "metadata": {},
   "outputs": [],
   "source": [
    "def resizeCropImg(img_file, target_width, target_height):\n",
    "    image = tf.keras.preprocessing.image.load_img(img_file)\n",
    "    width, height = image.size\n",
    "    left   = width*0.13\n",
    "    top    = height*0.13\n",
    "    right  = width*0.87\n",
    "    bottom = height*0.87\n",
    "    image = image.crop((left, top, right, bottom))\n",
    "    image = image.resize((target_width, target_height))\n",
    "    return image"
   ]
  },
  {
   "cell_type": "code",
   "execution_count": 15,
   "metadata": {},
   "outputs": [],
   "source": [
    "def loadImgs(cnv_list, img_width, img_height):\n",
    "    cnv_np = np.zeros((len(cnv_list), img_width, img_height, 3))\n",
    "    for index, each_cnv in enumerate(cnv_list):\n",
    "        if index % 1000 == 1:\n",
    "            time_stamp = datetime.datetime.now()\n",
    "            time_str   = time_stamp.strftime('%Y.%m.%d-%H:%M:%S')\n",
    "            print(\"[%s] Processing %d ...\"%(time_str, index))\n",
    "        cnv_img = resizeCropImg(each_cnv, img_width, img_height)\n",
    "        cnv_np[index] = tf.keras.preprocessing.image.img_to_array(cnv_img)\n",
    "    time_stamp = datetime.datetime.now()\n",
    "    time_str   = time_stamp.strftime('%Y.%m.%d-%H:%M:%S')\n",
    "    print(\"[%s] Done %d.\"%(time_str, index))\n",
    "    return cnv_np"
   ]
  },
  {
   "cell_type": "code",
   "execution_count": 16,
   "metadata": {},
   "outputs": [],
   "source": [
    "def pred_roc_data(model, img, label_one_hot):\n",
    "    pred_keras = model.predict(img).ravel() # ravel(): Flatten the array\n",
    "    fpr_keras, tpr_keras, thresholds_keras = roc_curve(label_one_hot.ravel(), pred_keras) \n",
    "    auc_keras = auc(fpr_keras, tpr_keras)\n",
    "    return fpr_keras, tpr_keras, auc_keras"
   ]
  },
  {
   "cell_type": "markdown",
   "metadata": {},
   "source": [
    "# Processing"
   ]
  },
  {
   "cell_type": "code",
   "execution_count": null,
   "metadata": {},
   "outputs": [],
   "source": [
    "img_width, img_height = 224, 224"
   ]
  },
  {
   "cell_type": "code",
   "execution_count": null,
   "metadata": {},
   "outputs": [],
   "source": [
    "# ## For rare deletions\n",
    "# true_file = '/home/rt2776/cnv_espresso/images_rare/true_del_image_info.list'\n",
    "# false_file = '/home/rt2776/cnv_espresso/images_rare/false_del_image_info.list'"
   ]
  },
  {
   "cell_type": "code",
   "execution_count": null,
   "metadata": {},
   "outputs": [],
   "source": [
    "# ## For rare duplications\n",
    "# true_file = '/home/rt2776/cnv_espresso/images_rare/true_dup_image_info.list'\n",
    "# false_file = '/home/rt2776/cnv_espresso/images_rare/false_dup_image_info.list'"
   ]
  },
  {
   "cell_type": "code",
   "execution_count": null,
   "metadata": {},
   "outputs": [],
   "source": [
    "# ## For splited rare deletions\n",
    "# true_file  = '/home/rt2776/cnv_espresso/images_rare/data_backup/true_rare_del_splits.list'\n",
    "# false_file = '/home/rt2776/cnv_espresso/images_rare/data_backup/false_rare_del_splits.list'"
   ]
  },
  {
   "cell_type": "code",
   "execution_count": null,
   "metadata": {},
   "outputs": [],
   "source": [
    "# ## For splited rare duplications\n",
    "# true_file  = '/home/rt2776/cnv_espresso/images_rare/data_backup/true_rare_dup_splits.list'\n",
    "# false_file = '/home/rt2776/cnv_espresso/images_rare/data_backup/false_rare_dup_splits.list'"
   ]
  },
  {
   "cell_type": "markdown",
   "metadata": {},
   "source": [
    "### Loading cnv image file paths to list"
   ]
  },
  {
   "cell_type": "code",
   "execution_count": null,
   "metadata": {},
   "outputs": [],
   "source": [
    "# true_cnv_df  = pd.read_csv(true_file,  header=0,sep='\\t')\n",
    "# false_cnv_df = pd.read_csv(false_file, header=0,sep='\\t')"
   ]
  },
  {
   "cell_type": "code",
   "execution_count": null,
   "metadata": {},
   "outputs": [],
   "source": [
    "# true_images_path_list  = true_cnv_df['image_path']\n",
    "# false_images_path_list = false_cnv_df['image_path']"
   ]
  },
  {
   "cell_type": "code",
   "execution_count": null,
   "metadata": {},
   "outputs": [],
   "source": [
    "## For file with image path only:\n",
    "\n",
    "# true_list = [each_file[0] for each_file in fileToList(true_file)]\n",
    "# false_list = [each_file[0] for each_file in fileToList(false_file)]\n",
    "# len(true_list), len(false_list)"
   ]
  },
  {
   "cell_type": "markdown",
   "metadata": {},
   "source": [
    "### Loading images from list to numpy array"
   ]
  },
  {
   "cell_type": "code",
   "execution_count": null,
   "metadata": {},
   "outputs": [],
   "source": [
    "# false_img_np = loadImgs(false_images_path_list, img_width, img_height)\n",
    "# false_img_np.shape"
   ]
  },
  {
   "cell_type": "code",
   "execution_count": null,
   "metadata": {},
   "outputs": [],
   "source": [
    "# true_img_np = loadImgs(true_images_path_list, img_width, img_height)\n",
    "# true_img_np.shape"
   ]
  },
  {
   "cell_type": "markdown",
   "metadata": {},
   "source": [
    "### Generage labels"
   ]
  },
  {
   "cell_type": "code",
   "execution_count": null,
   "metadata": {},
   "outputs": [],
   "source": [
    "# true_label = [1 for i in range(0,len(true_img_np))]\n",
    "# false_label = [0 for i in range(0,len(false_img_np))]\n",
    "# print(true_label[0:5], false_label[0:5])\n",
    "# print(len(true_label), len(false_label))"
   ]
  },
  {
   "cell_type": "markdown",
   "metadata": {},
   "source": [
    "### Combine true & false data"
   ]
  },
  {
   "cell_type": "code",
   "execution_count": null,
   "metadata": {},
   "outputs": [],
   "source": [
    "# combined_cnv_info_df = true_cnv_df.append(false_cnv_df, ignore_index=True)\n",
    "# #combined_cnv_info_index = list(range(len(combined_cnv_info_df)))\n",
    "# combined_img_np = np.vstack((true_img_np, false_img_np))\n",
    "# combined_label = true_label + false_label"
   ]
  },
  {
   "cell_type": "code",
   "execution_count": null,
   "metadata": {},
   "outputs": [],
   "source": [
    "# combined_cnv_info_df.shape, true_cnv_df.shape, false_cnv_df.shape"
   ]
  },
  {
   "cell_type": "markdown",
   "metadata": {},
   "source": [
    "### Backup or restore"
   ]
  },
  {
   "cell_type": "code",
   "execution_count": 17,
   "metadata": {},
   "outputs": [],
   "source": [
    "backup_path = '/home/rt2776/cnv_espresso/images_rare/data_backup/'\n",
    "# os.makedirs(backup_path, exist_ok=True)"
   ]
  },
  {
   "cell_type": "code",
   "execution_count": null,
   "metadata": {},
   "outputs": [],
   "source": [
    "## Backup\n",
    "\n",
    "# project_name = 'rare_entire_del'\n",
    "# combined_cnv_info_df.to_csv(backup_path+'rare_del_entire_cnv_info.csv')\n",
    "# np.save(backup_path+'rare_del_entire_img', combined_img_np)\n",
    "# np.save(backup_path+'rare_del_entire_label', combined_label)\n",
    "\n",
    "# project_name = 'rare_entire_dup'\n",
    "# combined_cnv_info_df.to_csv(backup_path+'rare_entire_dup_info.csv')\n",
    "# np.save(backup_path+'rare_entire_dup_img', combined_img_np)\n",
    "# np.save(backup_path+'rare_entire_dup_label', combined_label)"
   ]
  },
  {
   "cell_type": "code",
   "execution_count": null,
   "metadata": {},
   "outputs": [],
   "source": [
    "## Restore for entire del or dup\n",
    "\n",
    "# project_name = 'rare_entire_del'\n",
    "# project_name = 'rare_entire_dup'\n",
    "\n",
    "if project_name == 'rare_entire_del' or project_name == 'rare_entire_dup':\n",
    "    combined_img_np = np.load(backup_path + project_name + '_img.npy')\n",
    "    combined_label = np.load(backup_path + project_name + '_label.npy')\n",
    "    combined_cnv_info_df = pd.read_csv(backup_path+project_name+'_info.csv')"
   ]
  },
  {
   "cell_type": "code",
   "execution_count": 18,
   "metadata": {},
   "outputs": [],
   "source": [
    "## Restore for split del or dup\n",
    "\n",
    "# project_name = 'rare_split_del'\n",
    "project_name = 'rare_split_dup'\n",
    "\n",
    "if project_name == 'rare_split_del' or project_name == 'rare_split_dup':\n",
    "    combined_img_np = np.load(backup_path + project_name + '_img.npy')\n",
    "    combined_label  = np.load(backup_path + project_name + '_label.npy')\n",
    "    try:\n",
    "        del combined_cnv_info_df\n",
    "    except:\n",
    "        pass"
   ]
  },
  {
   "cell_type": "code",
   "execution_count": 19,
   "metadata": {},
   "outputs": [
    {
     "name": "stdout",
     "output_type": "stream",
     "text": [
      "Project: 'rare_split_dup' dataset loaded.\n",
      "  -- Shape of image array:  (72896, 224, 224, 3)\n",
      "  -- Shape of label      :  (72896,)\n",
      "There is no CNV info data for split del or dup.\n"
     ]
    }
   ],
   "source": [
    "print(\"Project: '%s' dataset loaded.\"%project_name)\n",
    "print(\"  -- Shape of image array: \", combined_img_np.shape)\n",
    "print(\"  -- Shape of label      : \", combined_label.shape)\n",
    "try:\n",
    "    print(\"  -- Shape of CNV info   : \", combined_cnv_info_df.shape)\n",
    "except:\n",
    "    print(\"There is no CNV info data for split del or dup.\")"
   ]
  },
  {
   "cell_type": "markdown",
   "metadata": {},
   "source": [
    "## Normalization"
   ]
  },
  {
   "cell_type": "code",
   "execution_count": null,
   "metadata": {},
   "outputs": [],
   "source": [
    "# Find the shape of input images and create the variable input_shape\n",
    "nRows,nCols,nDims = train_img.shape[1:]\n",
    "input_shape = (nRows, nCols, nDims)\n",
    "print(\"The shape of input tensor:\",input_shape)"
   ]
  },
  {
   "cell_type": "code",
   "execution_count": null,
   "metadata": {},
   "outputs": [],
   "source": [
    "# Change to float datatype\n",
    "train_img = train_img.astype('float32')\n",
    "val_img   = val_img.astype('float32')\n",
    "test_img  = test_img.astype('float32')\n",
    "\n",
    "# Scale the data to lie between 0 to 1\n",
    "train_img /= 255\n",
    "val_img   /= 255\n",
    "test_img  /= 255\n",
    "\n",
    "# Change the labels from integer to categorical data\n",
    "train_labels_one_hot = to_categorical(train_label)\n",
    "val_labels_one_hot   = to_categorical(val_label)\n",
    "test_labels_one_hot  = to_categorical(test_label)"
   ]
  },
  {
   "cell_type": "code",
   "execution_count": null,
   "metadata": {},
   "outputs": [],
   "source": [
    "# Find the unique numbers from the train labels\n",
    "classes = np.unique(train_label)\n",
    "nClasses = len(classes)\n",
    "print('Total number of outputs : ', nClasses)\n",
    "print('Output classes : ', classes)"
   ]
  },
  {
   "cell_type": "code",
   "execution_count": null,
   "metadata": {},
   "outputs": [],
   "source": [
    "#np.where(test_label==0)"
   ]
  },
  {
   "cell_type": "code",
   "execution_count": null,
   "metadata": {},
   "outputs": [],
   "source": [
    "item = random.randint(0,len(train_label))\n",
    "print(train_label[item])\n",
    "showImg(train_img[item])"
   ]
  },
  {
   "cell_type": "markdown",
   "metadata": {},
   "source": [
    "### ROC curve"
   ]
  },
  {
   "cell_type": "code",
   "execution_count": 20,
   "metadata": {},
   "outputs": [
    {
     "name": "stdout",
     "output_type": "stream",
     "text": [
      "rare_split_dup\n"
     ]
    }
   ],
   "source": [
    "print(project_name)"
   ]
  },
  {
   "cell_type": "code",
   "execution_count": 21,
   "metadata": {},
   "outputs": [],
   "source": [
    "## Load pre-calculated model\n",
    "model_path  = '/home/rt2776/cnv_espresso/model_h5/'\n",
    "\n",
    "common_cnn_model_path = model_path + project_name + '_model.h5'\n",
    "common_cnn_model = keras.models.load_model(common_cnn_model_path)\n",
    "\n",
    "MobileNet_model_path = model_path + project_name + '_MobileNet_v1.h5'\n",
    "MobileNet_model = keras.models.load_model(MobileNet_model_path)\n",
    "\n",
    "ResNet50_model_path = model_path + project_name + '_ResNet50.h5'\n",
    "ResNet50_model = keras.models.load_model(ResNet50_model_path)"
   ]
  },
  {
   "cell_type": "code",
   "execution_count": null,
   "metadata": {},
   "outputs": [],
   "source": [
    "MobileNet_model.evaluate(test_img, test_labels_one_hot)"
   ]
  },
  {
   "cell_type": "code",
   "execution_count": null,
   "metadata": {},
   "outputs": [],
   "source": [
    "common_cnn_model.evaluate(test_img, test_labels_one_hot)"
   ]
  },
  {
   "cell_type": "code",
   "execution_count": null,
   "metadata": {},
   "outputs": [],
   "source": [
    "fpr_MobileNet, tpr_MobileNet, auc_MobileNet = pred_roc_data(MobileNet_model, test_img, test_labels_one_hot)\n",
    "fpr_ResNet50,  tpr_ResNet50,  auc_ResNet50  = pred_roc_data(ResNet50_model,  test_img, test_labels_one_hot)\n",
    "fpr_common_cnn,tpr_common_cnn,auc_common_cnn= pred_roc_data(common_cnn_model,test_img, test_labels_one_hot)"
   ]
  },
  {
   "cell_type": "code",
   "execution_count": null,
   "metadata": {},
   "outputs": [],
   "source": [
    "plt.figure(1) #,dpi=300\n",
    "plt.tick_params(labelsize=\"x-large\")\n",
    "plt.plot([0, 1], [0, 1], 'k--')\n",
    "plt.plot(fpr_MobileNet, tpr_MobileNet, label='MobileNet_v1(area = {:.3f})'.format(auc_MobileNet))\n",
    "plt.plot(fpr_ResNet50,  tpr_ResNet50,  label='ResNet50 (area = {:.3f})'.format(auc_ResNet50))\n",
    "plt.plot(fpr_common_cnn,tpr_common_cnn,label='Common CNN (area = {:.3f})'.format(auc_common_cnn))\n",
    "plt.xlabel('False positive rate',fontsize=\"xx-large\")\n",
    "plt.ylabel('True positive rate',fontsize=\"xx-large\")\n",
    "plt.title('ROC curve',fontsize=\"xx-large\")\n",
    "plt.legend(loc='best',fontsize=\"large\")\n",
    "plt.show()\n",
    "# Zoom in view of the upper left corner.\n",
    "plt.figure(2)\n",
    "plt.tick_params(labelsize=\"x-large\")\n",
    "plt.xlim(0, 0.3)\n",
    "plt.ylim(0.7, 1)\n",
    "plt.plot([0, 1], [0, 1], 'k--')\n",
    "plt.plot(fpr_MobileNet, tpr_MobileNet, label='MobileNet_v1(area = {:.3f})'.format(auc_MobileNet))\n",
    "plt.plot(fpr_ResNet50,  tpr_ResNet50,  label='ResNet50 (area = {:.3f})'.format(auc_ResNet50))\n",
    "plt.plot(fpr_common_cnn,tpr_common_cnn,label='Common CNN (area = {:.3f})'.format(auc_common_cnn))\n",
    "plt.xlabel('False positive rate',fontsize=\"xx-large\")\n",
    "plt.ylabel('True positive rate',fontsize=\"xx-large\")\n",
    "plt.title('ROC curve (zoomed in at top left)',fontsize=\"xx-large\")\n",
    "plt.legend(loc='best',fontsize=\"large\")\n",
    "plt.show()"
   ]
  },
  {
   "cell_type": "markdown",
   "metadata": {},
   "source": [
    "## Precision"
   ]
  },
  {
   "cell_type": "code",
   "execution_count": null,
   "metadata": {},
   "outputs": [],
   "source": [
    "model_name = \"common_cnn\"\n",
    "model = common_cnn_model\n",
    "\n",
    "# model_name = \"MobileNet\"\n",
    "# model = MobileNet_model\n",
    "\n",
    "# model = ResNet50_model"
   ]
  },
  {
   "cell_type": "code",
   "execution_count": null,
   "metadata": {},
   "outputs": [],
   "source": [
    "test_pred = model.predict(test_img)"
   ]
  },
  {
   "cell_type": "code",
   "execution_count": null,
   "metadata": {},
   "outputs": [],
   "source": [
    "test_output_df = copy.deepcopy(test_cnv_info_df)\n",
    "test_output_df.shape"
   ]
  },
  {
   "cell_type": "code",
   "execution_count": null,
   "metadata": {},
   "outputs": [],
   "source": [
    "test_output_df.insert(test_output_df.shape[1], 'Prob_True', \"\")\n",
    "test_output_df.insert(test_output_df.shape[1], 'Prob_False', \"\")\n",
    "test_output_df.insert(test_output_df.shape[1], 'Prediction', \"\")\n",
    "test_output_df.insert(test_output_df.shape[1], 'Pred_status', \"\")"
   ]
  },
  {
   "cell_type": "code",
   "execution_count": null,
   "metadata": {},
   "outputs": [],
   "source": [
    "test_output_df.shape,test_pred.shape, test_cnv_info_df.shape, len(test_cnv_info_df), test_img.shape"
   ]
  },
  {
   "cell_type": "code",
   "execution_count": null,
   "metadata": {},
   "outputs": [],
   "source": [
    "num, correct_count = 0, 0\n",
    "for i in range(len(test_pred)):\n",
    "    num += 1\n",
    "    test_output_df.iloc[i,test_output_df.columns.get_loc('Prob_False')] = test_pred[i][0]\n",
    "    test_output_df.iloc[i,test_output_df.columns.get_loc('Prob_True')] = test_pred[i][1]\n",
    "\n",
    "    if(np.argmax(test_pred[i]) == 0):\n",
    "        test_output_df.iloc[i,test_output_df.columns.get_loc('Prediction')] = \"Negative\"\n",
    "    else:\n",
    "        test_output_df.iloc[i,test_output_df.columns.get_loc('Prediction')] = \"Positive\"\n",
    "        \n",
    "    if(np.argmax(test_pred[i]) == test_label[i]):\n",
    "        test_output_df.iloc[i,test_output_df.columns.get_loc('Pred_status')] = \"Correct\"\n",
    "        correct_count += 1\n",
    "    else:\n",
    "        test_output_df.iloc[i,test_output_df.columns.get_loc('Pred_status')] = \"Wrong\"\n",
    "#     print(num, test_pred[i], test_label[i], pred_status)\n",
    "score = correct_count/len(test_pred)\n",
    "print('Accuracy for testing data: %.2f%s' % (score*100,'%'))"
   ]
  },
  {
   "cell_type": "code",
   "execution_count": null,
   "metadata": {},
   "outputs": [],
   "source": [
    "## output to file\n",
    "output_path = '/home/rt2776/cnv_espresso/output/'\n",
    "test_output_df.to_csv(output_path+project_name+'_'+model_name +'_test_predict_info.csv',index=False)"
   ]
  },
  {
   "cell_type": "code",
   "execution_count": null,
   "metadata": {},
   "outputs": [],
   "source": [
    "test_output_df[test_output_df['Pred_status']=='Wrong']"
   ]
  },
  {
   "cell_type": "code",
   "execution_count": null,
   "metadata": {},
   "outputs": [],
   "source": [
    "test_output_df[test_output_df['SAMPLE']=='SP0009081'] "
   ]
  },
  {
   "cell_type": "code",
   "execution_count": null,
   "metadata": {},
   "outputs": [],
   "source": [
    "test_output_df.index=range(len(test_output_df))"
   ]
  },
  {
   "cell_type": "code",
   "execution_count": null,
   "metadata": {},
   "outputs": [],
   "source": [
    "#i=random.randrange(len(test_img))\n",
    "i=random.choice(test_output_df[test_output_df['Pred_status']=='Wrong'].index)\n",
    "showImg(test_img[i]), \n",
    "print(test_label[i], test_pred[i],  test_output_df.iloc[i,:])"
   ]
  },
  {
   "cell_type": "markdown",
   "metadata": {},
   "source": [
    "### Predict specific images"
   ]
  },
  {
   "cell_type": "code",
   "execution_count": 41,
   "metadata": {},
   "outputs": [],
   "source": [
    "# ## For splited rare duplications\n",
    "true_file  = '/home/rt2776/cnv_espresso/images_rare/data_backup/true_rare_dup_splits.list'\n",
    "false_file = '/home/rt2776/cnv_espresso/images_rare/data_backup/false_rare_dup_splits.list'"
   ]
  },
  {
   "cell_type": "code",
   "execution_count": 59,
   "metadata": {},
   "outputs": [],
   "source": [
    "true_cnv_df  = pd.read_csv(true_file,  header=None,sep='\\t')\n",
    "false_cnv_df = pd.read_csv(false_file, header=None,sep='\\t')"
   ]
  },
  {
   "cell_type": "code",
   "execution_count": 90,
   "metadata": {},
   "outputs": [],
   "source": [
    "true_cnv_df.columns = ['image_path']\n",
    "false_cnv_df.columns = ['image_path']"
   ]
  },
  {
   "cell_type": "code",
   "execution_count": 148,
   "metadata": {},
   "outputs": [
    {
     "data": {
      "text/plain": [
       "36990    /home/rt2776/cnv_espresso/images_rare/true_dup...\n",
       "37004    /home/rt2776/cnv_espresso/images_rare/true_dup...\n",
       "37014    /home/rt2776/cnv_espresso/images_rare/true_dup...\n",
       "Name: image_path, dtype: object"
      ]
     },
     "execution_count": 148,
     "metadata": {},
     "output_type": "execute_result"
    }
   ],
   "source": [
    "#specific_images_path_df = false_cnv_df[false_cnv_df['image_path'].str.contains('SP0009081')]\n",
    "specific_images_path_df = true_cnv_df[true_cnv_df['image_path'].str.contains('SP0077668_2_172795024')]\n",
    "specific_images_path_list = specific_images_path_df['image_path']\n",
    "specific_images_path_list"
   ]
  },
  {
   "cell_type": "code",
   "execution_count": 149,
   "metadata": {},
   "outputs": [
    {
     "name": "stdout",
     "output_type": "stream",
     "text": [
      "[2021.02.03-08:30:11] Processing 1 ...\n",
      "[2021.02.03-08:30:11] Done 2.\n"
     ]
    }
   ],
   "source": [
    "img_width, img_height = 224, 224\n",
    "specific_img_np = loadImgs(specific_images_path_list, img_width, img_height)"
   ]
  },
  {
   "cell_type": "code",
   "execution_count": 150,
   "metadata": {},
   "outputs": [
    {
     "data": {
      "text/plain": [
       "(3, 224, 224, 3)"
      ]
     },
     "execution_count": 150,
     "metadata": {},
     "output_type": "execute_result"
    }
   ],
   "source": [
    "specific_img_np.shape"
   ]
  },
  {
   "cell_type": "code",
   "execution_count": 151,
   "metadata": {},
   "outputs": [],
   "source": [
    "specific_img_np = specific_img_np.astype('float32')\n",
    "specific_img_np /= 255"
   ]
  },
  {
   "cell_type": "code",
   "execution_count": 154,
   "metadata": {},
   "outputs": [
    {
     "data": {
      "image/png": "[encoded data removed]",
      "text/plain": [
       "<Figure size 432x288 with 1 Axes>"
      ]
     },
     "metadata": {
      "needs_background": "light"
     },
     "output_type": "display_data"
    }
   ],
   "source": [
    "showImg(specific_img_np[2])"
   ]
  },
  {
   "cell_type": "code",
   "execution_count": 155,
   "metadata": {},
   "outputs": [
    {
     "data": {
      "text/plain": [
       "array([[0.42545325, 0.57454675],\n",
       "       [0.4008454 , 0.5991546 ],\n",
       "       [0.40723342, 0.59276664]], dtype=float32)"
      ]
     },
     "execution_count": 155,
     "metadata": {},
     "output_type": "execute_result"
    }
   ],
   "source": [
    "MobileNet_model.predict(specific_img_np)"
   ]
  },
  {
   "cell_type": "code",
   "execution_count": 158,
   "metadata": {},
   "outputs": [
    {
     "data": {
      "text/plain": [
       "1"
      ]
     },
     "execution_count": 158,
     "metadata": {},
     "output_type": "execute_result"
    }
   ],
   "source": [
    "np.argmax(MobileNet_model.predict(specific_img_np)[2])"
   ]
  },
  {
   "cell_type": "markdown",
   "metadata": {},
   "source": [
    "### TODO:\n",
    "- Check the performance on different size categories on test data firstly and by k-fold cross validation secondly. "
   ]
  },
  {
   "cell_type": "markdown",
   "metadata": {},
   "source": [
    "## Reference:\n",
    "- Load image: https://keras.io/api/preprocessing/image/#load_img-function\n",
    "- Model example: https://towardsdatascience.com/covolutional-neural-network-cb0883dd6529\n",
    "- Transfer learning and toy demo: https://zhuanlan.zhihu.com/p/51889181\n",
    "- K-fold validation: https://medium.com/the-owl/k-fold-cross-validation-in-keras-3ec4a3a00538\n",
    "- ROC curve: https://medium.com/hackernoon/simple-guide-on-how-to-generate-roc-plot-for-keras-classifier-2ecc6c73115a"
   ]
  },
  {
   "cell_type": "code",
   "execution_count": null,
   "metadata": {},
   "outputs": [],
   "source": []
  }
 ],
 "metadata": {
  "kernelspec": {
   "display_name": "Python 3",
   "language": "python",
   "name": "python3"
  },
  "language_info": {
   "codemirror_mode": {
    "name": "ipython",
    "version": 3
   },
   "file_extension": ".py",
   "mimetype": "text/x-python",
   "name": "python",
   "nbconvert_exporter": "python",
   "pygments_lexer": "ipython3",
   "version": "3.8.3"
  }
 },
 "nbformat": 4,
 "nbformat_minor": 4
}
