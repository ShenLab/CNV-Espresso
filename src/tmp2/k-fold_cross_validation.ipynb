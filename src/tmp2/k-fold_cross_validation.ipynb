{
 "cells": [
  {
   "cell_type": "code",
   "execution_count": 68,
   "metadata": {},
   "outputs": [],
   "source": [
    "from sklearn.model_selection import KFold,StratifiedKFold\n",
    "import numpy as np\n",
    "import random"
   ]
  },
  {
   "cell_type": "markdown",
   "metadata": {},
   "source": [
    "## K-fold cross validation"
   ]
  },
  {
   "cell_type": "code",
   "execution_count": 82,
   "metadata": {},
   "outputs": [
    {
     "data": {
      "text/plain": [
       "array(['y', '$', 't', ..., '&', 'c', '^'], dtype='<U1')"
      ]
     },
     "execution_count": 82,
     "metadata": {},
     "output_type": "execute_result"
    }
   ],
   "source": [
    "#inputs = np.arange(100)\n",
    "inputs = []\n",
    "for i in range(6169):\n",
    "    inputs.append(random.choice('abcdefghijklmnopqrstuvwxyz!@#$%^&*()'))\n",
    "inputs = np.array(inputs)\n",
    "inputs"
   ]
  },
  {
   "cell_type": "code",
   "execution_count": 93,
   "metadata": {},
   "outputs": [
    {
     "data": {
      "text/plain": [
       "(array([0, 1, 0, ..., 0, 1, 0]), 6169)"
      ]
     },
     "execution_count": 93,
     "metadata": {},
     "output_type": "execute_result"
    }
   ],
   "source": [
    "labels = np.array([0,1]*(10000))[0:6169]\n",
    "labels,len(labels)"
   ]
  },
  {
   "cell_type": "code",
   "execution_count": 89,
   "metadata": {},
   "outputs": [],
   "source": [
    "num_folds = 5\n",
    "seed = 3\n",
    "# Define the K-fold Cross Validator\n",
    "kfold = KFold(n_splits=num_folds, shuffle=True)\n",
    "#kfold = StratifiedKFold(n_splits=num_folds, shuffle=True, random_state=seed)"
   ]
  },
  {
   "cell_type": "markdown",
   "metadata": {},
   "source": [
    "Note: train_ix, test_ix are the *in是inputs分出train和test"
   ]
  },
  {
   "cell_type": "code",
   "execution_count": 94,
   "metadata": {},
   "outputs": [
    {
     "name": "stdout",
     "output_type": "stream",
     "text": [
      "------------------------------------------------------------------------\n",
      "Training for fold 1 ...\n",
      "Num of training:4935 with 4935 lables\n",
      "Num of testing:1234\n",
      "------------------------------------------------------------------------\n",
      "Training for fold 2 ...\n",
      "Num of training:4935 with 4935 lables\n",
      "Num of testing:1234\n",
      "------------------------------------------------------------------------\n",
      "Training for fold 3 ...\n",
      "Num of training:4935 with 4935 lables\n",
      "Num of testing:1234\n",
      "------------------------------------------------------------------------\n",
      "Training for fold 4 ...\n",
      "Num of training:4935 with 4935 lables\n",
      "Num of testing:1234\n",
      "------------------------------------------------------------------------\n",
      "Training for fold 5 ...\n",
      "Num of training:4936 with 4936 lables\n",
      "Num of testing:1233\n"
     ]
    }
   ],
   "source": [
    "# K-fold Cross Validation model evaluation\n",
    "fold_num = 1\n",
    "for train_ix, test_ix in kfold.split(inputs, labels):\n",
    "    print('------------------------------------------------------------------------')\n",
    "    print(f'Training for fold {fold_num} ...')\n",
    "    #print(\"Training:\", inputs[train_ix], labels[train_ix])\n",
    "    print(\"Num of training:%d with %d lables\"%(len(inputs[train_ix]),len(labels[train_ix])))\n",
    "    #print(\"Testing:\", inputs[test_ix], labels[test_ix])\n",
    "    print(\"Num of testing:%d\"%len(test_ix))\n",
    "    fold_num += 1\n",
    "    "
   ]
  },
  {
   "cell_type": "code",
   "execution_count": 97,
   "metadata": {},
   "outputs": [
    {
     "data": {
      "text/plain": [
       "(3701.3999999999996, 1233.8000000000002)"
      ]
     },
     "execution_count": 97,
     "metadata": {},
     "output_type": "execute_result"
    }
   ],
   "source": [
    "6169*0.6, 6169*0.2"
   ]
  },
  {
   "cell_type": "code",
   "execution_count": null,
   "metadata": {},
   "outputs": [],
   "source": []
  }
 ],
 "metadata": {
  "kernelspec": {
   "display_name": "Python 3",
   "language": "python",
   "name": "python3"
  },
  "language_info": {
   "codemirror_mode": {
    "name": "ipython",
    "version": 3
   },
   "file_extension": ".py",
   "mimetype": "text/x-python",
   "name": "python",
   "nbconvert_exporter": "python",
   "pygments_lexer": "ipython3",
   "version": "3.8.3"
  }
 },
 "nbformat": 4,
 "nbformat_minor": 4
}
