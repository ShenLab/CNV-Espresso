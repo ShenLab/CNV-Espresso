{
 "cells": [
  {
   "cell_type": "markdown",
   "metadata": {},
   "source": [
    "# Generate images for both human eyes and in silico"
   ]
  },
  {
   "cell_type": "code",
   "execution_count": 46,
   "metadata": {},
   "outputs": [],
   "source": [
    "import function as df\n",
    "import numpy as np\n",
    "import pandas as pd\n",
    "import seaborn as sns\n",
    "import matplotlib.pyplot as plt\n",
    "import pdb\n",
    "import os\n",
    "import bz2\n",
    "import math"
   ]
  },
  {
   "cell_type": "code",
   "execution_count": 2,
   "metadata": {},
   "outputs": [],
   "source": [
    "SAMPLE      = ['SAMPLE','sample_ID']\n",
    "CNV_CHR     = ['chr', 'CHR', 'CHROMOSOME', 'chromosome']\n",
    "CNV_START   = ['cnv_start', 'start', 'PRED_START', 'START']\n",
    "CNV_END     = ['cnv_stop', 'stop', 'PRED_END', 'END']\n",
    "CNV_TYPE    = ['cnv_type','type','TYPE','CNV', 'CNV_TYPE']\n",
    "NUM_TARGETS = ['NUM_TARGETS','targets']\n",
    "CNV_LABEL   = ['LABEL_VAL','label','LABEL']"
   ]
  },
  {
   "cell_type": "markdown",
   "metadata": {},
   "source": [
    "## Data files and folders"
   ]
  },
  {
   "cell_type": "code",
   "execution_count": 53,
   "metadata": {},
   "outputs": [],
   "source": [
    "training_set_true_file  = '/home/rt2776/cnv_espresso/training_set/training_set_true.txt'\n",
    "training_set_false_file = '/home/rt2776/cnv_espresso/training_set/training_set_false.txt'\n",
    "RD_norm_dir             = '/home/rt2776/cnv_espresso/data/norm/'\n",
    "ref_samples_dir         = '/home/rt2776/cnv_espresso/reference_samples/'\n",
    "output_false_image_dir  = '/home/rt2776/cnv_espresso/images/false/'\n",
    "output_true_image_dir   = '/home/rt2776/cnv_espresso/images/true/'\n",
    "output_false_image_splits_dir  = '/home/rt2776/cnv_espresso/images/false/splits/'\n",
    "output_true_image_splits_dir   = '/home/rt2776/cnv_espresso/images/true/splits/'\n",
    "\n",
    "target_group = 3 # the number of targets per group\n",
    "color_del = 'green'\n",
    "color_dup = 'red'\n",
    "\n",
    "if not os.path.exists(output_false_image_dir):\n",
    "        os.makedirs(output_false_image_dir)\n",
    "if not os.path.exists(output_true_image_dir):\n",
    "        os.makedirs(output_true_image_dir)\n",
    "if not os.path.exists(output_false_image_splits_dir):\n",
    "        os.makedirs(output_false_image_splits_dir)\n",
    "if not os.path.exists(output_true_image_splits_dir):\n",
    "        os.makedirs(output_true_image_splits_dir)"
   ]
  },
  {
   "cell_type": "markdown",
   "metadata": {},
   "source": [
    "## Functions"
   ]
  },
  {
   "cell_type": "code",
   "execution_count": 4,
   "metadata": {},
   "outputs": [],
   "source": [
    "def loadNormRD(RD_norm_dir, sampleID):\n",
    "    RD_norm_file = RD_norm_dir+sampleID+'.cov.bed.norm.gz'\n",
    "    RD_norm_data = pd.read_table(RD_norm_file,low_memory=False,header=None,\n",
    "                             names=['chr', 'start', 'end', 'GC', 'RD_raw', 'RD_norm'])\n",
    "    return RD_norm_data"
   ]
  },
  {
   "cell_type": "code",
   "execution_count": 50,
   "metadata": {},
   "outputs": [],
   "source": [
    "def fetchRDdata(RD_data, cnv_chr, beginPos, endPos, target_group):\n",
    "    RD_fetched_data = RD_data[(RD_data[\"chr\"] == str(cnv_chr)) & (RD_data[\"start\"] >= beginPos) & (RD_data[\"end\"] <= endPos)]\n",
    "    # add a new column as target groups\n",
    "    RD_fetched_data_tmp = RD_fetched_data.copy()\n",
    "    RD_fetched_data_tmp.loc[:, 'target_group'] = [val for val in np.arange(1,math.ceil((len(RD_fetched_data_tmp)/target_group))+1) for i in range(target_group)][0:len(RD_fetched_data_tmp)]\n",
    "    RD_fetched_data = RD_fetched_data_tmp\n",
    "    del RD_fetched_data_tmp\n",
    "    return RD_fetched_data"
   ]
  },
  {
   "cell_type": "code",
   "execution_count": 6,
   "metadata": {},
   "outputs": [],
   "source": [
    "def loadRefSamplesID(ref_samples_dir, sampleID):\n",
    "    ref_samples_file = ref_samples_dir+sampleID+'.ref.samples.txt.bz2'\n",
    "    ref_samplesID = pd.read_table(ref_samples_file,low_memory=False,header=None, sep=' ',\n",
    "                             names=['sampleID', 'r2'])\n",
    "    return ref_samplesID"
   ]
  },
  {
   "cell_type": "code",
   "execution_count": 7,
   "metadata": {},
   "outputs": [],
   "source": [
    "def fetchRefRDdata(ref_samples_dir, sampleID, cnv_chr, cnv_start, cnv_end, target_group):\n",
    "    # load reference sample ID\n",
    "    ref_samples_df = loadRefSamplesID(ref_samples_dir, sampleID)\n",
    "    # load RD normalized data and fetch RD given the cnv region for each reference sample\n",
    "    reference_RD_df = pd.DataFrame(columns=['chr', 'start', 'end', 'GC', 'RD_raw', 'RD_norm', 'sample'])\n",
    "    for index, row in ref_samples_df.iterrows():  \n",
    "        ref_sampleID = row[0]\n",
    "        ref_RDnorm = loadNormRD(RD_norm_dir, ref_sampleID)\n",
    "        ref_RD_cnv_region = fetchRDdata(ref_RDnorm, cnv_chr, cnv_start, cnv_end, target_group)\n",
    "        # add a new column as sampleID\n",
    "        RD_cnv_region_tmp = ref_RD_cnv_region.copy()\n",
    "        RD_cnv_region_tmp.loc[:, 'sample'] = [ref_sampleID]*len(ref_RD_cnv_region)\n",
    "        ref_RD_cnv_region = RD_cnv_region_tmp\n",
    "        del RD_cnv_region_tmp\n",
    "        # combine results\n",
    "        reference_RD_df = reference_RD_df.append(ref_RD_cnv_region)\n",
    "    return reference_RD_df"
   ]
  },
  {
   "cell_type": "code",
   "execution_count": 8,
   "metadata": {},
   "outputs": [],
   "source": [
    "def fetch_colName(keyWord_list, colName_list):\n",
    "    for keyWord in keyWord_list:\n",
    "        if keyWord in colName_list:\n",
    "            return keyWord\n",
    "        else:\n",
    "            keyWord = None\n",
    "    return keyWord"
   ]
  },
  {
   "cell_type": "markdown",
   "metadata": {},
   "source": [
    "## Processing"
   ]
  },
  {
   "cell_type": "code",
   "execution_count": 9,
   "metadata": {},
   "outputs": [],
   "source": [
    "## CNV info\n",
    "cnv_data_df = pd.read_table(training_set_true_file, header=0)"
   ]
  },
  {
   "cell_type": "code",
   "execution_count": 10,
   "metadata": {},
   "outputs": [],
   "source": [
    "## Parse header\n",
    "cnv_data_header = cnv_data_df.columns.tolist()\n",
    "col_sampleID  = cnv_data_header.index(fetch_colName(cnv_data_header,SAMPLE))\n",
    "col_cnv_chr   = cnv_data_header.index(fetch_colName(cnv_data_header,CNV_CHR))\n",
    "col_cnv_start = cnv_data_header.index(fetch_colName(cnv_data_header,CNV_START))\n",
    "col_cnv_end   = cnv_data_header.index(fetch_colName(cnv_data_header,CNV_END))\n",
    "col_cnv_type  = cnv_data_header.index(fetch_colName(cnv_data_header,CNV_TYPE))\n",
    "col_cnv_num_targets = cnv_data_header.index(fetch_colName(cnv_data_header,NUM_TARGETS))\n",
    "col_cnv_label = cnv_data_header.index(fetch_colName(cnv_data_header,CNV_LABEL))"
   ]
  },
  {
   "cell_type": "code",
   "execution_count": 54,
   "metadata": {},
   "outputs": [
    {
     "name": "stdout",
     "output_type": "stream",
     "text": [
      "Illustrating:  1 __ SP0000027 1 1450683 1512690 DEL 32\n",
      "[Step1] Loaded normalized RD for SP0000027, there are 214408 #windows of RD signal.\n",
      "[Step2] Fetched 32 capture windows based on CNV boundary.\n",
      "[Step3] Fetched RD data for reference samples.\n",
      "Illustrate subimage 1/11 ... \n",
      "Illustrate subimage 2/11 ... \n",
      "Illustrate subimage 3/11 ... \n",
      "Illustrate subimage 4/11 ... \n",
      "Illustrate subimage 5/11 ... \n",
      "Illustrate subimage 6/11 ... \n",
      "Illustrate subimage 7/11 ... \n",
      "Illustrate subimage 8/11 ... \n",
      "Illustrate subimage 9/11 ... \n",
      "Illustrate subimage 10/11 ... \n",
      "Illustrate subimage 11/11 ... \n",
      "Illustrating:  2 __ SP0000027 19 46120329 46124649 DEL 4\n",
      "[Step1] Loaded normalized RD for SP0000027, there are 214408 #windows of RD signal.\n",
      "[Step2] Fetched 4 capture windows based on CNV boundary.\n",
      "[Step3] Fetched RD data for reference samples.\n",
      "Illustrate subimage 1/2 ... \n",
      "Illustrate subimage 2/2 ... \n",
      "Illustrating:  3 __ SP0000027 11 95835289 95923954 DUP 17\n",
      "[Step1] Loaded normalized RD for SP0000027, there are 214408 #windows of RD signal.\n",
      "[Step2] Fetched 17 capture windows based on CNV boundary.\n",
      "[Step3] Fetched RD data for reference samples.\n",
      "Illustrate subimage 1/6 ... \n",
      "Illustrate subimage 2/6 ... \n",
      "Illustrate subimage 3/6 ... \n",
      "Illustrate subimage 4/6 ... \n",
      "Illustrate subimage 5/6 ... \n",
      "Illustrate subimage 6/6 ... \n",
      "Illustrating:  4 __ SP0000027 12 7869862 7936037 DUP 17\n",
      "[Step1] Loaded normalized RD for SP0000027, there are 214408 #windows of RD signal.\n",
      "[Step2] Fetched 17 capture windows based on CNV boundary.\n",
      "[Step3] Fetched RD data for reference samples.\n",
      "Illustrate subimage 1/6 ... \n",
      "Illustrate subimage 2/6 ... \n",
      "Illustrate subimage 3/6 ... \n",
      "Illustrate subimage 4/6 ... \n",
      "Illustrate subimage 5/6 ... \n",
      "Illustrate subimage 6/6 ... \n"
     ]
    }
   ],
   "source": [
    "for index, row in cnv_data_df.iterrows(): \n",
    "#     row = next(cnv_data_df.iterrows())[1]\n",
    "#     index = 1\n",
    "    sampleID  = row[col_sampleID]\n",
    "    cnv_chr   = row[col_cnv_chr]\n",
    "    cnv_start = np.int(row[col_cnv_start])\n",
    "    cnv_end   = np.int(row[col_cnv_end])\n",
    "    cnv_type  = row[col_cnv_type]\n",
    "    cnv_num_targets = row[col_cnv_num_targets]\n",
    "    cnv_label = row[col_cnv_label]\n",
    "    case_sample_color = color_del if cnv_type == 'DEL' else color_dup\n",
    "    \n",
    "    if cnv_label == 0:\n",
    "        output_image_dir = output_false_image_dir\n",
    "        output_image_splits_dir = output_false_image_splits_dir\n",
    "    elif cnv_label == 1: \n",
    "        output_image_dir = output_true_image_dir\n",
    "        output_image_splits_dir = output_true_image_splits_dir\n",
    "    else:\n",
    "        print(\"cnv_label error?\", cnv_label)\n",
    "        pdb.set_trace()\n",
    "    print(\"Illustrating: \", index+1,\"__\", sampleID, cnv_chr, cnv_start, cnv_end, cnv_type, cnv_num_targets)\n",
    "\n",
    "    ## Import RD data info\n",
    "    print(\"[Step1] Loading normalized RD for %s, there are %d #windows of RD signal ...\"%(sampleID, len(RD_norm_data)))\n",
    "    RD_norm_data = loadNormRD(RD_norm_dir, sampleID)\n",
    "    \n",
    "    ## Fetch Read depth data for case sample in terms of CNV boundary\n",
    "    print(\"[Step2] Fetching %d capture windows based on CNV boundary ...\"%len(RD_cnv_region))\n",
    "    RD_cnv_region = fetchRDdata(RD_norm_data, cnv_chr, cnv_start, cnv_end, target_group)\n",
    "\n",
    "    ## Fetch Read depth data for reference samples in terms of CNV boundary\n",
    "    print(\"[Step3] Fetching RD data for reference samples ...\")\n",
    "    reference_RD_df = fetchRefRDdata(ref_samples_dir, sampleID, cnv_chr, cnv_start, cnv_end, target_group)\n",
    "    \n",
    "    ## plot whole cnv\n",
    "    print(\"[Step4] Illustrating an image for the whole CNV ...\")\n",
    "    title_info = sampleID+\" \"+str(cnv_chr)+\":\"+str(cnv_start)+\"-\"+str(cnv_end)+\" \"+cnv_type +\" \"+ str((cnv_end-cnv_start)/1000) + 'kb'+\" #targets:\"+str(cnv_num_targets) + \" #wins:\" + str(len(RD_cnv_region))\n",
    "    image_file = str(index+1)+\"_\"+sampleID+\"_\"+str(cnv_chr)+\"_\"+str(cnv_start)+\"_\"+str(cnv_end)+\"_\"+cnv_type+ \"_\"+str(cnv_num_targets)+\"tgs_\"+str(len(RD_cnv_region)) +\"wins.png\"\n",
    "    fig = plt.figure(dpi=150,figsize=(10, 7)) \n",
    "    ax_rd = fig.subplots(nrows=1, ncols=1)\n",
    "    ### plot reference samples\n",
    "    for sample_reader in reference_RD_df[\"sample\"].unique():\n",
    "                ref_sample_df = reference_RD_df[reference_RD_df[\"sample\"]==sample_reader]\n",
    "                ax_rd.plot((ref_sample_df[\"start\"]+ref_sample_df[\"end\"])/2, ref_sample_df[\"RD_norm\"], color='grey', marker='.', linewidth=0.2)\n",
    "    ### plot case sample\n",
    "    ax_rd.plot((RD_cnv_region[\"start\"]+RD_cnv_region[\"end\"])/2, RD_cnv_region[\"RD_norm\"],color=case_sample_color , marker='o', linewidth=2)\n",
    "    ax_rd.set_title(title_info)\n",
    "    plt.savefig(output_image_dir+image_file)\n",
    "    plt.close() \n",
    "    \n",
    "    ## plot split CNV for each three targets\n",
    "    print(\"[Step5] Illustrating images for the CNV splited by each %d windows ...\"%target_group)\n",
    "    for group_id in np.unique(RD_cnv_region['target_group']):\n",
    "        ## if targets equal to required number (3 by default)\n",
    "        if len(RD_cnv_region[RD_cnv_region['target_group']==group_id]) == target_group:\n",
    "            title_split_info = sampleID+\" \"+str(cnv_chr)+\":\"+str(cnv_start)+\"-\"+str(cnv_end)+\" \"+cnv_type +\" \"+ str((cnv_end-cnv_start)/1000) + 'kb' \\\n",
    "                                +\" #targets:\"+str(cnv_num_targets) + \" #wins:\" + str(len(RD_cnv_region)) +\" Group:\"+ str(int(len(RD_cnv_region)/target_group))+\"-\"+ str(group_id)\n",
    "            image_split_file = str(index+1)+\"_\"+sampleID+\"_\"+str(cnv_chr)+\"_\"+str(cnv_start)+\"_\"+str(cnv_end)+\"_\"+cnv_type+ \"_\"+str(cnv_num_targets)+ \\\n",
    "                                \"tgs_\"+str(len(RD_cnv_region)) +\"wins_splits\"+str(int(len(RD_cnv_region)/target_group))+\"_\"+ str(group_id) +\".png\"\n",
    "            fig = plt.figure(dpi=150,figsize=(7, 7)) \n",
    "            ax_rd = fig.subplots(nrows=1, ncols=1)\n",
    "\n",
    "            RD_cnv_region_split = RD_cnv_region[RD_cnv_region[\"target_group\"]==group_id]\n",
    "            reference_RD_df_split = reference_RD_df[reference_RD_df[\"target_group\"]==group_id]\n",
    "            # plot reference samples\n",
    "            for sample_reader in reference_RD_df_split[\"sample\"].unique():\n",
    "                ref_sample_df = reference_RD_df_split[reference_RD_df_split[\"sample\"]==sample_reader]\n",
    "                ax_rd.plot((ref_sample_df[\"start\"]+ref_sample_df[\"end\"])/2, ref_sample_df[\"RD_norm\"], color = 'grey', marker='.', linewidth=0.2)\n",
    "            # plot case sample\n",
    "            ax_rd.plot((RD_cnv_region_split[\"start\"]+RD_cnv_region_split[\"end\"])/2, RD_cnv_region_split[\"RD_norm\"], color=case_sample_color, marker='o', linewidth=2)\n",
    "            ax_rd.set_title(title_split_info)\n",
    "            plt.savefig(output_image_splits_dir+image_split_file)\n",
    "            plt.close()"
   ]
  },
  {
   "cell_type": "code",
   "execution_count": null,
   "metadata": {},
   "outputs": [],
   "source": [
    "!jupyter nbconvert --to script generate_images.ipynb"
   ]
  },
  {
   "cell_type": "code",
   "execution_count": 16,
   "metadata": {},
   "outputs": [],
   "source": [
    "## Seaborn version\n",
    "# for index, row in cnv_data_df.iterrows(): \n",
    "#     if index > 1:\n",
    "#         break\n",
    "#     sampleID  = row[col_sampleID]\n",
    "#     cnv_chr   = row[col_cnv_chr]\n",
    "#     cnv_start = np.int(row[col_cnv_start])\n",
    "#     cnv_end   = np.int(row[col_cnv_end])\n",
    "#     cnv_type  = row[col_cnv_type]\n",
    "#     cnv_num_targets = row[col_cnv_num_targets]\n",
    "#     cnv_label = row[col_cnv_label]\n",
    "#     if cnv_label == 0:\n",
    "#         output_image_dir = output_false_image_dir\n",
    "#     elif cnv_label == 1: \n",
    "#         output_image_dir = output_true_image_dir\n",
    "#     else:\n",
    "#         print(\"cnv_label error?\", cnv_label)\n",
    "#         pdb.set_trace()\n",
    "        \n",
    "#     print(\"Illustrating: \", index+1,\"_____\", sampleID, cnv_chr, cnv_start, cnv_end, cnv_type,cnv_num_targets)\n",
    "    \n",
    "#     ## Import RD data info\n",
    "#     RD_norm_data = loadNormRD(RD_norm_dir, sampleID)\n",
    "#     print(\"[Step1] Loaded normalized RD for %s, there are %d #windows of RD signal.\"%(sampleID, len(RD_norm_data)))\n",
    "\n",
    "#     ## Fetch Read depth data for case sample in terms of CNV boundary\n",
    "#     RD_cnv_region = fetchRDdata(RD_norm_data, cnv_chr, cnv_start, cnv_end, target_group)\n",
    "#     print(\"[Step2] Fetched %d capture windows based on CNV boundary.\"%len(RD_cnv_region))\n",
    "    \n",
    "#     ## Fetch Read depth data for reference samples in terms of CNV boundary\n",
    "#     reference_RD_df = fetchRefRDdata(ref_samples_dir, sampleID, cnv_chr, cnv_start, cnv_end, target_group)\n",
    "#     print(\"[Step3] Fetched RD data for reference samples.\")\n",
    "\n",
    "#     ## Generate images\n",
    "#     title_info = sampleID+\" \"+str(cnv_chr)+\":\"+str(cnv_start)+\"-\"+str(cnv_end)+\" \"+cnv_type+ \" #targets:\"+str(cnv_num_targets)\n",
    "#     image_file = str(index+1)+\"_\"+sampleID+\"_\"+str(cnv_chr)+\"_\"+str(cnv_start)+\"_\"+str(cnv_end)+\"_\"+cnv_type+ \"_\"+str(cnv_num_targets)+\"tgs.png\"\n",
    "#     plt.figure(dpi=200,figsize=(10, 7)) \n",
    "#     sns.set_theme(style=\"darkgrid\")\n",
    "#     sns.lineplot(data=reference_RD_df, x=(reference_RD_df[\"start\"]+reference_RD_df[\"end\"])/2, \n",
    "#                  y=\"RD_norm\", units=\"sample\",color=\".7\", estimator=None, marker='.', linewidth=1)\n",
    "#     sns.lineplot(data=RD_cnv_region, x=(RD_cnv_region[\"start\"]+RD_cnv_region[\"end\"])/2, \n",
    "#                  y=\"RD_norm\", marker='o', linewidth=2).set_title(title_info)\n",
    "#     plt.savefig(output_image_dir+image_file)\n",
    "#     print(title_info)\n",
    "#     plt.close()\n",
    "#     print(\"______________________________________________________\")"
   ]
  },
  {
   "cell_type": "code",
   "execution_count": null,
   "metadata": {},
   "outputs": [],
   "source": []
  }
 ],
 "metadata": {
  "kernelspec": {
   "display_name": "Python 3",
   "language": "python",
   "name": "python3"
  },
  "language_info": {
   "codemirror_mode": {
    "name": "ipython",
    "version": 3
   },
   "file_extension": ".py",
   "mimetype": "text/x-python",
   "name": "python",
   "nbconvert_exporter": "python",
   "pygments_lexer": "ipython3",
   "version": "3.7.6"
  }
 },
 "nbformat": 4,
 "nbformat_minor": 4
}
