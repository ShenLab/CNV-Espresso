{
 "cells": [
  {
   "cell_type": "markdown",
   "metadata": {},
   "source": [
    "# Select reference samples\n",
    "- 2020.12.29\n",
    "- Idea：两两样本计算关联系数，填到一个三角阵中。方便后期调用。\n",
    "- 尚未成功"
   ]
  },
  {
   "cell_type": "code",
   "execution_count": 85,
   "metadata": {},
   "outputs": [],
   "source": [
    "import os\n",
    "import numpy as np\n",
    "import function as df\n",
    "import itertools\n",
    "from datetime import datetime "
   ]
  },
  {
   "cell_type": "code",
   "execution_count": 44,
   "metadata": {},
   "outputs": [],
   "source": [
    "sample_list_file='/home/rt2776/cnv_espresso/source/spark_sample_27270.txt'\n",
    "sample_rd_dir='/home/rt2776/cnv_espresso/data/norm'"
   ]
  },
  {
   "cell_type": "code",
   "execution_count": 45,
   "metadata": {},
   "outputs": [],
   "source": [
    "sample_list = df.fileToList(sample_list_file)"
   ]
  },
  {
   "cell_type": "code",
   "execution_count": 49,
   "metadata": {},
   "outputs": [
    {
     "data": {
      "text/plain": [
       "'SP0000034'"
      ]
     },
     "execution_count": 49,
     "metadata": {},
     "output_type": "execute_result"
    }
   ],
   "source": [
    "sample_list[0:5]\n",
    "sample_list[3]"
   ]
  },
  {
   "cell_type": "code",
   "execution_count": 5,
   "metadata": {},
   "outputs": [],
   "source": [
    "RD_matrix = np.zeros([len(sampleID), len(sampleID)], dtype=np.float)"
   ]
  },
  {
   "cell_type": "code",
   "execution_count": 6,
   "metadata": {},
   "outputs": [
    {
     "data": {
      "text/plain": [
       "(27270, 27270)"
      ]
     },
     "execution_count": 6,
     "metadata": {},
     "output_type": "execute_result"
    }
   ],
   "source": [
    "RD_matrix.shape"
   ]
  },
  {
   "cell_type": "code",
   "execution_count": 19,
   "metadata": {},
   "outputs": [],
   "source": [
    "comb_tuple = itertools.combinations(sampleID, 2)"
   ]
  },
  {
   "cell_type": "code",
   "execution_count": 27,
   "metadata": {},
   "outputs": [
    {
     "data": {
      "text/plain": [
       "itertools.combinations"
      ]
     },
     "execution_count": 27,
     "metadata": {},
     "output_type": "execute_result"
    }
   ],
   "source": [
    "type(comb_tuple)"
   ]
  },
  {
   "cell_type": "code",
   "execution_count": 28,
   "metadata": {},
   "outputs": [],
   "source": [
    "num = 0\n",
    "sample_comb_list = []\n",
    "for comb in comb_tuple:\n",
    "    num += 1\n",
    "    sample_comb_list.append(comb)\n",
    "    print(num,comb,type(comb))"
   ]
  },
  {
   "cell_type": "code",
   "execution_count": 31,
   "metadata": {},
   "outputs": [
    {
     "data": {
      "text/plain": [
       "[('SP0000002', 'SP0000027'),\n",
       " ('SP0000002', 'SP0000034'),\n",
       " ('SP0000002', 'SP0000051'),\n",
       " ('SP0000002', 'SP0000063')]"
      ]
     },
     "execution_count": 31,
     "metadata": {},
     "output_type": "execute_result"
    }
   ],
   "source": [
    "sample_comb_list[1:5]"
   ]
  },
  {
   "cell_type": "code",
   "execution_count": 39,
   "metadata": {},
   "outputs": [
    {
     "data": {
      "text/plain": [
       "'/home/rt2776/cnv_espresso/data/norm/SP0000002.cov.bed.norm.bz2'"
      ]
     },
     "execution_count": 39,
     "metadata": {},
     "output_type": "execute_result"
    }
   ],
   "source": [
    "case_sample = sample_list[0]\n",
    "case_sample_rd_file = sample_rd_dir + '/'+ case_sample +'.cov.bed.norm.bz2'\n",
    "case_sample_rd_file"
   ]
  },
  {
   "cell_type": "code",
   "execution_count": 50,
   "metadata": {},
   "outputs": [
    {
     "data": {
      "text/plain": [
       "'/home/rt2776/cnv_espresso/data/norm/SP0000003.cov.bed.norm.bz2'"
      ]
     },
     "execution_count": 50,
     "metadata": {},
     "output_type": "execute_result"
    }
   ],
   "source": [
    "ref_sample = sample_list[1]\n",
    "ref_sample_rd_file = sample_rd_dir + '/'+ ref_sample +'.cov.bed.norm.bz2'\n",
    "ref_sample_rd_file"
   ]
  },
  {
   "cell_type": "code",
   "execution_count": 51,
   "metadata": {},
   "outputs": [],
   "source": [
    "rc = np.loadtxt(case_sample_rd_file, dtype=np.float, delimiter=\"\\t\", skiprows=0, usecols=[5])\n",
    "rc_ref = np.loadtxt(ref_sample_rd_file, dtype=np.float, delimiter=\"\\t\", skiprows=0, usecols=[5])"
   ]
  },
  {
   "cell_type": "code",
   "execution_count": 52,
   "metadata": {},
   "outputs": [
    {
     "data": {
      "text/plain": [
       "array([0.301659, 0.      , 0.      , ..., 0.      , 0.      , 0.      ])"
      ]
     },
     "execution_count": 52,
     "metadata": {},
     "output_type": "execute_result"
    }
   ],
   "source": [
    "rc\n",
    "rc_ref"
   ]
  },
  {
   "cell_type": "code",
   "execution_count": 70,
   "metadata": {},
   "outputs": [],
   "source": [
    "corr = np.corrcoef(rc,rc_ref)"
   ]
  },
  {
   "cell_type": "code",
   "execution_count": 96,
   "metadata": {},
   "outputs": [
    {
     "name": "stdout",
     "output_type": "stream",
     "text": [
      "10 SP0000071 Exist [0. 0. 0. ... 0. 0. 0.]\n",
      "20 SP0000140 Exist [0.158682 0.       0.       ... 0.       0.       0.      ]\n",
      "30 SP0001282 Exist [0.15276 0.      0.      ... 0.      0.      0.     ]\n",
      "40 SP0001661 Exist [0.206773 0.       0.       ... 0.       0.       0.      ]\n",
      "50 SP0000349 Exist [0. 0. 0. ... 0. 0. 0.]\n",
      "60 SP0000494 Exist [0.273135 0.       0.       ... 0.       0.       0.      ]\n",
      "70 SP0013406 Exist [0.003803 0.       0.       ... 0.       0.       0.      ]\n",
      "80 SP0000882 Exist [0.203371 0.       0.       ... 0.       0.       0.      ]\n",
      "90 SP0001059 Exist [0. 0. 0. ... 0. 0. 0.]\n",
      "100 SP0001040 Exist [0.175686 0.       0.       ... 0.       0.       0.      ]\n",
      "100\n"
     ]
    },
    {
     "data": {
      "text/plain": [
       "93"
      ]
     },
     "execution_count": 96,
     "metadata": {},
     "output_type": "execute_result"
    }
   ],
   "source": [
    "a=datetime.now() \n",
    "num = 0\n",
    "for sampleID in sample_list[0:100]:\n",
    "    num += 1\n",
    "    sample_rd_file = sample_rd_dir + '/'+ sampleID +'.cov.bed.norm.bz2'\n",
    "    rc = np.loadtxt(sample_rd_file, dtype=np.float, delimiter=\"\\t\", skiprows=0, usecols=[5])\n",
    "    if not os.path.exists(sample_rd_file):\n",
    "        file_condition = \"False\"\n",
    "    else:\n",
    "        file_condition = \"Exist\"\n",
    "    if(num%10==0):\n",
    "        print(num, sampleID,file_condition,rc)\n",
    "print(num)\n",
    "b=datetime.now() \n",
    "(b-a).seconds"
   ]
  },
  {
   "cell_type": "markdown",
   "metadata": {},
   "source": [
    "打开100个文件需要93秒（不包括cor的计算），即1秒中1个文件，那么27270个样本两两配对计算三角阵 `sum = n*(1+n)/2=27270*(1+27270)/2=371840085`次计算；\n",
    "371840085秒/100节点/3600小时/24天=43天，太慢了！"
   ]
  },
  {
   "cell_type": "code",
   "execution_count": null,
   "metadata": {},
   "outputs": [],
   "source": []
  },
  {
   "cell_type": "code",
   "execution_count": 10,
   "metadata": {},
   "outputs": [],
   "source": [
    "np.save(\"RD_matrix\",RD_matrix)"
   ]
  }
 ],
 "metadata": {
  "kernelspec": {
   "display_name": "Python 3",
   "language": "python",
   "name": "python3"
  },
  "language_info": {
   "codemirror_mode": {
    "name": "ipython",
    "version": 3
   },
   "file_extension": ".py",
   "mimetype": "text/x-python",
   "name": "python",
   "nbconvert_exporter": "python",
   "pygments_lexer": "ipython3",
   "version": "3.7.6"
  }
 },
 "nbformat": 4,
 "nbformat_minor": 4
}
